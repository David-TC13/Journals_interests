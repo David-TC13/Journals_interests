{
 "cells": [
  {
   "cell_type": "code",
   "execution_count": 1,
   "id": "39389f08",
   "metadata": {},
   "outputs": [],
   "source": [
    "import pandas as pd\n",
    "import requests\n",
    "\n",
    "from bs4 import BeautifulSoup\n",
    "import re\n",
    "\n",
    "from nltk.stem import WordNetLemmatizer, PorterStemmer, SnowballStemmer\n",
    "import nltk\n",
    "from nltk.tokenize import word_tokenize\n",
    "from nltk.corpus import stopwords\n",
    "from collections import Counter\n"
   ]
  },
  {
   "cell_type": "code",
   "execution_count": 17,
   "id": "ee0d49a0",
   "metadata": {},
   "outputs": [],
   "source": [
    "def preprocess(df_raw):\n",
    "    raw_list= df_raw['article']\n",
    "    list_text = []\n",
    "    \n",
    "    stop_words_file = 'english.txt'\n",
    "    stop_words = []\n",
    "\n",
    "    with open(stop_words_file, \"r\") as f:\n",
    "        for line in f:\n",
    "            stop_words.extend(line.split()) \n",
    "    for raw_text in raw_list:\n",
    "        stop_words = stop_words  \n",
    "        letters_only_text = re.sub(\"[^a-zA-Z]\", \" \", raw_text)\n",
    "\n",
    "        words = letters_only_text.lower().split()\n",
    "\n",
    "        cleaned_words = []\n",
    "\n",
    "        for word in words:\n",
    "            if word not in stop_words:\n",
    "                cleaned_words.append(word)\n",
    "        cleaned_text = \" \".join(cleaned_words)\n",
    "        list_text.append(cleaned_text)\n",
    "\n",
    "    dict_words = {}\n",
    "\n",
    "    for i, text in enumerate(list_text):\n",
    "        tokens = word_tokenize(text)\n",
    "        stop_words = set(stopwords.words(\"english\"))\n",
    "        words = [word.lower() for word in tokens if word.isalpha() and word.lower() not in stop_words]\n",
    "        word_freq = Counter(words)\n",
    "        sorted_words = sorted(word_freq.items(), key=lambda x: x[1], reverse=True)\n",
    "        \n",
    "        dict_word = {}\n",
    "        for word, freq in sorted_words[:200]:\n",
    "            dict_word[word] = freq\n",
    "        dict_words[i] = dict_word\n",
    "    df_words=pd.DataFrame(dict_words)\n",
    "\n",
    "    df_words= df_words.transpose()\n",
    "    \n",
    "    sums = df_words.sum(axis=0).sort_values(ascending=False)\n",
    "    df_words = df_words[sums.index]\n",
    "    \n",
    "    df_words= df_words.iloc[:, :10]\n",
    "    df_together=pd.merge(df_raw,df_words, left_index=True,  right_index=True)\n",
    "    return df_together"
   ]
  },
  {
   "cell_type": "code",
   "execution_count": 18,
   "id": "3b5d65ab",
   "metadata": {},
   "outputs": [],
   "source": [
    "df_bbc_china=pd.read_csv('data/rt_united_states.csv')"
   ]
  },
  {
   "cell_type": "code",
   "execution_count": 19,
   "id": "a9db7a41",
   "metadata": {},
   "outputs": [],
   "source": [
    "df_together= preprocess(df_bbc_china).sample()"
   ]
  },
  {
   "cell_type": "code",
   "execution_count": 20,
   "id": "a10da49d",
   "metadata": {},
   "outputs": [
    {
     "data": {
      "text/plain": [
       "title         0\n",
       "article       0\n",
       "link          0\n",
       "year          0\n",
       "month         0\n",
       "day           0\n",
       "military      1\n",
       "russia        1\n",
       "ukraine       1\n",
       "china         1\n",
       "washington    1\n",
       "president     1\n",
       "russian       1\n",
       "war           1\n",
       "states        1\n",
       "united        1\n",
       "dtype: int64"
      ]
     },
     "execution_count": 20,
     "metadata": {},
     "output_type": "execute_result"
    }
   ],
   "source": [
    "df_together.isna().sum()"
   ]
  },
  {
   "cell_type": "code",
   "execution_count": null,
   "id": "3f1a74e3",
   "metadata": {},
   "outputs": [],
   "source": []
  },
  {
   "cell_type": "code",
   "execution_count": null,
   "id": "281fa7cd",
   "metadata": {},
   "outputs": [],
   "source": []
  }
 ],
 "metadata": {
  "kernelspec": {
   "display_name": "ironhack",
   "language": "python",
   "name": "ironhack"
  },
  "language_info": {
   "codemirror_mode": {
    "name": "ipython",
    "version": 3
   },
   "file_extension": ".py",
   "mimetype": "text/x-python",
   "name": "python",
   "nbconvert_exporter": "python",
   "pygments_lexer": "ipython3",
   "version": "3.9.15"
  },
  "toc": {
   "base_numbering": 1,
   "nav_menu": {},
   "number_sections": true,
   "sideBar": true,
   "skip_h1_title": false,
   "title_cell": "Table of Contents",
   "title_sidebar": "Contents",
   "toc_cell": false,
   "toc_position": {},
   "toc_section_display": true,
   "toc_window_display": false
  }
 },
 "nbformat": 4,
 "nbformat_minor": 5
}
