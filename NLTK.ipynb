{
 "cells": [
  {
   "cell_type": "code",
   "execution_count": 1,
   "id": "39389f08",
   "metadata": {},
   "outputs": [],
   "source": [
    "import pandas as pd\n",
    "import requests\n",
    "\n",
    "from bs4 import BeautifulSoup\n",
    "import re\n",
    "\n",
    "from nltk.stem import WordNetLemmatizer, PorterStemmer, SnowballStemmer\n",
    "import nltk\n",
    "from nltk.tokenize import word_tokenize\n",
    "from nltk.corpus import stopwords\n",
    "from collections import Counter\n"
   ]
  },
  {
   "cell_type": "code",
   "execution_count": 4,
   "id": "ee0d49a0",
   "metadata": {},
   "outputs": [],
   "source": [
    "def preprocess(df_raw):\n",
    "    raw_list= df_raw['article']\n",
    "    list_text = []\n",
    "\n",
    "    stop_words_file = 'english.txt'\n",
    "    stop_words = []\n",
    "\n",
    "    with open(stop_words_file, \"r\") as f:\n",
    "        for line in f:\n",
    "            stop_words.extend(line.split()) \n",
    "    for raw_text in raw_list:\n",
    "        stop_words = stop_words  \n",
    "        letters_only_text = re.sub(\"[^a-zA-Z]\", \" \", raw_text)\n",
    "\n",
    "        words = letters_only_text.lower().split()\n",
    "\n",
    "        cleaned_words = []\n",
    "\n",
    "        for word in words:\n",
    "            if word not in stop_words:\n",
    "                cleaned_words.append(word)\n",
    "        cleaned_text = \" \".join(cleaned_words)\n",
    "        list_text.append(cleaned_text)\n",
    "\n",
    "    dict_words = {}\n",
    "\n",
    "    for i, text in enumerate(list_text):\n",
    "        tokens = word_tokenize(text)\n",
    "        stop_words = set(stopwords.words(\"english\"))\n",
    "        words = [word.lower() for word in tokens if word.isalpha() and word.lower() not in stop_words]\n",
    "        word_freq = Counter(words)\n",
    "        sorted_words = sorted(word_freq.items(), key=lambda x: x[1], reverse=True)\n",
    "\n",
    "        list_word = []\n",
    "        for word, freq in sorted_words[:20]:\n",
    "            list_word.append(word)\n",
    "        dict_word={'word':list_word}\n",
    "\n",
    "        dict_words[i] = dict_word\n",
    "\n",
    "\n",
    "    df_words=pd.DataFrame(dict_words).T\n",
    "    df_together=pd.merge(df_raw,df_words, left_index=True,  right_index=True)\n",
    "    return df_together"
   ]
  }
 ],
 "metadata": {
  "kernelspec": {
   "display_name": "ironhack",
   "language": "python",
   "name": "ironhack"
  },
  "language_info": {
   "codemirror_mode": {
    "name": "ipython",
    "version": 3
   },
   "file_extension": ".py",
   "mimetype": "text/x-python",
   "name": "python",
   "nbconvert_exporter": "python",
   "pygments_lexer": "ipython3",
   "version": "3.9.15"
  },
  "toc": {
   "base_numbering": 1,
   "nav_menu": {},
   "number_sections": true,
   "sideBar": true,
   "skip_h1_title": false,
   "title_cell": "Table of Contents",
   "title_sidebar": "Contents",
   "toc_cell": false,
   "toc_position": {},
   "toc_section_display": true,
   "toc_window_display": false
  }
 },
 "nbformat": 4,
 "nbformat_minor": 5
}
