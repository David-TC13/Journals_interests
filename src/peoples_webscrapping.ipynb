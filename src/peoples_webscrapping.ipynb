{
 "cells": [
  {
   "cell_type": "code",
   "execution_count": 1,
   "metadata": {},
   "outputs": [],
   "source": [
    "from selenium import webdriver\n",
    "from selenium.webdriver.common.keys import Keys\n",
    "from selenium.webdriver.common.by import By\n",
    "from selenium.webdriver.support.ui import WebDriverWait\n",
    "from selenium.webdriver.support import expected_conditions as EC\n",
    "from selenium import webdriver\n",
    "from selenium.webdriver.support.ui import Select\n",
    "from datetime import datetime\n",
    "\n",
    "import googletrans\n",
    "\n",
    "import requests\n",
    "from bs4 import BeautifulSoup\n",
    "import re as re\n",
    "import time\n",
    "import pandas as pd\n",
    "import numpy as np\n",
    "\n",
    "import nltk\n",
    "from nltk.sentiment.vader import SentimentIntensityAnalyzer\n",
    "from nltk.corpus import stopwords\n",
    "\n",
    "from wordcloud import WordCloud\n",
    "from langdetect import detect\n",
    "from textblob import TextBlob"
   ]
  },
  {
   "cell_type": "code",
   "execution_count": 2,
   "metadata": {},
   "outputs": [],
   "source": [
    "def url_request(url):\n",
    "    driver = webdriver.Chrome()\n",
    "    driver.get(url)\n",
    "    return driver"
   ]
  },
  {
   "cell_type": "code",
   "execution_count": 3,
   "metadata": {},
   "outputs": [
    {
     "ename": "WebDriverException",
     "evalue": "Message: disconnected: Unable to receive message from renderer\n  (failed to check if window was closed: disconnected: not connected to DevTools)\n  (Session info: chrome=110.0.5481.177)\nStacktrace:\n0   chromedriver                        0x0000000104940138 chromedriver + 4923704\n1   chromedriver                        0x00000001048b89d3 chromedriver + 4368851\n2   chromedriver                        0x0000000104501787 chromedriver + 472967\n3   chromedriver                        0x00000001044e9ce5 chromedriver + 376037\n4   chromedriver                        0x00000001044e987b chromedriver + 374907\n5   chromedriver                        0x00000001044e8af4 chromedriver + 371444\n6   chromedriver                        0x000000010450a122 chromedriver + 508194\n7   chromedriver                        0x0000000104589e5f chromedriver + 1031775\n8   chromedriver                        0x000000010456ed23 chromedriver + 920867\n9   chromedriver                        0x0000000104535a4b chromedriver + 686667\n10  chromedriver                        0x0000000104537044 chromedriver + 692292\n11  chromedriver                        0x000000010490b8fe chromedriver + 4708606\n12  chromedriver                        0x0000000104910e22 chromedriver + 4730402\n13  chromedriver                        0x00000001049196bf chromedriver + 4765375\n14  chromedriver                        0x0000000104911e80 chromedriver + 4734592\n15  chromedriver                        0x00000001048e2975 chromedriver + 4540789\n16  chromedriver                        0x0000000104933e78 chromedriver + 4873848\n17  chromedriver                        0x0000000104933ff5 chromedriver + 4874229\n18  chromedriver                        0x00000001049486de chromedriver + 4957918\n19  libsystem_pthread.dylib             0x00007ff806ff5259 _pthread_start + 125\n20  libsystem_pthread.dylib             0x00007ff806ff0c7b thread_start + 15\n",
     "output_type": "error",
     "traceback": [
      "\u001b[0;31m---------------------------------------------------------------------------\u001b[0m",
      "\u001b[0;31mWebDriverException\u001b[0m                        Traceback (most recent call last)",
      "Input \u001b[0;32mIn [3]\u001b[0m, in \u001b[0;36m<cell line: 1>\u001b[0;34m()\u001b[0m\n\u001b[0;32m----> 1\u001b[0m driver\u001b[38;5;241m=\u001b[39m \u001b[43murl_request\u001b[49m\u001b[43m(\u001b[49m\u001b[38;5;124;43m'\u001b[39;49m\u001b[38;5;124;43mhttp://en.people.cn\u001b[39;49m\u001b[38;5;124;43m'\u001b[39;49m\u001b[43m)\u001b[49m\n",
      "Input \u001b[0;32mIn [2]\u001b[0m, in \u001b[0;36murl_request\u001b[0;34m(url)\u001b[0m\n\u001b[1;32m      1\u001b[0m \u001b[38;5;28;01mdef\u001b[39;00m \u001b[38;5;21murl_request\u001b[39m(url):\n\u001b[1;32m      2\u001b[0m     driver \u001b[38;5;241m=\u001b[39m webdriver\u001b[38;5;241m.\u001b[39mChrome()\n\u001b[0;32m----> 3\u001b[0m     \u001b[43mdriver\u001b[49m\u001b[38;5;241;43m.\u001b[39;49m\u001b[43mget\u001b[49m\u001b[43m(\u001b[49m\u001b[43murl\u001b[49m\u001b[43m)\u001b[49m\n\u001b[1;32m      4\u001b[0m     \u001b[38;5;28;01mreturn\u001b[39;00m driver\n",
      "File \u001b[0;32m~/miniconda3/envs/ironhack/lib/python3.9/site-packages/selenium/webdriver/remote/webdriver.py:449\u001b[0m, in \u001b[0;36mWebDriver.get\u001b[0;34m(self, url)\u001b[0m\n\u001b[1;32m    447\u001b[0m \u001b[38;5;28;01mdef\u001b[39;00m \u001b[38;5;21mget\u001b[39m(\u001b[38;5;28mself\u001b[39m, url: \u001b[38;5;28mstr\u001b[39m) \u001b[38;5;241m-\u001b[39m\u001b[38;5;241m>\u001b[39m \u001b[38;5;28;01mNone\u001b[39;00m:\n\u001b[1;32m    448\u001b[0m     \u001b[38;5;124;03m\"\"\"Loads a web page in the current browser session.\"\"\"\u001b[39;00m\n\u001b[0;32m--> 449\u001b[0m     \u001b[38;5;28;43mself\u001b[39;49m\u001b[38;5;241;43m.\u001b[39;49m\u001b[43mexecute\u001b[49m\u001b[43m(\u001b[49m\u001b[43mCommand\u001b[49m\u001b[38;5;241;43m.\u001b[39;49m\u001b[43mGET\u001b[49m\u001b[43m,\u001b[49m\u001b[43m \u001b[49m\u001b[43m{\u001b[49m\u001b[38;5;124;43m\"\u001b[39;49m\u001b[38;5;124;43murl\u001b[39;49m\u001b[38;5;124;43m\"\u001b[39;49m\u001b[43m:\u001b[49m\u001b[43m \u001b[49m\u001b[43murl\u001b[49m\u001b[43m}\u001b[49m\u001b[43m)\u001b[49m\n",
      "File \u001b[0;32m~/miniconda3/envs/ironhack/lib/python3.9/site-packages/selenium/webdriver/remote/webdriver.py:440\u001b[0m, in \u001b[0;36mWebDriver.execute\u001b[0;34m(self, driver_command, params)\u001b[0m\n\u001b[1;32m    438\u001b[0m response \u001b[38;5;241m=\u001b[39m \u001b[38;5;28mself\u001b[39m\u001b[38;5;241m.\u001b[39mcommand_executor\u001b[38;5;241m.\u001b[39mexecute(driver_command, params)\n\u001b[1;32m    439\u001b[0m \u001b[38;5;28;01mif\u001b[39;00m response:\n\u001b[0;32m--> 440\u001b[0m     \u001b[38;5;28;43mself\u001b[39;49m\u001b[38;5;241;43m.\u001b[39;49m\u001b[43merror_handler\u001b[49m\u001b[38;5;241;43m.\u001b[39;49m\u001b[43mcheck_response\u001b[49m\u001b[43m(\u001b[49m\u001b[43mresponse\u001b[49m\u001b[43m)\u001b[49m\n\u001b[1;32m    441\u001b[0m     response[\u001b[38;5;124m\"\u001b[39m\u001b[38;5;124mvalue\u001b[39m\u001b[38;5;124m\"\u001b[39m] \u001b[38;5;241m=\u001b[39m \u001b[38;5;28mself\u001b[39m\u001b[38;5;241m.\u001b[39m_unwrap_value(response\u001b[38;5;241m.\u001b[39mget(\u001b[38;5;124m\"\u001b[39m\u001b[38;5;124mvalue\u001b[39m\u001b[38;5;124m\"\u001b[39m, \u001b[38;5;28;01mNone\u001b[39;00m))\n\u001b[1;32m    442\u001b[0m     \u001b[38;5;28;01mreturn\u001b[39;00m response\n",
      "File \u001b[0;32m~/miniconda3/envs/ironhack/lib/python3.9/site-packages/selenium/webdriver/remote/errorhandler.py:245\u001b[0m, in \u001b[0;36mErrorHandler.check_response\u001b[0;34m(self, response)\u001b[0m\n\u001b[1;32m    243\u001b[0m         alert_text \u001b[38;5;241m=\u001b[39m value[\u001b[38;5;124m\"\u001b[39m\u001b[38;5;124malert\u001b[39m\u001b[38;5;124m\"\u001b[39m]\u001b[38;5;241m.\u001b[39mget(\u001b[38;5;124m\"\u001b[39m\u001b[38;5;124mtext\u001b[39m\u001b[38;5;124m\"\u001b[39m)\n\u001b[1;32m    244\u001b[0m     \u001b[38;5;28;01mraise\u001b[39;00m exception_class(message, screen, stacktrace, alert_text)  \u001b[38;5;66;03m# type: ignore[call-arg]  # mypy is not smart enough here\u001b[39;00m\n\u001b[0;32m--> 245\u001b[0m \u001b[38;5;28;01mraise\u001b[39;00m exception_class(message, screen, stacktrace)\n",
      "\u001b[0;31mWebDriverException\u001b[0m: Message: disconnected: Unable to receive message from renderer\n  (failed to check if window was closed: disconnected: not connected to DevTools)\n  (Session info: chrome=110.0.5481.177)\nStacktrace:\n0   chromedriver                        0x0000000104940138 chromedriver + 4923704\n1   chromedriver                        0x00000001048b89d3 chromedriver + 4368851\n2   chromedriver                        0x0000000104501787 chromedriver + 472967\n3   chromedriver                        0x00000001044e9ce5 chromedriver + 376037\n4   chromedriver                        0x00000001044e987b chromedriver + 374907\n5   chromedriver                        0x00000001044e8af4 chromedriver + 371444\n6   chromedriver                        0x000000010450a122 chromedriver + 508194\n7   chromedriver                        0x0000000104589e5f chromedriver + 1031775\n8   chromedriver                        0x000000010456ed23 chromedriver + 920867\n9   chromedriver                        0x0000000104535a4b chromedriver + 686667\n10  chromedriver                        0x0000000104537044 chromedriver + 692292\n11  chromedriver                        0x000000010490b8fe chromedriver + 4708606\n12  chromedriver                        0x0000000104910e22 chromedriver + 4730402\n13  chromedriver                        0x00000001049196bf chromedriver + 4765375\n14  chromedriver                        0x0000000104911e80 chromedriver + 4734592\n15  chromedriver                        0x00000001048e2975 chromedriver + 4540789\n16  chromedriver                        0x0000000104933e78 chromedriver + 4873848\n17  chromedriver                        0x0000000104933ff5 chromedriver + 4874229\n18  chromedriver                        0x00000001049486de chromedriver + 4957918\n19  libsystem_pthread.dylib             0x00007ff806ff5259 _pthread_start + 125\n20  libsystem_pthread.dylib             0x00007ff806ff0c7b thread_start + 15\n"
     ]
    }
   ],
   "source": [
    "driver= url_request('http://en.people.cn')\n"
   ]
  },
  {
   "cell_type": "code",
   "execution_count": null,
   "metadata": {},
   "outputs": [],
   "source": [
    "cookies_button_deny  = driver.find_element(By.CLASS_NAME,'tipsClose').click()"
   ]
  },
  {
   "cell_type": "code",
   "execution_count": null,
   "metadata": {},
   "outputs": [],
   "source": [
    "form = driver.find_element(By.NAME,\"searchFormForPC\")\n",
    "keyword_input = form.find_element(By.NAME,\"keyword\")\n",
    "\n",
    "keyword_input.send_keys(\"US\")\n"
   ]
  },
  {
   "cell_type": "code",
   "execution_count": null,
   "metadata": {},
   "outputs": [],
   "source": []
  },
  {
   "cell_type": "code",
   "execution_count": null,
   "metadata": {},
   "outputs": [],
   "source": []
  }
 ],
 "metadata": {
  "kernelspec": {
   "display_name": "ironhack",
   "language": "python",
   "name": "ironhack"
  },
  "language_info": {
   "codemirror_mode": {
    "name": "ipython",
    "version": 3
   },
   "file_extension": ".py",
   "mimetype": "text/x-python",
   "name": "python",
   "nbconvert_exporter": "python",
   "pygments_lexer": "ipython3",
   "version": "3.9.15"
  },
  "toc": {
   "base_numbering": 1,
   "nav_menu": {},
   "number_sections": true,
   "sideBar": true,
   "skip_h1_title": false,
   "title_cell": "Table of Contents",
   "title_sidebar": "Contents",
   "toc_cell": false,
   "toc_position": {},
   "toc_section_display": true,
   "toc_window_display": false
  }
 },
 "nbformat": 4,
 "nbformat_minor": 2
}
