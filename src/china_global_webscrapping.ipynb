{
 "cells": [
  {
   "cell_type": "code",
   "execution_count": 44,
   "metadata": {},
   "outputs": [],
   "source": [
    "from selenium import webdriver\n",
    "from selenium.webdriver.common.keys import Keys\n",
    "from selenium.webdriver.common.by import By\n",
    "from selenium.webdriver.support.ui import WebDriverWait\n",
    "from selenium.webdriver.support import expected_conditions as EC\n",
    "from selenium import webdriver\n",
    "from selenium.webdriver.support.ui import Select\n",
    "from datetime import datetime\n",
    "\n",
    "import googletrans\n",
    "\n",
    "import requests\n",
    "from bs4 import BeautifulSoup\n",
    "import re as re\n",
    "import time\n",
    "import pandas as pd\n",
    "import numpy as np\n",
    "\n",
    "import nltk\n",
    "from nltk.sentiment.vader import SentimentIntensityAnalyzer\n",
    "from nltk.corpus import stopwords\n",
    "\n",
    "from wordcloud import WordCloud\n",
    "from langdetect import detect\n",
    "from textblob import TextBlob"
   ]
  },
  {
   "cell_type": "code",
   "execution_count": 45,
   "metadata": {},
   "outputs": [],
   "source": [
    "def url_request(url):\n",
    "    driver = webdriver.Chrome()\n",
    "    driver.get(url)\n",
    "    return driver"
   ]
  },
  {
   "cell_type": "code",
   "execution_count": 48,
   "metadata": {},
   "outputs": [],
   "source": [
    "driver= url_request('https://www.globaltimes.cn/index.html')"
   ]
  },
  {
   "cell_type": "code",
   "execution_count": 56,
   "metadata": {},
   "outputs": [],
   "source": [
    "search_button = driver.find_element(By.XPATH, \"//i[@type='submit']\").click()"
   ]
  },
  {
   "cell_type": "code",
   "execution_count": 55,
   "metadata": {},
   "outputs": [],
   "source": []
  },
  {
   "cell_type": "code",
   "execution_count": null,
   "metadata": {},
   "outputs": [],
   "source": []
  },
  {
   "cell_type": "code",
   "execution_count": null,
   "metadata": {},
   "outputs": [],
   "source": []
  },
  {
   "cell_type": "code",
   "execution_count": null,
   "metadata": {},
   "outputs": [],
   "source": []
  },
  {
   "cell_type": "code",
   "execution_count": null,
   "metadata": {},
   "outputs": [],
   "source": []
  },
  {
   "cell_type": "code",
   "execution_count": 4,
   "metadata": {},
   "outputs": [],
   "source": [
    "def keyword(word):    \n",
    "    search_button = driver.find_element(By.CLASS_NAME, 'd-none').click()\n",
    "    search_bar = driver.find_element(By.NAME,\"q\")\n",
    "    search_bar.send_keys(word)\n",
    "    search_bar.send_keys(Keys.RETURN)\n",
    "    \n",
    "    link_lst=[]\n",
    "    try:\n",
    "        while len(link_lst)<10:\n",
    "            lnks           = driver.find_elements(By.TAG_NAME,\"a\")\n",
    "            lst_ira        = [lnk.get_attribute('href') for lnk in lnks]\n",
    "            lst_ira_       = [url for url in list(set(lst_ira)) if 'https://en.irna.ir/news/8' in url]\n",
    "            next_page     = driver.find_element(By.LINK_TEXT, 'Next').click()\n",
    "            for i in lst_ira_:\n",
    "                link_lst.append(i)\n",
    "                \n",
    "            \n",
    "        return link_lst\n",
    "    except:\n",
    "        return link_lst"
   ]
  },
  {
   "cell_type": "code",
   "execution_count": 5,
   "metadata": {},
   "outputs": [],
   "source": [
    "links=keyword('USA')"
   ]
  },
  {
   "cell_type": "code",
   "execution_count": 29,
   "metadata": {},
   "outputs": [],
   "source": [
    "url = links[0]"
   ]
  },
  {
   "cell_type": "code",
   "execution_count": 30,
   "metadata": {},
   "outputs": [
    {
     "data": {
      "text/plain": [
       "'https://en.irna.ir/news/84934780/Iran-wins-Intercontinental-Beach-Football-versus-mighty-Brazil'"
      ]
     },
     "execution_count": 30,
     "metadata": {},
     "output_type": "execute_result"
    }
   ],
   "source": [
    "url"
   ]
  },
  {
   "cell_type": "code",
   "execution_count": 42,
   "metadata": {},
   "outputs": [],
   "source": [
    "import requests\n",
    "from bs4 import BeautifulSoup\n",
    "\n",
    "url = 'https://en.irna.ir/news/84934780/Iran-wins-Intercontinental-Beach-Football-versus-mighty-Brazil'\n",
    "html = requests.get(url)\n",
    "soup = BeautifulSoup(html.content, \"html.parser\")\n",
    "\n"
   ]
  },
  {
   "cell_type": "code",
   "execution_count": 43,
   "metadata": {},
   "outputs": [
    {
     "data": {
      "text/plain": [
       "<!DOCTYPE html>\n",
       "<html lang=\"en\"><head><meta charset=\"utf-8\"/><meta content=\"width=device-width\" name=\"viewport\"/><link href=\"https://www.arvancloud.ir/css/static-pages-2.5.6.css\" rel=\"stylesheet\"/><link href=\"//DOMAIN/favicon.ico\" rel=\"icon\" type=\"image/x-icon\"/><title></title></head><body><section class=\"error-section error-section--waiting error-section--ltr error-section--hide\" id=\"en\"><div class=\"container\"><div class=\"error-section__wrapper error-section__wrapper--waiting\"><div class=\"error-section__information\"><h1 class=\"error-section__title\"></h1><h2 class=\"error-section__subtitle error-section__subtitle--waiting\">Transferring to the website...</h2></div></div></div></section><section class=\"error-section error-section--waiting error-section--hide\" id=\"fa\"><div class=\"container\"><div class=\"error-section__wrapper error-section__wrapper--waiting\"><div class=\"error-section__information\"><h1 class=\"error-section__title\"></h1><h2 class=\"error-section__subtitle error-section__subtitle--waiting\"> در ﺣﺎل اﻧﺘﻘﺎل ﺑﻪ ﺳﺎﯾﺖ ﻣﻮرد ﻧﻈﺮ ﻫﺴﺘﯿﺪ...</h2></div></div></div></section><script>var _this = this;\n",
       "\n",
       "var showPage = function showPage() {\n",
       "  var errorPage;\n",
       "  var headTitleElement = document.getElementsByTagName(\"title\");\n",
       "\n",
       "  if (isTehranTimezone()) {\n",
       "    errorPage = document.getElementById(\"fa\");\n",
       "  } else {\n",
       "    errorPage = document.getElementById(\"en\");\n",
       "  }\n",
       "\n",
       "  var pageTitle = errorPage.getElementsByClassName(\"error-section__title\")[0]\n",
       "    .textContent;\n",
       "  headTitleElement[0].innerHTML = pageTitle;\n",
       "  errorPage.classList.remove(\"error-section--hide\");\n",
       "};\n",
       "\n",
       "var isTehranTimezone = function isTehranTimezone() {\n",
       "  var now = new Date();\n",
       "  var month = now.getMonth() + 1;\n",
       "  var day = now.getDate();\n",
       "  var isDaylightSaving =\n",
       "    (month > 3 && month < 9) ||\n",
       "    (month === 3 && day > 21) ||\n",
       "    (month === 9 && day < 22);\n",
       "  var timeOffset = now.getTimezoneOffset();\n",
       "  return isDaylightSaving ? timeOffset === -270 : timeOffset === -210;\n",
       "};\n",
       "\n",
       "var getRandomInt = function getRandomInt(min, max) {\n",
       "  return Math.floor(Math.random() * Math.floor(max - min)) + min;\n",
       "};\n",
       "\n",
       "showPage();</script><script type=\"text/javascript\">function getRandomInt(min, max) {\n",
       "    return Math.floor(Math.random() * Math.floor(max - min)) + min;\n",
       "}\n",
       "var _0x4541 = ['amd', 'function', eval(\"(![]+[])[+!+[]]+[!+[]+!+[]+!+[]]+[]+[!+[]+!+[]]+[]+[!+[]+!+[]+!+[]+!+[]+!+[]+!+[]+!+[]+!+[]+!+[]]+[]+[!+[]+!+[]+!+[]+!+[]]+[]+[!+[]+!+[]+!+[]+!+[]+!+[]]+[]+(!![]+[])[!+[]+!+[]+!+[]]+[+[]]+[]+(!![]+[])[!+[]+!+[]+!+[]]+[!+[]+!+[]+!+[]+!+[]+!+[]+!+[]]+[]+[!+[]+!+[]+!+[]+!+[]]+[]+([]['fill']+'')[3]+(!![]+[])[!+[]+!+[]+!+[]]+([]['entries']()+'')[2]+[+!+[]]+[]+(![]+[])[+!+[]]+[!+[]+!+[]+!+[]+!+[]+!+[]+!+[]+!+[]+!+[]]+[]+[!+[]+!+[]+!+[]+!+[]+!+[]+!+[]+!+[]]+[]+[+!+[]]+[]+([]['entries']()+'')[2]+[!+[]+!+[]+!+[]+!+[]+!+[]+!+[]+!+[]+!+[]]+[]+[!+[]+!+[]+!+[]+!+[]+!+[]+!+[]+!+[]+!+[]+!+[]]+[]+(!![]+[])[!+[]+!+[]+!+[]]+[!+[]+!+[]+!+[]+!+[]+!+[]+!+[]]+[]+[!+[]+!+[]+!+[]]+[]+[!+[]+!+[]+!+[]+!+[]]+[]+([]['entries']()+'')[2]+[!+[]+!+[]+!+[]+!+[]+!+[]+!+[]+!+[]+!+[]+!+[]]+[]+[!+[]+!+[]+!+[]+!+[]]+[]+[!+[]+!+[]+!+[]+!+[]]+[]+[!+[]+!+[]]+[]+(![]+[])[+!+[]]\"), 'exports', 'object', 'fromCharCode', 'length']; (function (_0x37209d, _0x298640) { var _0x3f7362 = function (_0xdf143a) { while (--_0xdf143a) { _0x37209d['push'](_0x37209d['shift']()); } }; _0x3f7362(++_0x298640); }(_0x4541, 0x127)); var _0x2d84 = function (_0x37209d, _0x298640) { _0x37209d = _0x37209d - 0x0; var _0x3f7362 = _0x4541[_0x37209d]; return _0x3f7362; }; (function (_0x426bd3, _0x367905) { 'use strict'; if (typeof define === _0x2d84('0x0') && define[_0x2d84('0x6')]) { define([], _0x367905); } else if (typeof exports === _0x2d84('0x3')) { module[_0x2d84('0x2')] = _0x367905(); } else { _0x426bd3['E'] = _0x367905(); } }(this, function () { 'use strict'; return function _0x169cf2(_0x1e4594, _0xaff965) { var _0x3699c8 = ''; if (!_0xaff965) { _0xaff965 = 0x6; } for (var _0x45a99f = 0x0; _0x45a99f < _0x1e4594[_0x2d84('0x5')]; ++_0x45a99f) { _0x3699c8 += String[_0x2d84('0x4')](_0xaff965 ^ _0x1e4594['charCodeAt'](_0x45a99f)); } return _0x3699c8; }; })); var hash = E(E(_0x2d84('0x1')));\n",
       "document.addEventListener(\"DOMContentLoaded\", function () {\n",
       "    setTimeout(function () {\n",
       "        document.cookie = '__arcsjs=' + encodeURIComponent(hash) + '; Max-Age=9000; Path=/; Domain=' + encodeURIComponent('irna.ir') + '; SameSite=None; Secure';\n",
       "        location.reload();\n",
       "    }, getRandomInt(2000, 3000))\n",
       "});</script></body></html>"
      ]
     },
     "execution_count": 43,
     "metadata": {},
     "output_type": "execute_result"
    }
   ],
   "source": [
    "soup"
   ]
  },
  {
   "cell_type": "code",
   "execution_count": null,
   "metadata": {},
   "outputs": [],
   "source": []
  }
 ],
 "metadata": {
  "kernelspec": {
   "display_name": "ironhack",
   "language": "python",
   "name": "ironhack"
  },
  "language_info": {
   "codemirror_mode": {
    "name": "ipython",
    "version": 3
   },
   "file_extension": ".py",
   "mimetype": "text/x-python",
   "name": "python",
   "nbconvert_exporter": "python",
   "pygments_lexer": "ipython3",
   "version": "3.9.15"
  },
  "toc": {
   "base_numbering": 1,
   "nav_menu": {},
   "number_sections": true,
   "sideBar": true,
   "skip_h1_title": false,
   "title_cell": "Table of Contents",
   "title_sidebar": "Contents",
   "toc_cell": false,
   "toc_position": {},
   "toc_section_display": true,
   "toc_window_display": false
  }
 },
 "nbformat": 4,
 "nbformat_minor": 2
}
