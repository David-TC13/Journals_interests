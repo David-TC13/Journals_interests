{
 "cells": [
  {
   "cell_type": "code",
   "execution_count": 1,
   "metadata": {},
   "outputs": [],
   "source": [
    "from selenium import webdriver\n",
    "from selenium.webdriver.common.keys import Keys\n",
    "from selenium.webdriver.common.by import By\n",
    "from selenium.webdriver.support.ui import WebDriverWait\n",
    "from selenium.webdriver.support import expected_conditions as EC\n",
    "from selenium import webdriver\n",
    "from selenium.webdriver.support.ui import Select\n",
    "from datetime import datetime\n",
    "\n",
    "import googletrans\n",
    "\n",
    "import requests\n",
    "from bs4 import BeautifulSoup\n",
    "import re as re\n",
    "import time\n",
    "import pandas as pd\n",
    "import numpy as np\n",
    "\n",
    "import nltk\n",
    "from nltk.sentiment.vader import SentimentIntensityAnalyzer\n",
    "from nltk.corpus import stopwords\n",
    "\n",
    "from wordcloud import WordCloud\n",
    "from langdetect import detect\n",
    "from textblob import TextBlob"
   ]
  },
  {
   "cell_type": "code",
   "execution_count": 2,
   "metadata": {},
   "outputs": [],
   "source": [
    "def url_request():\n",
    "    driver = webdriver.Chrome()\n",
    "    url= 'https://en.irna.ir'\n",
    "    driver.get(url)  \n",
    "    return driver"
   ]
  },
  {
   "cell_type": "code",
   "execution_count": 5,
   "metadata": {},
   "outputs": [],
   "source": [
    "driver= url_request()"
   ]
  },
  {
   "cell_type": "code",
   "execution_count": 16,
   "metadata": {},
   "outputs": [],
   "source": [
    "\n",
    "search_button = driver.find_element(By.CLASS_NAME, 'd-none')"
   ]
  },
  {
   "cell_type": "code",
   "execution_count": 17,
   "metadata": {},
   "outputs": [],
   "source": [
    "search_button.click()"
   ]
  },
  {
   "cell_type": "code",
   "execution_count": 27,
   "metadata": {},
   "outputs": [],
   "source": [
    "search_bar  = driver.find_element(By.CLASS_NAME, 'input-group')"
   ]
  },
  {
   "cell_type": "code",
   "execution_count": 28,
   "metadata": {},
   "outputs": [
    {
     "ename": "ElementNotInteractableException",
     "evalue": "Message: element not interactable\n  (Session info: chrome=110.0.5481.177)\nStacktrace:\n0   chromedriver                        0x000000010488d138 chromedriver + 4923704\n1   chromedriver                        0x00000001048059d3 chromedriver + 4368851\n2   chromedriver                        0x000000010444e5fd chromedriver + 472573\n3   chromedriver                        0x000000010448ad3c chromedriver + 720188\n4   chromedriver                        0x000000010448a201 chromedriver + 717313\n5   chromedriver                        0x00000001044bbfb2 chromedriver + 921522\n6   chromedriver                        0x0000000104484971 chromedriver + 694641\n7   chromedriver                        0x00000001044bc1de chromedriver + 922078\n8   chromedriver                        0x00000001044d6c0f chromedriver + 1031183\n9   chromedriver                        0x00000001044bbd23 chromedriver + 920867\n10  chromedriver                        0x0000000104482a4b chromedriver + 686667\n11  chromedriver                        0x0000000104484044 chromedriver + 692292\n12  chromedriver                        0x00000001048588fe chromedriver + 4708606\n13  chromedriver                        0x000000010485de22 chromedriver + 4730402\n14  chromedriver                        0x00000001048666bf chromedriver + 4765375\n15  chromedriver                        0x000000010485ee80 chromedriver + 4734592\n16  chromedriver                        0x000000010482f975 chromedriver + 4540789\n17  chromedriver                        0x0000000104880e78 chromedriver + 4873848\n18  chromedriver                        0x0000000104880ff5 chromedriver + 4874229\n19  chromedriver                        0x00000001048956de chromedriver + 4957918\n20  libsystem_pthread.dylib             0x00007ff806ff5259 _pthread_start + 125\n21  libsystem_pthread.dylib             0x00007ff806ff0c7b thread_start + 15\n",
     "output_type": "error",
     "traceback": [
      "\u001b[0;31m---------------------------------------------------------------------------\u001b[0m",
      "\u001b[0;31mElementNotInteractableException\u001b[0m           Traceback (most recent call last)",
      "\u001b[1;32m/Users/skyfly/Desktop/simple_iran.ipynb Cell 7\u001b[0m in \u001b[0;36m<cell line: 1>\u001b[0;34m()\u001b[0m\n\u001b[0;32m----> <a href='vscode-notebook-cell:/Users/skyfly/Desktop/simple_iran.ipynb#X10sZmlsZQ%3D%3D?line=0'>1</a>\u001b[0m search_bar\u001b[39m.\u001b[39;49msend_keys(\u001b[39m'\u001b[39;49m\u001b[39musa\u001b[39;49m\u001b[39m'\u001b[39;49m)\n",
      "File \u001b[0;32m~/miniconda3/envs/ironhack/lib/python3.9/site-packages/selenium/webdriver/remote/webelement.py:230\u001b[0m, in \u001b[0;36mWebElement.send_keys\u001b[0;34m(self, *value)\u001b[0m\n\u001b[1;32m    227\u001b[0m             remote_files\u001b[39m.\u001b[39mappend(\u001b[39mself\u001b[39m\u001b[39m.\u001b[39m_upload(file))\n\u001b[1;32m    228\u001b[0m         value \u001b[39m=\u001b[39m \u001b[39m\"\u001b[39m\u001b[39m\\n\u001b[39;00m\u001b[39m\"\u001b[39m\u001b[39m.\u001b[39mjoin(remote_files)\n\u001b[0;32m--> 230\u001b[0m \u001b[39mself\u001b[39;49m\u001b[39m.\u001b[39;49m_execute(\n\u001b[1;32m    231\u001b[0m     Command\u001b[39m.\u001b[39;49mSEND_KEYS_TO_ELEMENT, {\u001b[39m\"\u001b[39;49m\u001b[39mtext\u001b[39;49m\u001b[39m\"\u001b[39;49m: \u001b[39m\"\u001b[39;49m\u001b[39m\"\u001b[39;49m\u001b[39m.\u001b[39;49mjoin(keys_to_typing(value)), \u001b[39m\"\u001b[39;49m\u001b[39mvalue\u001b[39;49m\u001b[39m\"\u001b[39;49m: keys_to_typing(value)}\n\u001b[1;32m    232\u001b[0m )\n",
      "File \u001b[0;32m~/miniconda3/envs/ironhack/lib/python3.9/site-packages/selenium/webdriver/remote/webelement.py:403\u001b[0m, in \u001b[0;36mWebElement._execute\u001b[0;34m(self, command, params)\u001b[0m\n\u001b[1;32m    401\u001b[0m     params \u001b[39m=\u001b[39m {}\n\u001b[1;32m    402\u001b[0m params[\u001b[39m\"\u001b[39m\u001b[39mid\u001b[39m\u001b[39m\"\u001b[39m] \u001b[39m=\u001b[39m \u001b[39mself\u001b[39m\u001b[39m.\u001b[39m_id\n\u001b[0;32m--> 403\u001b[0m \u001b[39mreturn\u001b[39;00m \u001b[39mself\u001b[39;49m\u001b[39m.\u001b[39;49m_parent\u001b[39m.\u001b[39;49mexecute(command, params)\n",
      "File \u001b[0;32m~/miniconda3/envs/ironhack/lib/python3.9/site-packages/selenium/webdriver/remote/webdriver.py:440\u001b[0m, in \u001b[0;36mWebDriver.execute\u001b[0;34m(self, driver_command, params)\u001b[0m\n\u001b[1;32m    438\u001b[0m response \u001b[39m=\u001b[39m \u001b[39mself\u001b[39m\u001b[39m.\u001b[39mcommand_executor\u001b[39m.\u001b[39mexecute(driver_command, params)\n\u001b[1;32m    439\u001b[0m \u001b[39mif\u001b[39;00m response:\n\u001b[0;32m--> 440\u001b[0m     \u001b[39mself\u001b[39;49m\u001b[39m.\u001b[39;49merror_handler\u001b[39m.\u001b[39;49mcheck_response(response)\n\u001b[1;32m    441\u001b[0m     response[\u001b[39m\"\u001b[39m\u001b[39mvalue\u001b[39m\u001b[39m\"\u001b[39m] \u001b[39m=\u001b[39m \u001b[39mself\u001b[39m\u001b[39m.\u001b[39m_unwrap_value(response\u001b[39m.\u001b[39mget(\u001b[39m\"\u001b[39m\u001b[39mvalue\u001b[39m\u001b[39m\"\u001b[39m, \u001b[39mNone\u001b[39;00m))\n\u001b[1;32m    442\u001b[0m     \u001b[39mreturn\u001b[39;00m response\n",
      "File \u001b[0;32m~/miniconda3/envs/ironhack/lib/python3.9/site-packages/selenium/webdriver/remote/errorhandler.py:245\u001b[0m, in \u001b[0;36mErrorHandler.check_response\u001b[0;34m(self, response)\u001b[0m\n\u001b[1;32m    243\u001b[0m         alert_text \u001b[39m=\u001b[39m value[\u001b[39m\"\u001b[39m\u001b[39malert\u001b[39m\u001b[39m\"\u001b[39m]\u001b[39m.\u001b[39mget(\u001b[39m\"\u001b[39m\u001b[39mtext\u001b[39m\u001b[39m\"\u001b[39m)\n\u001b[1;32m    244\u001b[0m     \u001b[39mraise\u001b[39;00m exception_class(message, screen, stacktrace, alert_text)  \u001b[39m# type: ignore[call-arg]  # mypy is not smart enough here\u001b[39;00m\n\u001b[0;32m--> 245\u001b[0m \u001b[39mraise\u001b[39;00m exception_class(message, screen, stacktrace)\n",
      "\u001b[0;31mElementNotInteractableException\u001b[0m: Message: element not interactable\n  (Session info: chrome=110.0.5481.177)\nStacktrace:\n0   chromedriver                        0x000000010488d138 chromedriver + 4923704\n1   chromedriver                        0x00000001048059d3 chromedriver + 4368851\n2   chromedriver                        0x000000010444e5fd chromedriver + 472573\n3   chromedriver                        0x000000010448ad3c chromedriver + 720188\n4   chromedriver                        0x000000010448a201 chromedriver + 717313\n5   chromedriver                        0x00000001044bbfb2 chromedriver + 921522\n6   chromedriver                        0x0000000104484971 chromedriver + 694641\n7   chromedriver                        0x00000001044bc1de chromedriver + 922078\n8   chromedriver                        0x00000001044d6c0f chromedriver + 1031183\n9   chromedriver                        0x00000001044bbd23 chromedriver + 920867\n10  chromedriver                        0x0000000104482a4b chromedriver + 686667\n11  chromedriver                        0x0000000104484044 chromedriver + 692292\n12  chromedriver                        0x00000001048588fe chromedriver + 4708606\n13  chromedriver                        0x000000010485de22 chromedriver + 4730402\n14  chromedriver                        0x00000001048666bf chromedriver + 4765375\n15  chromedriver                        0x000000010485ee80 chromedriver + 4734592\n16  chromedriver                        0x000000010482f975 chromedriver + 4540789\n17  chromedriver                        0x0000000104880e78 chromedriver + 4873848\n18  chromedriver                        0x0000000104880ff5 chromedriver + 4874229\n19  chromedriver                        0x00000001048956de chromedriver + 4957918\n20  libsystem_pthread.dylib             0x00007ff806ff5259 _pthread_start + 125\n21  libsystem_pthread.dylib             0x00007ff806ff0c7b thread_start + 15\n"
     ]
    }
   ],
   "source": [
    "search_bar.send_keys('usa')"
   ]
  },
  {
   "cell_type": "code",
   "execution_count": null,
   "metadata": {},
   "outputs": [],
   "source": [
    "search_bar.send_keys(Keys.RETURN)"
   ]
  }
 ],
 "metadata": {
  "kernelspec": {
   "display_name": "ironhack",
   "language": "python",
   "name": "python3"
  },
  "language_info": {
   "codemirror_mode": {
    "name": "ipython",
    "version": 3
   },
   "file_extension": ".py",
   "mimetype": "text/x-python",
   "name": "python",
   "nbconvert_exporter": "python",
   "pygments_lexer": "ipython3",
   "version": "3.9.15"
  },
  "orig_nbformat": 4
 },
 "nbformat": 4,
 "nbformat_minor": 2
}
