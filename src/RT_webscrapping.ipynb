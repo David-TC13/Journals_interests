{
 "cells": [
  {
   "cell_type": "code",
   "execution_count": 1,
   "id": "e58fd544",
   "metadata": {},
   "outputs": [],
   "source": [
    "from selenium import webdriver\n",
    "from selenium.webdriver.common.keys import Keys\n",
    "from selenium.webdriver.common.by import By\n",
    "from selenium.webdriver.support.ui import WebDriverWait\n",
    "from selenium.webdriver.support import expected_conditions as EC\n",
    "from selenium import webdriver\n",
    "from selenium.webdriver.support.ui import Select\n",
    "from datetime import datetime\n",
    "\n",
    "import googletrans\n",
    "\n",
    "import requests\n",
    "from bs4 import BeautifulSoup\n",
    "import re as re\n",
    "import time\n",
    "import pandas as pd\n",
    "import numpy as np\n",
    "\n",
    "\n",
    "import nltk\n",
    "from nltk.sentiment.vader import SentimentIntensityAnalyzer\n",
    "from nltk.corpus import stopwords\n",
    "\n",
    "from wordcloud import WordCloud\n",
    "from langdetect import detect\n",
    "from textblob import TextBlob"
   ]
  },
  {
   "cell_type": "code",
   "execution_count": 2,
   "id": "6d164df7",
   "metadata": {},
   "outputs": [],
   "source": [
    "def url_request(url):\n",
    "    chrome_options = webdriver.ChromeOptions()\n",
    "    driver = webdriver.Chrome()\n",
    "    driver.get(url)    \n",
    "    return driver"
   ]
  },
  {
   "cell_type": "code",
   "execution_count": 3,
   "id": "b9caf732",
   "metadata": {},
   "outputs": [],
   "source": [
    "driver = url_request('https://www.rt.com')"
   ]
  },
  {
   "cell_type": "markdown",
   "id": "d9ce6c2e",
   "metadata": {},
   "source": [
    "## Function to get DF"
   ]
  },
  {
   "cell_type": "code",
   "execution_count": 4,
   "id": "bc544d28",
   "metadata": {},
   "outputs": [],
   "source": [
    "def key_word(word):\n",
    "    \n",
    "    cookies= driver.find_element(By.PARTIAL_LINK_TEXT,'Accept cookies').click()\n",
    "    \n",
    "    \n",
    "    search_bar = driver.find_element(By.CLASS_NAME, \"js-search-input\")\n",
    "    search_bar.send_keys(word)\n",
    "    search_bar.send_keys(Keys.RETURN)\n",
    "\n",
    "    lst_link=[]\n",
    "    try:\n",
    "\n",
    "        while len(lst_link)< 10:\n",
    "            lnks       = driver.find_elements(By.TAG_NAME,\"a\")\n",
    "            lst_rt     = [lnk.get_attribute('href') for lnk in lnks]\n",
    "            lst_rt_1   = [url for url in lst_rt if 'https://www.rt.com/news/5' in str(url)]\n",
    "            lst_link   = [i for i in lst_rt_1]\n",
    "\n",
    "            more_button= driver.find_element(By.ID,'listingBtn')\n",
    "            driver.execute_script(\"window.scrollTo(0,document.body.scrollHeight)\",more_button)\n",
    "            more_button.click()\n",
    "\n",
    "            lst_link=list(set(lst_link))\n",
    "\n",
    "            list_soup = []\n",
    "            for url in lst_link:\n",
    "                html  = requests.get(url)\n",
    "                soup  = BeautifulSoup(html.content, \"html.parser\")\n",
    "                list_soup.append(soup)\n",
    "            art_list = []  \n",
    "            for soup in list_soup:\n",
    "                article = soup.getText()\n",
    "                article = article[article.find('Home'):]\n",
    "                article = article[:article.find('You can share this story on social media:')]\n",
    "                article = article.replace('\\xa0','').replace('\\n','').replace('READ MORE','').replace('/','').replace('HomeWorld News','')\n",
    "                art_list.append(article)\n",
    "\n",
    "            day_list=[]\n",
    "            month_list=[]\n",
    "            year_list=[]\n",
    "            year_control=[]\n",
    "\n",
    "            for soup in list_soup:\n",
    "                date_str = soup.find('span', {'class': 'date'}).text.strip()\n",
    "                day, month, year, time = date_str.split()\n",
    "                day = day.zfill(2)\n",
    "                month = month.zfill(2).replace(',','')\n",
    "                year= year\n",
    "\n",
    "                day_list.append(day)\n",
    "                month_list.append(month)\n",
    "                year_list.append(year)\n",
    "                \n",
    "\n",
    "        dict_={\n",
    "            'link': lst_link,\n",
    "            'article': art_list,\n",
    "            'year' : year_list,\n",
    "            'month': month_list,\n",
    "            'day': day_list\n",
    "        }\n",
    "        df= pd.DataFrame(dict_)\n",
    "        return df\n",
    "    \n",
    "    except:\n",
    "        return df"
   ]
  },
  {
   "cell_type": "code",
   "execution_count": 5,
   "id": "70d83a64",
   "metadata": {},
   "outputs": [],
   "source": [
    "df_US  = key_word('US')"
   ]
  },
  {
   "cell_type": "code",
   "execution_count": 6,
   "id": "33f2e983",
   "metadata": {},
   "outputs": [],
   "source": [
    "df_USA = key_word('USA')"
   ]
  },
  {
   "cell_type": "code",
   "execution_count": 7,
   "id": "c1cb6e4e",
   "metadata": {},
   "outputs": [],
   "source": [
    "df_united_states = key_word('united states')"
   ]
  },
  {
   "cell_type": "code",
   "execution_count": 8,
   "id": "f12e9987",
   "metadata": {},
   "outputs": [],
   "source": [
    "df_us= pd.concat([df_US,df_USA,df_united_states])"
   ]
  },
  {
   "cell_type": "code",
   "execution_count": 10,
   "id": "133237e0",
   "metadata": {},
   "outputs": [],
   "source": [
    "df_us.drop_duplicates(inplace=True)"
   ]
  },
  {
   "cell_type": "code",
   "execution_count": null,
   "id": "9daa1d9b",
   "metadata": {},
   "outputs": [],
   "source": [
    "df_us.reset_index(inplace=True).drop(columns=['index'],inplace=True)"
   ]
  },
  {
   "cell_type": "code",
   "execution_count": null,
   "id": "c629f002",
   "metadata": {},
   "outputs": [],
   "source": []
  }
 ],
 "metadata": {
  "kernelspec": {
   "display_name": "ironhack",
   "language": "python",
   "name": "ironhack"
  },
  "language_info": {
   "codemirror_mode": {
    "name": "ipython",
    "version": 3
   },
   "file_extension": ".py",
   "mimetype": "text/x-python",
   "name": "python",
   "nbconvert_exporter": "python",
   "pygments_lexer": "ipython3",
   "version": "3.9.15"
  },
  "toc": {
   "base_numbering": 1,
   "nav_menu": {},
   "number_sections": true,
   "sideBar": true,
   "skip_h1_title": false,
   "title_cell": "Table of Contents",
   "title_sidebar": "Contents",
   "toc_cell": false,
   "toc_position": {},
   "toc_section_display": true,
   "toc_window_display": false
  }
 },
 "nbformat": 4,
 "nbformat_minor": 5
}
