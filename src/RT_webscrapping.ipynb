{
 "cells": [
  {
   "cell_type": "code",
   "execution_count": 23,
   "id": "e58fd544",
   "metadata": {},
   "outputs": [],
   "source": [
    "from selenium import webdriver\n",
    "from selenium.webdriver.common.keys import Keys\n",
    "from selenium.webdriver.common.by import By\n",
    "from selenium.webdriver.support.ui import WebDriverWait\n",
    "from selenium.webdriver.support import expected_conditions as EC\n",
    "from selenium import webdriver\n",
    "from selenium.webdriver.support.ui import Select\n",
    "from datetime import datetime\n",
    "\n",
    "import googletrans\n",
    "\n",
    "import requests\n",
    "from bs4 import BeautifulSoup\n",
    "import re as re\n",
    "import time\n",
    "import pandas as pd\n",
    "import numpy as np\n",
    "\n",
    "\n",
    "import nltk\n",
    "from nltk.sentiment.vader import SentimentIntensityAnalyzer\n",
    "from nltk.corpus import stopwords\n",
    "\n",
    "from wordcloud import WordCloud\n",
    "from langdetect import detect\n",
    "from textblob import TextBlob"
   ]
  },
  {
   "cell_type": "code",
   "execution_count": 24,
   "id": "6d164df7",
   "metadata": {},
   "outputs": [],
   "source": [
    "def url_request():\n",
    "    url= 'https://www.rt.com'\n",
    "    chrome_options = webdriver.ChromeOptions()\n",
    "    driver = webdriver.Chrome()\n",
    "    driver.get(url)\n",
    "    time.sleep(3)\n",
    "    cookies= driver.find_element(By.PARTIAL_LINK_TEXT,'Accept cookies').click()\n",
    "    return driver"
   ]
  },
  {
   "cell_type": "code",
   "execution_count": 25,
   "id": "f21e33f1",
   "metadata": {},
   "outputs": [],
   "source": [
    "driver = url_request()"
   ]
  },
  {
   "cell_type": "markdown",
   "id": "d9ce6c2e",
   "metadata": {},
   "source": [
    "## Function to get DF"
   ]
  },
  {
   "cell_type": "code",
   "execution_count": 26,
   "id": "bc544d28",
   "metadata": {},
   "outputs": [],
   "source": [
    "def key_word(word):\n",
    "    \n",
    "    search_bar = driver.find_element(By.CLASS_NAME, \"js-search-input\")\n",
    "    search_bar.send_keys(word)\n",
    "    search_bar.send_keys(Keys.RETURN)\n",
    "\n",
    "    lst_link=[]\n",
    "    year_control=[]\n",
    "\n",
    "    while len(year_control)< 1 and len(lst_link)< 20:\n",
    "        lnks       = driver.find_elements(By.TAG_NAME,\"a\")\n",
    "        lst_rt     = [lnk.get_attribute('href') for lnk in lnks]\n",
    "        lst_rt_1   = [url for url in lst_rt if 'https://www.rt.com/news/5' in str(url)]\n",
    "        lst_link   = [i for i in lst_rt_1]\n",
    "        \n",
    "        more_button= driver.find_element(By.ID,'listingBtn')\n",
    "        driver.execute_script(\"window.scrollTo(0,document.body.scrollHeight)\",more_button)\n",
    "        more_button.click()\n",
    "                \n",
    "        lst_link=list(set(lst_link))\n",
    "                \n",
    "        list_soup = []\n",
    "        for url in lst_link:\n",
    "            html  = requests.get(url)\n",
    "            soup  = BeautifulSoup(html.content, \"html.parser\")\n",
    "            list_soup.append(soup)\n",
    "        art_list = []  \n",
    "        for soup in list_soup:\n",
    "            article = soup.getText()\n",
    "            article = article[article.find('Home'):]\n",
    "            article = article[:article.find('You can share this story on social media:')]\n",
    "            article = article.replace('\\xa0','').replace('\\n','').replace('READ MORE','').replace('/','').replace('HomeWorld News','')\n",
    "            art_list.append(article)\n",
    "\n",
    "        day_list=[]\n",
    "        month_list=[]\n",
    "        year_list=[]\n",
    "        year_control=[]\n",
    "\n",
    "        for soup in list_soup:\n",
    "            date_str = soup.find('span', {'class': 'date'}).text.strip()\n",
    "            day, month, year, time = date_str.split()\n",
    "            day = day.zfill(2)\n",
    "            month = month.zfill(2).replace(',','')\n",
    "            year= year\n",
    "            \n",
    "            day_list.append(day)\n",
    "            month_list.append(month)\n",
    "            year_list.append(year)\n",
    "            year_control=[i for i in year_list if i == '2020']\n",
    "                    \n",
    "    dict_={\n",
    "        'link': lst_link,\n",
    "        'article': art_list,\n",
    "        'year' : year_list,\n",
    "        'month': month_list,\n",
    "        'day': day_list\n",
    "    }\n",
    "    df= pd.DataFrame(dict_)\n",
    "    return df"
   ]
  },
  {
   "cell_type": "code",
   "execution_count": 27,
   "id": "70d83a64",
   "metadata": {},
   "outputs": [],
   "source": [
    "df_usa=key_word('usa')"
   ]
  },
  {
   "cell_type": "code",
   "execution_count": 28,
   "id": "485c139d",
   "metadata": {},
   "outputs": [
    {
     "data": {
      "text/html": [
       "<div>\n",
       "<style scoped>\n",
       "    .dataframe tbody tr th:only-of-type {\n",
       "        vertical-align: middle;\n",
       "    }\n",
       "\n",
       "    .dataframe tbody tr th {\n",
       "        vertical-align: top;\n",
       "    }\n",
       "\n",
       "    .dataframe thead th {\n",
       "        text-align: right;\n",
       "    }\n",
       "</style>\n",
       "<table border=\"1\" class=\"dataframe\">\n",
       "  <thead>\n",
       "    <tr style=\"text-align: right;\">\n",
       "      <th></th>\n",
       "      <th>link</th>\n",
       "      <th>article</th>\n",
       "      <th>year</th>\n",
       "      <th>month</th>\n",
       "      <th>day</th>\n",
       "    </tr>\n",
       "  </thead>\n",
       "  <tbody>\n",
       "    <tr>\n",
       "      <th>0</th>\n",
       "      <td>https://www.rt.com/news/569244-trump-hints-thi...</td>\n",
       "      <td>Trump hints at third-party run in 2024...</td>\n",
       "      <td>2022</td>\n",
       "      <td>Dec</td>\n",
       "      <td>31</td>\n",
       "    </tr>\n",
       "    <tr>\n",
       "      <th>1</th>\n",
       "      <td>https://www.rt.com/news/570557-iraq-and-big-am...</td>\n",
       "      <td>‘If this is not evil, then evil has no...</td>\n",
       "      <td>2023</td>\n",
       "      <td>Jan</td>\n",
       "      <td>28</td>\n",
       "    </tr>\n",
       "    <tr>\n",
       "      <th>2</th>\n",
       "      <td>https://www.rt.com/news/570363-poland-fm-ukrai...</td>\n",
       "      <td>Poland considered partitioning Ukraine...</td>\n",
       "      <td>2023</td>\n",
       "      <td>Jan</td>\n",
       "      <td>23</td>\n",
       "    </tr>\n",
       "    <tr>\n",
       "      <th>3</th>\n",
       "      <td>https://www.rt.com/news/569877-germany-repair-...</td>\n",
       "      <td>Nord Stream must be repaired – German ...</td>\n",
       "      <td>2023</td>\n",
       "      <td>Jan</td>\n",
       "      <td>14</td>\n",
       "    </tr>\n",
       "    <tr>\n",
       "      <th>4</th>\n",
       "      <td>https://www.rt.com/news/571238-us-nord-stream-...</td>\n",
       "      <td>Glenn Diesen: There's only one way to ...</td>\n",
       "      <td>2023</td>\n",
       "      <td>Feb</td>\n",
       "      <td>09</td>\n",
       "    </tr>\n",
       "  </tbody>\n",
       "</table>\n",
       "</div>"
      ],
      "text/plain": [
       "                                                link  \\\n",
       "0  https://www.rt.com/news/569244-trump-hints-thi...   \n",
       "1  https://www.rt.com/news/570557-iraq-and-big-am...   \n",
       "2  https://www.rt.com/news/570363-poland-fm-ukrai...   \n",
       "3  https://www.rt.com/news/569877-germany-repair-...   \n",
       "4  https://www.rt.com/news/571238-us-nord-stream-...   \n",
       "\n",
       "                                             article  year month day  \n",
       "0          Trump hints at third-party run in 2024...  2022   Dec  31  \n",
       "1          ‘If this is not evil, then evil has no...  2023   Jan  28  \n",
       "2          Poland considered partitioning Ukraine...  2023   Jan  23  \n",
       "3          Nord Stream must be repaired – German ...  2023   Jan  14  \n",
       "4          Glenn Diesen: There's only one way to ...  2023   Feb  09  "
      ]
     },
     "execution_count": 28,
     "metadata": {},
     "output_type": "execute_result"
    }
   ],
   "source": [
    "df_usa.head()"
   ]
  },
  {
   "cell_type": "code",
   "execution_count": 29,
   "id": "d238d5ec",
   "metadata": {},
   "outputs": [],
   "source": [
    "df_united_states=key_word('united states')"
   ]
  },
  {
   "cell_type": "code",
   "execution_count": 30,
   "id": "7808c988",
   "metadata": {},
   "outputs": [
    {
     "data": {
      "text/html": [
       "<div>\n",
       "<style scoped>\n",
       "    .dataframe tbody tr th:only-of-type {\n",
       "        vertical-align: middle;\n",
       "    }\n",
       "\n",
       "    .dataframe tbody tr th {\n",
       "        vertical-align: top;\n",
       "    }\n",
       "\n",
       "    .dataframe thead th {\n",
       "        text-align: right;\n",
       "    }\n",
       "</style>\n",
       "<table border=\"1\" class=\"dataframe\">\n",
       "  <thead>\n",
       "    <tr style=\"text-align: right;\">\n",
       "      <th></th>\n",
       "      <th>link</th>\n",
       "      <th>article</th>\n",
       "      <th>year</th>\n",
       "      <th>month</th>\n",
       "      <th>day</th>\n",
       "    </tr>\n",
       "  </thead>\n",
       "  <tbody>\n",
       "    <tr>\n",
       "      <th>0</th>\n",
       "      <td>https://www.rt.com/news/572558-north-korea-ove...</td>\n",
       "      <td>North Korea warns of ‘overwhelming’ re...</td>\n",
       "      <td>2023</td>\n",
       "      <td>Mar</td>\n",
       "      <td>07</td>\n",
       "    </tr>\n",
       "    <tr>\n",
       "      <th>1</th>\n",
       "      <td>https://www.rt.com/news/572471-trump-china-cov...</td>\n",
       "      <td>Trump demands Covid ‘reparations’ from...</td>\n",
       "      <td>2023</td>\n",
       "      <td>Mar</td>\n",
       "      <td>05</td>\n",
       "    </tr>\n",
       "    <tr>\n",
       "      <th>2</th>\n",
       "      <td>https://www.rt.com/news/572537-us-desantis-cal...</td>\n",
       "      <td>DeSantis visits California, targets ‘w...</td>\n",
       "      <td>2023</td>\n",
       "      <td>Mar</td>\n",
       "      <td>06</td>\n",
       "    </tr>\n",
       "    <tr>\n",
       "      <th>3</th>\n",
       "      <td>https://www.rt.com/news/572580-havana-syndrome...</td>\n",
       "      <td>‘Havana syndrome’ has been debunked, b...</td>\n",
       "      <td>2023</td>\n",
       "      <td>Mar</td>\n",
       "      <td>07</td>\n",
       "    </tr>\n",
       "    <tr>\n",
       "      <th>4</th>\n",
       "      <td>https://www.rt.com/news/572464-washington-stup...</td>\n",
       "      <td>American leaders are ‘fundamentally st...</td>\n",
       "      <td>2023</td>\n",
       "      <td>Mar</td>\n",
       "      <td>04</td>\n",
       "    </tr>\n",
       "  </tbody>\n",
       "</table>\n",
       "</div>"
      ],
      "text/plain": [
       "                                                link  \\\n",
       "0  https://www.rt.com/news/572558-north-korea-ove...   \n",
       "1  https://www.rt.com/news/572471-trump-china-cov...   \n",
       "2  https://www.rt.com/news/572537-us-desantis-cal...   \n",
       "3  https://www.rt.com/news/572580-havana-syndrome...   \n",
       "4  https://www.rt.com/news/572464-washington-stup...   \n",
       "\n",
       "                                             article  year month day  \n",
       "0          North Korea warns of ‘overwhelming’ re...  2023   Mar  07  \n",
       "1          Trump demands Covid ‘reparations’ from...  2023   Mar  05  \n",
       "2          DeSantis visits California, targets ‘w...  2023   Mar  06  \n",
       "3          ‘Havana syndrome’ has been debunked, b...  2023   Mar  07  \n",
       "4          American leaders are ‘fundamentally st...  2023   Mar  04  "
      ]
     },
     "execution_count": 30,
     "metadata": {},
     "output_type": "execute_result"
    }
   ],
   "source": [
    "df_united_states.head()"
   ]
  },
  {
   "cell_type": "code",
   "execution_count": 33,
   "id": "f12e9987",
   "metadata": {},
   "outputs": [],
   "source": [
    "\n",
    "df_us= pd.concat([df_united_states,df_usa])"
   ]
  },
  {
   "cell_type": "code",
   "execution_count": 34,
   "id": "c1c0530a",
   "metadata": {},
   "outputs": [
    {
     "data": {
      "text/plain": [
       "47"
      ]
     },
     "execution_count": 34,
     "metadata": {},
     "output_type": "execute_result"
    }
   ],
   "source": [
    "len(df_us)"
   ]
  },
  {
   "cell_type": "code",
   "execution_count": 36,
   "id": "133237e0",
   "metadata": {},
   "outputs": [],
   "source": [
    "df_us.drop_duplicates(inplace=True)"
   ]
  },
  {
   "cell_type": "code",
   "execution_count": 37,
   "id": "0f22f929",
   "metadata": {},
   "outputs": [
    {
     "data": {
      "text/plain": [
       "47"
      ]
     },
     "execution_count": 37,
     "metadata": {},
     "output_type": "execute_result"
    }
   ],
   "source": [
    "len(df_us)"
   ]
  },
  {
   "cell_type": "code",
   "execution_count": null,
   "id": "62bce335",
   "metadata": {},
   "outputs": [],
   "source": []
  }
 ],
 "metadata": {
  "kernelspec": {
   "display_name": "ironhack",
   "language": "python",
   "name": "ironhack"
  },
  "language_info": {
   "codemirror_mode": {
    "name": "ipython",
    "version": 3
   },
   "file_extension": ".py",
   "mimetype": "text/x-python",
   "name": "python",
   "nbconvert_exporter": "python",
   "pygments_lexer": "ipython3",
   "version": "3.9.15"
  },
  "toc": {
   "base_numbering": 1,
   "nav_menu": {},
   "number_sections": true,
   "sideBar": true,
   "skip_h1_title": false,
   "title_cell": "Table of Contents",
   "title_sidebar": "Contents",
   "toc_cell": false,
   "toc_position": {},
   "toc_section_display": true,
   "toc_window_display": false
  }
 },
 "nbformat": 4,
 "nbformat_minor": 5
}
