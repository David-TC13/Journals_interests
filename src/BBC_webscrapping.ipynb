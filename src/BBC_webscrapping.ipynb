{
 "cells": [
  {
   "cell_type": "code",
   "execution_count": 1,
   "id": "40fcd1bd",
   "metadata": {},
   "outputs": [],
   "source": [
    "from selenium import webdriver\n",
    "from selenium.webdriver.common.keys import Keys\n",
    "from selenium.webdriver.common.by import By\n",
    "from selenium.webdriver.support.ui import WebDriverWait\n",
    "from selenium.webdriver.support import expected_conditions as EC\n",
    "from selenium import webdriver\n",
    "from selenium.webdriver.support.ui import Select\n",
    "import time\n",
    "import requests\n",
    "from bs4 import BeautifulSoup\n",
    "import re as re\n",
    "import time\n",
    "import pandas as pd\n",
    "import numpy as np\n",
    "\n",
    "import nltk\n",
    "from nltk.sentiment.vader import SentimentIntensityAnalyzer\n",
    "from nltk.corpus import stopwords\n",
    "\n",
    "from wordcloud import WordCloud\n",
    "from langdetect import detect\n",
    "from textblob import TextBlob"
   ]
  },
  {
   "cell_type": "code",
   "execution_count": 2,
   "id": "47d6b1e9",
   "metadata": {},
   "outputs": [],
   "source": [
    "def url_request():\n",
    "    driver = webdriver.Chrome()\n",
    "    url= 'https://www.bbc.com/news'\n",
    "    driver.get(url)\n",
    "    cookies_accept = driver.find_element(By.CLASS_NAME, 'fc-button').click()\n",
    "    cookies_2= driver.find_element(By.CLASS_NAME, 'banner-button').click()    \n",
    "    return driver"
   ]
  },
  {
   "cell_type": "code",
   "execution_count": 3,
   "id": "71b331b7",
   "metadata": {},
   "outputs": [],
   "source": [
    "driver= url_request()"
   ]
  },
  {
   "cell_type": "code",
   "execution_count": 46,
   "id": "c169645b",
   "metadata": {},
   "outputs": [],
   "source": [
    "def keyword(word):\n",
    "    search_bar  = driver.find_element(By.LINK_TEXT, 'Search BBC').click()\n",
    "    search_bar  = driver.find_element(By.ID, 'search-input')\n",
    "    search_bar.send_keys(word)\n",
    "    search_bar.send_keys(Keys.RETURN)\n",
    "    \n",
    "    link_lst=[]\n",
    "    year_control=[]\n",
    "\n",
    "    while len(link_lst)<3:\n",
    "        lnks           = driver.find_elements(By.TAG_NAME,\"a\")\n",
    "        lst_bbc        = [lnk.get_attribute('href') for lnk in lnks]\n",
    "        lst_bbc_       = [url for url in lst_bbc if '/news/' in url and '/help' not in url and '/live/' not in url]\n",
    "        search_bar = driver.find_element(By.LINK_TEXT, 'next page').click()\n",
    "        for i in lst_bbc_:\n",
    "            link_lst.append(i)\n",
    "\n",
    "        link_lst= list(set(link_lst))\n",
    "        \n",
    "        list_soup=[]\n",
    "        for url in link_lst:\n",
    "            html = requests.get(url)\n",
    "            soup = BeautifulSoup(html.content, \"html.parser\")\n",
    "            article=soup.getText().replace('\\'', \"´\").strip()\n",
    "            article=soup.find('div', {'class': 'ssrcss-jlwt2c-Divider'})\n",
    "            #article = article[article.find('BBC News,'):]\n",
    "            #article = article[:article.find('Additional reporting')]\n",
    "            list_soup.append(article)\n",
    "\n",
    "        #art_list = []\n",
    "        #for soup in list_soup:\n",
    "            #article = soup.getText()\n",
    "            #\n",
    "            #\n",
    "            #article = article.replace('\\'', \"´\").replace ('BBC News,','').strip()\n",
    "            #art_list.append(article)\n",
    "        dict_bbc={'article': list_soup,\n",
    "                 'link':link_lst}\n",
    "    return dict_bbc\n"
   ]
  },
  {
   "cell_type": "code",
   "execution_count": 47,
   "id": "f7cd1c60",
   "metadata": {},
   "outputs": [],
   "source": [
    "dict_=keyword('Russia')"
   ]
  },
  {
   "cell_type": "code",
   "execution_count": 48,
   "id": "5b3204aa",
   "metadata": {},
   "outputs": [],
   "source": [
    "df= pd.DataFrame(dict_)"
   ]
  },
  {
   "cell_type": "code",
   "execution_count": 50,
   "id": "eef55898",
   "metadata": {},
   "outputs": [
    {
     "data": {
      "text/plain": [
       "0     https://www.bbc.co.uk/news/world-europe-64859780\n",
       "1     https://www.bbc.co.uk/news/world-africa-64822485\n",
       "2     https://www.bbc.co.uk/news/world-europe-17839672\n",
       "3    https://www.bbc.co.uk/news/world-us-canada-648...\n",
       "4     https://www.bbc.co.uk/news/world-europe-17840134\n",
       "5     https://www.bbc.co.uk/news/world-europe-64888796\n",
       "Name: link, dtype: object"
      ]
     },
     "execution_count": 50,
     "metadata": {},
     "output_type": "execute_result"
    }
   ],
   "source": [
    "df['link']\n"
   ]
  },
  {
   "cell_type": "markdown",
   "id": "ba776eb8",
   "metadata": {},
   "source": [
    "        \n",
    "        day_list=[]\n",
    "        month_list=[]\n",
    "        year_list=[]\n",
    "        year_control=[]\n",
    "\n",
    "        for soup in list_soup:\n",
    "            date_str = soup.find('span', {'class': 'date'}).text.strip()\n",
    "            day, month, year, time = date_str.split()\n",
    "            day = day.zfill(2)\n",
    "            month = month.zfill(2).replace(',','')\n",
    "            year= year\n",
    "            \n",
    "            day_list.append(day)\n",
    "            month_list.append(month)\n",
    "            year_list.append(year)\n",
    "            year_control=[i for i in year_list if i == '2020']\n",
    "                    \n",
    "    dict_={\n",
    "        'link': lst_link,\n",
    "        'article': art_list,\n",
    "        'year' : year_list,\n",
    "        'month': month_list,\n",
    "        'day': day_list\n",
    "    }\n",
    "    df= pd.DataFrame(dict_)"
   ]
  }
 ],
 "metadata": {
  "kernelspec": {
   "display_name": "ironhack",
   "language": "python",
   "name": "ironhack"
  },
  "language_info": {
   "codemirror_mode": {
    "name": "ipython",
    "version": 3
   },
   "file_extension": ".py",
   "mimetype": "text/x-python",
   "name": "python",
   "nbconvert_exporter": "python",
   "pygments_lexer": "ipython3",
   "version": "3.9.15"
  },
  "toc": {
   "base_numbering": 1,
   "nav_menu": {},
   "number_sections": true,
   "sideBar": true,
   "skip_h1_title": false,
   "title_cell": "Table of Contents",
   "title_sidebar": "Contents",
   "toc_cell": false,
   "toc_position": {},
   "toc_section_display": true,
   "toc_window_display": false
  }
 },
 "nbformat": 4,
 "nbformat_minor": 5
}
