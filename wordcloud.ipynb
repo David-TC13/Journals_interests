{
 "cells": [
  {
   "cell_type": "code",
   "execution_count": 28,
   "id": "278c4d61",
   "metadata": {},
   "outputs": [],
   "source": [
    "from wordcloud import WordCloud\n",
    "import matplotlib.pyplot as plt\n",
    "import pandas as pd"
   ]
  },
  {
   "cell_type": "code",
   "execution_count": 29,
   "id": "a76c6fe9",
   "metadata": {},
   "outputs": [],
   "source": [
    "df_bbc_russia=pd.read_csv('data/processed/bbc_russia_proc.csv')\n",
    "df_bbc_china=pd.read_csv('data/processed/bbc_china_proc.csv')\n",
    "df_cnn_russia=pd.read_csv('data/processed/cnn_russia_proc.csv')\n",
    "df_cnn_china=pd.read_csv('data/processed/cnn_china_proc.csv')\n",
    "pdo_uk=pd.read_csv('data/processed/pdo_united_kingdom_proc.csv')\n",
    "pdo_usa=pd.read_csv('data/processed/pdo_united_states_proc.csv')\n",
    "rt_uk=pd.read_csv('data/processed/rt_united_kingdom_proc.csv')\n",
    "rt_usa=pd.read_csv('data/processed/rt_united_states_proc.csv')"
   ]
  },
  {
   "cell_type": "code",
   "execution_count": 30,
   "id": "0a6580be",
   "metadata": {},
   "outputs": [],
   "source": [
    "def wordcloud(df):\n",
    "    words = [i for i in df['word']]\n",
    "    text = \"\".join(word for word in words)\n",
    "    wordcloud = WordCloud(width=800, height=400, background_color=\"beige\").generate(text)\n",
    "\n",
    "    plt.figure(figsize=(12, 6))\n",
    "    plt.imshow(wordcloud, interpolation='bilinear')\n",
    "    plt.axis(\"off\")\n",
    "    pic = plt.show()\n",
    "    return pic"
   ]
  },
  {
   "cell_type": "code",
   "execution_count": null,
   "id": "7ecf2897",
   "metadata": {},
   "outputs": [],
   "source": []
  }
 ],
 "metadata": {
  "kernelspec": {
   "display_name": "ironhack",
   "language": "python",
   "name": "ironhack"
  },
  "language_info": {
   "codemirror_mode": {
    "name": "ipython",
    "version": 3
   },
   "file_extension": ".py",
   "mimetype": "text/x-python",
   "name": "python",
   "nbconvert_exporter": "python",
   "pygments_lexer": "ipython3",
   "version": "3.9.15"
  },
  "toc": {
   "base_numbering": 1,
   "nav_menu": {},
   "number_sections": true,
   "sideBar": true,
   "skip_h1_title": false,
   "title_cell": "Table of Contents",
   "title_sidebar": "Contents",
   "toc_cell": false,
   "toc_position": {},
   "toc_section_display": true,
   "toc_window_display": false
  }
 },
 "nbformat": 4,
 "nbformat_minor": 5
}
