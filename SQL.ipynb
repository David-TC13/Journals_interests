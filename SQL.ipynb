{
 "cells": [
  {
   "cell_type": "code",
   "execution_count": 1,
   "id": "53692a25",
   "metadata": {},
   "outputs": [],
   "source": [
    "import pymysql\n",
    "import sqlalchemy as alch \n",
    "from getpass import getpass\n",
    "import pandas as pd\n",
    "\n",
    "import os\n",
    "from dotenv import load_dotenv"
   ]
  },
  {
   "cell_type": "code",
   "execution_count": 2,
   "id": "e01b7077",
   "metadata": {},
   "outputs": [
    {
     "data": {
      "text/plain": [
       "True"
      ]
     },
     "execution_count": 2,
     "metadata": {},
     "output_type": "execute_result"
    }
   ],
   "source": [
    "load_dotenv()"
   ]
  },
  {
   "cell_type": "markdown",
   "id": "d637f56e",
   "metadata": {},
   "source": [
    "# Getting the details to run the engine"
   ]
  },
  {
   "cell_type": "code",
   "execution_count": 41,
   "id": "b3fa5deb",
   "metadata": {},
   "outputs": [],
   "source": [
    "password = os.getenv(\"password\")\n",
    "username = os.getenv(\"user\")\n",
    "server   = os.getenv('server')\n",
    "dbName   = os.getenv('dbName')\n",
    "connectionData=f\"mysql+pymysql://{username}:{password}@{server}/{dbName}\"\n",
    "engine   = alch.create_engine(connectionData)"
   ]
  },
  {
   "cell_type": "code",
   "execution_count": 42,
   "id": "f91775c2",
   "metadata": {},
   "outputs": [],
   "source": [
    "bbc_raw=pd.read_csv('data/raw/bbc_raw.csv')\n",
    "cnn_raw=pd.read_csv('data/raw/cnn_raw.csv')\n",
    "pdo_raw=pd.read_csv('data/raw/pd_raw.csv') \n",
    "rt_raw =pd.read_csv('data/raw/rt_raw.csv') "
   ]
  },
  {
   "cell_type": "code",
   "execution_count": 43,
   "id": "3f9b531f",
   "metadata": {},
   "outputs": [
    {
     "data": {
      "text/plain": [
       "370"
      ]
     },
     "execution_count": 43,
     "metadata": {},
     "output_type": "execute_result"
    }
   ],
   "source": [
    "bbc_raw.to_sql('bbc', engine, if_exists='replace', index=False)\n",
    "cnn_raw.to_sql('cnn', engine, if_exists='replace',index=False)\n",
    "pdo_raw.to_sql('people',engine, if_exists='replace',index=False)\n",
    "rt_raw.to_sql('RT',engine, if_exists='replace',index=False)"
   ]
  },
  {
   "cell_type": "markdown",
   "id": "3ef93d6c",
   "metadata": {},
   "source": [
    "## query for 2023"
   ]
  },
  {
   "cell_type": "code",
   "execution_count": 44,
   "id": "e07b8016",
   "metadata": {},
   "outputs": [],
   "source": [
    "def query_2023(table,engine):\n",
    "    df=pd.read_sql_query(f\"\"\" SELECT * FROM {table}\n",
    "    WHERE year>2022\"\"\", engine)\n",
    "    return df"
   ]
  },
  {
   "cell_type": "code",
   "execution_count": 45,
   "id": "0874460b",
   "metadata": {},
   "outputs": [],
   "source": [
    "def to_sql(df, table, engine):\n",
    "    df.to_sql(f'{table}', engine, if_exists='replace',index=True)\n",
    "    return"
   ]
  },
  {
   "cell_type": "code",
   "execution_count": 55,
   "id": "302b38f2",
   "metadata": {},
   "outputs": [],
   "source": [
    "def drop_opinion(table):\n",
    "    df=pd.read_sql_query(f\"\"\"SELECT *\n",
    "                            FROM {table}\n",
    "                            WHERE title not REGEXP 'Opinion';\"\"\",engine)\n",
    "    return df"
   ]
  },
  {
   "cell_type": "code",
   "execution_count": 46,
   "id": "9e6f0724",
   "metadata": {},
   "outputs": [],
   "source": [
    "bbc_raw_2023=query_2023('bbc',engine)"
   ]
  },
  {
   "cell_type": "code",
   "execution_count": 47,
   "id": "ba623f4f",
   "metadata": {
    "scrolled": true
   },
   "outputs": [
    {
     "data": {
      "text/plain": [
       "358"
      ]
     },
     "execution_count": 47,
     "metadata": {},
     "output_type": "execute_result"
    }
   ],
   "source": [
    "bbc_raw_2023.to_sql('bbc', engine, if_exists='replace', index=False)"
   ]
  },
  {
   "cell_type": "code",
   "execution_count": 48,
   "id": "fdd5fa29",
   "metadata": {},
   "outputs": [],
   "source": [
    "cnn_raw_2023 = query_2023('cnn',engine)"
   ]
  },
  {
   "cell_type": "code",
   "execution_count": 50,
   "id": "591e46c0",
   "metadata": {},
   "outputs": [
    {
     "data": {
      "text/plain": [
       "697"
      ]
     },
     "execution_count": 50,
     "metadata": {},
     "output_type": "execute_result"
    }
   ],
   "source": [
    "cnn_raw_2023.to_sql('cnn', engine, if_exists='replace', index=False)"
   ]
  },
  {
   "cell_type": "code",
   "execution_count": 51,
   "id": "084e611b",
   "metadata": {},
   "outputs": [],
   "source": [
    "pdo_raw_2023 = query_2023('people',engine)"
   ]
  },
  {
   "cell_type": "code",
   "execution_count": 52,
   "id": "b78730a1",
   "metadata": {},
   "outputs": [
    {
     "data": {
      "text/plain": [
       "673"
      ]
     },
     "execution_count": 52,
     "metadata": {},
     "output_type": "execute_result"
    }
   ],
   "source": [
    "pdo_raw_2023.to_sql('people', engine, if_exists='replace', index=False)"
   ]
  },
  {
   "cell_type": "code",
   "execution_count": 53,
   "id": "efeda282",
   "metadata": {},
   "outputs": [],
   "source": [
    "rt_raw_2023 = query_2023('RT',engine)"
   ]
  },
  {
   "cell_type": "code",
   "execution_count": 54,
   "id": "ea5de01d",
   "metadata": {},
   "outputs": [
    {
     "data": {
      "text/plain": [
       "303"
      ]
     },
     "execution_count": 54,
     "metadata": {},
     "output_type": "execute_result"
    }
   ],
   "source": [
    "rt_raw_2023.to_sql('RT', engine, if_exists='replace', index=False)"
   ]
  },
  {
   "cell_type": "code",
   "execution_count": null,
   "id": "a4b930e5",
   "metadata": {},
   "outputs": [],
   "source": []
  }
 ],
 "metadata": {
  "kernelspec": {
   "display_name": "ironhack",
   "language": "python",
   "name": "ironhack"
  },
  "language_info": {
   "codemirror_mode": {
    "name": "ipython",
    "version": 3
   },
   "file_extension": ".py",
   "mimetype": "text/x-python",
   "name": "python",
   "nbconvert_exporter": "python",
   "pygments_lexer": "ipython3",
   "version": "3.9.15"
  },
  "toc": {
   "base_numbering": 1,
   "nav_menu": {},
   "number_sections": true,
   "sideBar": true,
   "skip_h1_title": false,
   "title_cell": "Table of Contents",
   "title_sidebar": "Contents",
   "toc_cell": false,
   "toc_position": {},
   "toc_section_display": true,
   "toc_window_display": false
  }
 },
 "nbformat": 4,
 "nbformat_minor": 5
}
