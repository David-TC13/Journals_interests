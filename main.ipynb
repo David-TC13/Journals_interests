{
 "cells": [
  {
   "cell_type": "markdown",
   "id": "a8426655",
   "metadata": {},
   "source": [
    "# Main"
   ]
  },
  {
   "cell_type": "code",
   "execution_count": 1,
   "id": "7e8ef9d0",
   "metadata": {},
   "outputs": [],
   "source": [
    "from selenium import webdriver\n",
    "from selenium.webdriver.common.keys import Keys\n",
    "from selenium.webdriver.common.by import By\n",
    "from selenium.webdriver.support.ui import WebDriverWait\n",
    "from selenium.webdriver.support import expected_conditions as EC\n",
    "from selenium import webdriver\n",
    "from selenium.webdriver.support.ui import Select\n",
    "from datetime import datetime\n",
    "\n",
    "import requests\n",
    "from bs4 import BeautifulSoup\n",
    "import re as re\n",
    "import time\n",
    "import pandas as pd\n",
    "import numpy as np\n",
    "\n",
    "import nltk\n",
    "from nltk.tokenize import word_tokenize\n",
    "from nltk.corpus import stopwords\n",
    "from collections import Counter\n",
    "\n",
    "from nltk.sentiment.vader import SentimentIntensityAnalyzer\n",
    "from textblob import TextBlob"
   ]
  },
  {
   "cell_type": "markdown",
   "id": "772960a7",
   "metadata": {},
   "source": [
    "## Webscrapping"
   ]
  },
  {
   "cell_type": "markdown",
   "id": "f4941d4a",
   "metadata": {},
   "source": [
    "### Importing BBC webscrapping"
   ]
  },
  {
   "cell_type": "markdown",
   "id": "f870e2bc",
   "metadata": {},
   "source": [
    "#### Getting the data"
   ]
  },
  {
   "cell_type": "code",
   "execution_count": 2,
   "id": "684912c9",
   "metadata": {},
   "outputs": [],
   "source": [
    "import src.BBC_webscrapping as bbc"
   ]
  },
  {
   "cell_type": "code",
   "execution_count": 3,
   "id": "83e577ef",
   "metadata": {},
   "outputs": [],
   "source": [
    "df_bbc_russia = bbc.keyword('Russia',200)"
   ]
  },
  {
   "cell_type": "code",
   "execution_count": 4,
   "id": "2ba4f0bf",
   "metadata": {},
   "outputs": [],
   "source": [
    "df_bbc_china = bbc.keyword('China',200)"
   ]
  },
  {
   "cell_type": "markdown",
   "id": "a4aa9528",
   "metadata": {},
   "source": [
    "### Importing CNN webscrapping"
   ]
  },
  {
   "cell_type": "markdown",
   "id": "fe613a43",
   "metadata": {},
   "source": [
    "#### Getting the data"
   ]
  },
  {
   "cell_type": "code",
   "execution_count": 2,
   "id": "cb85a04b",
   "metadata": {},
   "outputs": [],
   "source": [
    "import src.CNN_webscrapping as cnn"
   ]
  },
  {
   "cell_type": "code",
   "execution_count": 3,
   "id": "9015b2bc",
   "metadata": {},
   "outputs": [],
   "source": [
    "df_cnn_russia = cnn.keyword('Russia',200)"
   ]
  },
  {
   "cell_type": "code",
   "execution_count": 3,
   "id": "b3e69da4",
   "metadata": {},
   "outputs": [],
   "source": [
    "df_cnn_china = cnn.keyword('China',200)"
   ]
  },
  {
   "cell_type": "markdown",
   "id": "c178d12d",
   "metadata": {},
   "source": [
    "### Importing Peoples's  Daily Online"
   ]
  },
  {
   "cell_type": "markdown",
   "id": "19b70ed5",
   "metadata": {},
   "source": [
    "#### Getting the data"
   ]
  },
  {
   "cell_type": "code",
   "execution_count": 45,
   "id": "8a6fccb8",
   "metadata": {},
   "outputs": [],
   "source": [
    "import src.peoples_webscrapping as pdo"
   ]
  },
  {
   "cell_type": "code",
   "execution_count": 6,
   "id": "5b698483",
   "metadata": {},
   "outputs": [],
   "source": [
    "df_united_states = pdo.keyword('United States',60)"
   ]
  },
  {
   "cell_type": "code",
   "execution_count": 8,
   "id": "43ae916b",
   "metadata": {},
   "outputs": [],
   "source": [
    "df_usa = pdo.keyword('USA',60)"
   ]
  },
  {
   "cell_type": "code",
   "execution_count": 9,
   "id": "5c8fd23d",
   "metadata": {},
   "outputs": [],
   "source": [
    "df_us_all=pd.concat([df_united_states,df_usa])"
   ]
  },
  {
   "cell_type": "code",
   "execution_count": 46,
   "id": "bb86ea7b",
   "metadata": {},
   "outputs": [],
   "source": [
    "df_uk = pdo.keyword('UK',60)"
   ]
  },
  {
   "cell_type": "code",
   "execution_count": 49,
   "id": "5951d920",
   "metadata": {},
   "outputs": [],
   "source": [
    "df_united_kingdom = pdo.keyword('United Kingdom',60)"
   ]
  },
  {
   "cell_type": "code",
   "execution_count": 50,
   "id": "fc36f0f6",
   "metadata": {},
   "outputs": [],
   "source": [
    "df_uk_all=pd.concat([df_uk,df_united_kingdom])"
   ]
  },
  {
   "cell_type": "markdown",
   "id": "08bd60e4",
   "metadata": {},
   "source": [
    "### Importing RT webscrapping"
   ]
  },
  {
   "cell_type": "markdown",
   "id": "a6a53fd2",
   "metadata": {},
   "source": [
    "#### Getting the data"
   ]
  },
  {
   "cell_type": "code",
   "execution_count": 27,
   "id": "16b4641f",
   "metadata": {},
   "outputs": [],
   "source": [
    "import src.RT_webscrapping as rt"
   ]
  },
  {
   "cell_type": "code",
   "execution_count": 21,
   "id": "8fb602b7",
   "metadata": {},
   "outputs": [],
   "source": [
    "df_united_states = rt.keyword('United States',100)"
   ]
  },
  {
   "cell_type": "code",
   "execution_count": 29,
   "id": "5eeff590",
   "metadata": {},
   "outputs": [],
   "source": [
    "df_usa = rt.keyword('USA',20)"
   ]
  },
  {
   "cell_type": "code",
   "execution_count": 30,
   "id": "91e48417",
   "metadata": {},
   "outputs": [],
   "source": [
    "df_us_all= pd.concat([df_united_states,df_usa])"
   ]
  },
  {
   "cell_type": "code",
   "execution_count": 32,
   "id": "f3799cd7",
   "metadata": {},
   "outputs": [],
   "source": [
    "df_united_kingdom = rt.keyword('United Kingdom',100)"
   ]
  },
  {
   "cell_type": "code",
   "execution_count": 37,
   "id": "24e01286",
   "metadata": {},
   "outputs": [],
   "source": [
    "df_united_kingdom.to_csv('rt_pre.csv')"
   ]
  },
  {
   "cell_type": "code",
   "execution_count": null,
   "id": "16e64327",
   "metadata": {},
   "outputs": [],
   "source": [
    "df_uk = rt.keyword('uk',100)"
   ]
  },
  {
   "cell_type": "code",
   "execution_count": 39,
   "id": "a308c6ad",
   "metadata": {},
   "outputs": [],
   "source": [
    "df_uk_all=pd.concat([df_united_kingdom,df_uk])"
   ]
  },
  {
   "cell_type": "markdown",
   "id": "0a180813",
   "metadata": {},
   "source": [
    "## Saving into CSV"
   ]
  },
  {
   "cell_type": "markdown",
   "id": "55a282cd",
   "metadata": {},
   "source": [
    "- BBC"
   ]
  },
  {
   "cell_type": "code",
   "execution_count": 6,
   "id": "9f2e0ac7",
   "metadata": {},
   "outputs": [],
   "source": [
    "df_bbc_china.to_csv('data/raw/bbc_china.csv',index=False)  "
   ]
  },
  {
   "cell_type": "code",
   "execution_count": 5,
   "id": "f63b1682",
   "metadata": {},
   "outputs": [],
   "source": [
    "df_bbc_russia.to_csv('data/raw/bbc_russia.csv',index=False)  "
   ]
  },
  {
   "cell_type": "markdown",
   "id": "d3c505a2",
   "metadata": {},
   "source": [
    "- CNN"
   ]
  },
  {
   "cell_type": "code",
   "execution_count": 4,
   "id": "35c96e46",
   "metadata": {},
   "outputs": [],
   "source": [
    "df_cnn_china.to_csv('data/raw/cnn_china.csv',index=False)"
   ]
  },
  {
   "cell_type": "code",
   "execution_count": 4,
   "id": "31b2dc91",
   "metadata": {},
   "outputs": [],
   "source": [
    "df_cnn_russia.to_csv('data/raw/cnn_russia.csv',index=False)"
   ]
  },
  {
   "cell_type": "markdown",
   "id": "1ff7f6a4",
   "metadata": {},
   "source": [
    "- People's daily online"
   ]
  },
  {
   "cell_type": "code",
   "execution_count": 10,
   "id": "b6a9573c",
   "metadata": {},
   "outputs": [],
   "source": [
    "df_us_all.to_csv('data/raw/pdo_united_states.csv',index=False)  "
   ]
  },
  {
   "cell_type": "code",
   "execution_count": 52,
   "id": "2aa57c29",
   "metadata": {},
   "outputs": [],
   "source": [
    "df_uk_all.to_csv('data/raw/pdo_united_kingdom.csv',index=False)  "
   ]
  },
  {
   "cell_type": "markdown",
   "id": "78196070",
   "metadata": {},
   "source": [
    "- RT"
   ]
  },
  {
   "cell_type": "code",
   "execution_count": 32,
   "id": "9edb2b54",
   "metadata": {},
   "outputs": [],
   "source": [
    "df_us_all.to_csv('data/raw/rt_united_states.csv',index=False)  "
   ]
  },
  {
   "cell_type": "code",
   "execution_count": 42,
   "id": "c97f8d62",
   "metadata": {},
   "outputs": [],
   "source": [
    "df_uk_all.to_csv('data/raw/rt_united_kingdom.csv',index=False)  "
   ]
  },
  {
   "cell_type": "markdown",
   "id": "a12cbb52",
   "metadata": {},
   "source": [
    "## Natural Lnaguaje, Subjectivity and Polarity analysis"
   ]
  },
  {
   "cell_type": "markdown",
   "id": "3f1e3c77",
   "metadata": {},
   "source": [
    "### Importing functions"
   ]
  },
  {
   "cell_type": "code",
   "execution_count": 2,
   "id": "b8e0f065",
   "metadata": {},
   "outputs": [],
   "source": [
    "import src.NLTK_analysis as nk"
   ]
  },
  {
   "cell_type": "markdown",
   "id": "016dec7b",
   "metadata": {},
   "source": [
    "### Applying to BBC"
   ]
  },
  {
   "cell_type": "markdown",
   "id": "4430afd8",
   "metadata": {},
   "source": [
    "- China"
   ]
  },
  {
   "cell_type": "code",
   "execution_count": 3,
   "id": "277fe699",
   "metadata": {},
   "outputs": [],
   "source": [
    "df_bbc_china=pd.read_csv('data/raw/bbc_china.csv')"
   ]
  },
  {
   "cell_type": "code",
   "execution_count": 4,
   "id": "b23a5fe9",
   "metadata": {},
   "outputs": [],
   "source": [
    "df_bbc_china = nk.preprocess(df_bbc_china)"
   ]
  },
  {
   "cell_type": "code",
   "execution_count": 5,
   "id": "fc4fad46",
   "metadata": {},
   "outputs": [],
   "source": [
    "df_bbc_china.to_csv('data/processed/bbc_china_proc.csv',index=False)"
   ]
  },
  {
   "cell_type": "markdown",
   "id": "f32e524f",
   "metadata": {},
   "source": [
    "- Russia"
   ]
  },
  {
   "cell_type": "code",
   "execution_count": 6,
   "id": "eb4021c8",
   "metadata": {},
   "outputs": [],
   "source": [
    "df_bbc_russia=pd.read_csv('data/raw/bbc_russia.csv')"
   ]
  },
  {
   "cell_type": "code",
   "execution_count": 7,
   "id": "07558b25",
   "metadata": {},
   "outputs": [],
   "source": [
    "df_bbc_russia = nk.preprocess(df_bbc_russia)"
   ]
  },
  {
   "cell_type": "code",
   "execution_count": 8,
   "id": "2fefb42e",
   "metadata": {},
   "outputs": [],
   "source": [
    "df_bbc_russia.to_csv('data/processed/bbc_russia_proc.csv',index=False)"
   ]
  },
  {
   "cell_type": "markdown",
   "id": "f84dd900",
   "metadata": {},
   "source": [
    "### Applying to CNN"
   ]
  },
  {
   "cell_type": "markdown",
   "id": "3d733c08",
   "metadata": {},
   "source": [
    "- China"
   ]
  },
  {
   "cell_type": "code",
   "execution_count": 9,
   "id": "6c3c975a",
   "metadata": {},
   "outputs": [],
   "source": [
    "df_cnn_china=pd.read_csv('data/raw/cnn_china.csv')"
   ]
  },
  {
   "cell_type": "code",
   "execution_count": 10,
   "id": "6a576af6",
   "metadata": {},
   "outputs": [],
   "source": [
    "df_cnn_china = nk.preprocess(df_cnn_china)"
   ]
  },
  {
   "cell_type": "code",
   "execution_count": 11,
   "id": "14a6de56",
   "metadata": {},
   "outputs": [],
   "source": [
    "df_cnn_china.to_csv('data/processed/cnn_china_proc.csv',index=False)"
   ]
  },
  {
   "cell_type": "markdown",
   "id": "297cc45a",
   "metadata": {},
   "source": [
    "- Russia"
   ]
  },
  {
   "cell_type": "code",
   "execution_count": 12,
   "id": "dad27dc2",
   "metadata": {},
   "outputs": [],
   "source": [
    "df_cnn_russia=pd.read_csv('data/raw/cnn_russia.csv')"
   ]
  },
  {
   "cell_type": "code",
   "execution_count": 13,
   "id": "153e809a",
   "metadata": {},
   "outputs": [],
   "source": [
    "df_cnn_russia = nk.preprocess(df_cnn_russia)"
   ]
  },
  {
   "cell_type": "code",
   "execution_count": 14,
   "id": "18f7eccb",
   "metadata": {},
   "outputs": [],
   "source": [
    "df_cnn_russia.to_csv('data/processed/cnn_russia_proc.csv',index=False)"
   ]
  },
  {
   "cell_type": "markdown",
   "id": "4aaa3cd6",
   "metadata": {},
   "source": [
    "### Applying to People's Daily Online"
   ]
  },
  {
   "cell_type": "markdown",
   "id": "8e1010bb",
   "metadata": {},
   "source": [
    "- United States of America"
   ]
  },
  {
   "cell_type": "code",
   "execution_count": 15,
   "id": "a065b502",
   "metadata": {},
   "outputs": [],
   "source": [
    "df_pdo_us=pd.read_csv('data/raw/pdo_united_states.csv')"
   ]
  },
  {
   "cell_type": "code",
   "execution_count": 16,
   "id": "c6ef7638",
   "metadata": {},
   "outputs": [],
   "source": [
    "df_pdo_us = nk.preprocess(df_pdo_us)"
   ]
  },
  {
   "cell_type": "code",
   "execution_count": 17,
   "id": "e4ca7a8d",
   "metadata": {},
   "outputs": [],
   "source": [
    "df_pdo_us.to_csv('data/processed/pdo_united_states_proc.csv',index=False)"
   ]
  },
  {
   "cell_type": "markdown",
   "id": "5f133da2",
   "metadata": {},
   "source": [
    "- United Kingdom"
   ]
  },
  {
   "cell_type": "code",
   "execution_count": 18,
   "id": "37e65772",
   "metadata": {},
   "outputs": [],
   "source": [
    "df_pdo_uk=pd.read_csv('data/raw/pdo_united_kingdom.csv')"
   ]
  },
  {
   "cell_type": "code",
   "execution_count": 19,
   "id": "b0cc55a3",
   "metadata": {},
   "outputs": [],
   "source": [
    "df_pdo_uk = nk.preprocess(df_pdo_uk)"
   ]
  },
  {
   "cell_type": "code",
   "execution_count": 20,
   "id": "081d7a0c",
   "metadata": {
    "scrolled": true
   },
   "outputs": [],
   "source": [
    "df_pdo_uk.to_csv('data/processed/pdo_united_kingdom_proc.csv',index=False)"
   ]
  },
  {
   "cell_type": "markdown",
   "id": "fb30d578",
   "metadata": {},
   "source": [
    "### Applying to RT"
   ]
  },
  {
   "cell_type": "markdown",
   "id": "8b375ca3",
   "metadata": {},
   "source": [
    "- United States of America"
   ]
  },
  {
   "cell_type": "code",
   "execution_count": 21,
   "id": "fc10952f",
   "metadata": {},
   "outputs": [],
   "source": [
    "df_rt_us=pd.read_csv('data/raw/rt_united_states.csv')"
   ]
  },
  {
   "cell_type": "code",
   "execution_count": 22,
   "id": "28499587",
   "metadata": {},
   "outputs": [],
   "source": [
    "df_rt_us = nk.preprocess(df_rt_us)"
   ]
  },
  {
   "cell_type": "code",
   "execution_count": 23,
   "id": "5d228afd",
   "metadata": {},
   "outputs": [],
   "source": [
    "df_rt_us.to_csv('data/processed/rt_united_states_proc.csv',index=False)"
   ]
  },
  {
   "cell_type": "markdown",
   "id": "95f88df9",
   "metadata": {},
   "source": [
    "- United Kingdom"
   ]
  },
  {
   "cell_type": "code",
   "execution_count": 24,
   "id": "cb04b98c",
   "metadata": {},
   "outputs": [],
   "source": [
    "df_rt_uk=pd.read_csv('data/raw/rt_united_kingdom.csv')"
   ]
  },
  {
   "cell_type": "code",
   "execution_count": 25,
   "id": "b2d5bb8a",
   "metadata": {},
   "outputs": [],
   "source": [
    "df_rt_uk = nk.preprocess(df_rt_uk)"
   ]
  },
  {
   "cell_type": "code",
   "execution_count": 26,
   "id": "96d22a74",
   "metadata": {
    "scrolled": false
   },
   "outputs": [],
   "source": [
    "df_rt_uk.to_csv('data/processed/rt_united_kingdom_proc.csv',index=False)"
   ]
  },
  {
   "cell_type": "code",
   "execution_count": null,
   "id": "65b015ef",
   "metadata": {},
   "outputs": [],
   "source": []
  },
  {
   "cell_type": "code",
   "execution_count": null,
   "id": "ba930f8d",
   "metadata": {},
   "outputs": [],
   "source": []
  }
 ],
 "metadata": {
  "kernelspec": {
   "display_name": "ironhack",
   "language": "python",
   "name": "ironhack"
  },
  "language_info": {
   "codemirror_mode": {
    "name": "ipython",
    "version": 3
   },
   "file_extension": ".py",
   "mimetype": "text/x-python",
   "name": "python",
   "nbconvert_exporter": "python",
   "pygments_lexer": "ipython3",
   "version": "3.9.15"
  },
  "toc": {
   "base_numbering": 1,
   "nav_menu": {},
   "number_sections": true,
   "sideBar": true,
   "skip_h1_title": false,
   "title_cell": "Table of Contents",
   "title_sidebar": "Contents",
   "toc_cell": false,
   "toc_position": {},
   "toc_section_display": true,
   "toc_window_display": false
  }
 },
 "nbformat": 4,
 "nbformat_minor": 5
}
