{
 "cells": [
  {
   "cell_type": "code",
   "execution_count": 1,
   "id": "7e8ef9d0",
   "metadata": {},
   "outputs": [],
   "source": [
    "from selenium import webdriver\n",
    "from selenium.webdriver.common.keys import Keys\n",
    "from selenium.webdriver.common.by import By\n",
    "from selenium.webdriver.support.ui import WebDriverWait\n",
    "from selenium.webdriver.support import expected_conditions as EC\n",
    "from selenium import webdriver\n",
    "from selenium.webdriver.support.ui import Select\n",
    "from datetime import datetime\n",
    "\n",
    "\n",
    "import requests\n",
    "from bs4 import BeautifulSoup\n",
    "import re as re\n",
    "import time\n",
    "import pandas as pd\n",
    "import numpy as np\n",
    "\n",
    "import nltk\n",
    "from nltk.tokenize import word_tokenize\n",
    "from nltk.corpus import stopwords\n",
    "from collections import Counter\n"
   ]
  },
  {
   "cell_type": "markdown",
   "id": "772960a7",
   "metadata": {},
   "source": [
    "# Webscrapping"
   ]
  },
  {
   "cell_type": "markdown",
   "id": "f4941d4a",
   "metadata": {},
   "source": [
    "## Importing BBC webscrapping"
   ]
  },
  {
   "cell_type": "markdown",
   "id": "f870e2bc",
   "metadata": {},
   "source": [
    "### Getting the data"
   ]
  },
  {
   "cell_type": "code",
   "execution_count": 2,
   "id": "684912c9",
   "metadata": {},
   "outputs": [],
   "source": [
    "import src.BBC_webscrapping as bbc"
   ]
  },
  {
   "cell_type": "code",
   "execution_count": 3,
   "id": "83e577ef",
   "metadata": {},
   "outputs": [],
   "source": [
    "df_bbc_russia = bbc.keyword('Russia',200)"
   ]
  },
  {
   "cell_type": "code",
   "execution_count": 4,
   "id": "2ba4f0bf",
   "metadata": {},
   "outputs": [],
   "source": [
    "df_bbc_china = bbc.keyword('China',200)"
   ]
  },
  {
   "cell_type": "markdown",
   "id": "d0b5af7a",
   "metadata": {},
   "source": [
    "### Saving data into CSV"
   ]
  },
  {
   "cell_type": "code",
   "execution_count": 5,
   "id": "f63b1682",
   "metadata": {},
   "outputs": [],
   "source": [
    "df_bbc_russia.to_csv('data/bbc_russia.csv',index=False)  "
   ]
  },
  {
   "cell_type": "code",
   "execution_count": 6,
   "id": "9f2e0ac7",
   "metadata": {},
   "outputs": [],
   "source": [
    "df_bbc_china.to_csv('data/bbc_china.csv',index=False)  "
   ]
  },
  {
   "cell_type": "markdown",
   "id": "a4aa9528",
   "metadata": {},
   "source": [
    "## Importing CNN webscrapping"
   ]
  },
  {
   "cell_type": "markdown",
   "id": "fe613a43",
   "metadata": {},
   "source": [
    "### Getting the data"
   ]
  },
  {
   "cell_type": "code",
   "execution_count": 2,
   "id": "cb85a04b",
   "metadata": {},
   "outputs": [],
   "source": [
    "import src.CNN_webscrapping as cnn"
   ]
  },
  {
   "cell_type": "code",
   "execution_count": 3,
   "id": "9015b2bc",
   "metadata": {},
   "outputs": [],
   "source": [
    "df_cnn_russia = cnn.keyword('Russia',200)"
   ]
  },
  {
   "cell_type": "code",
   "execution_count": 3,
   "id": "b3e69da4",
   "metadata": {},
   "outputs": [],
   "source": [
    "df_cnn_china = cnn.keyword('China',200)"
   ]
  },
  {
   "cell_type": "markdown",
   "id": "d0a5bc16",
   "metadata": {},
   "source": [
    "### Saving data into CSV"
   ]
  },
  {
   "cell_type": "code",
   "execution_count": 4,
   "id": "31b2dc91",
   "metadata": {},
   "outputs": [],
   "source": [
    "df_cnn_russia.to_csv('data/cnn_russia.csv',index=False)"
   ]
  },
  {
   "cell_type": "code",
   "execution_count": 4,
   "id": "35c96e46",
   "metadata": {},
   "outputs": [],
   "source": [
    "df_cnn_china.to_csv('data/cnn_china.csv',index=False)"
   ]
  },
  {
   "cell_type": "markdown",
   "id": "c178d12d",
   "metadata": {},
   "source": [
    "## Importing Peoples's  Daily Online"
   ]
  },
  {
   "cell_type": "markdown",
   "id": "19b70ed5",
   "metadata": {},
   "source": [
    "### Getting the data"
   ]
  },
  {
   "cell_type": "code",
   "execution_count": 5,
   "id": "8a6fccb8",
   "metadata": {},
   "outputs": [],
   "source": [
    "import src.peoples_webscrapping as pdo"
   ]
  },
  {
   "cell_type": "code",
   "execution_count": 6,
   "id": "5b698483",
   "metadata": {},
   "outputs": [],
   "source": [
    "df_united_states = pdo.keyword('United States',60)"
   ]
  },
  {
   "cell_type": "code",
   "execution_count": 8,
   "id": "43ae916b",
   "metadata": {},
   "outputs": [],
   "source": [
    "df_usa = pdo.keyword('USA',60)"
   ]
  },
  {
   "cell_type": "code",
   "execution_count": 9,
   "id": "5c8fd23d",
   "metadata": {},
   "outputs": [],
   "source": [
    "df_us_all=pd.concat([df_united_states,df_usa])"
   ]
  },
  {
   "cell_type": "code",
   "execution_count": 13,
   "id": "bb86ea7b",
   "metadata": {},
   "outputs": [],
   "source": [
    "df_uk = pdo.keyword('UK',60)"
   ]
  },
  {
   "cell_type": "code",
   "execution_count": 14,
   "id": "5951d920",
   "metadata": {},
   "outputs": [],
   "source": [
    "df_united_kingdom = pdo.keyword('United Kingdom',60)"
   ]
  },
  {
   "cell_type": "code",
   "execution_count": 17,
   "id": "fc36f0f6",
   "metadata": {},
   "outputs": [],
   "source": [
    "df_uk_all=pd.concat([df_uk,df_united_kingdom])"
   ]
  },
  {
   "cell_type": "markdown",
   "id": "a2714321",
   "metadata": {},
   "source": [
    "### Saving into CSV"
   ]
  },
  {
   "cell_type": "code",
   "execution_count": 10,
   "id": "b6a9573c",
   "metadata": {},
   "outputs": [],
   "source": [
    "df_us_all.to_csv('data/pdo_united_states.csv',index=False)  "
   ]
  },
  {
   "cell_type": "code",
   "execution_count": 19,
   "id": "2aa57c29",
   "metadata": {},
   "outputs": [],
   "source": [
    "df_uk_all.to_csv('data/pdo_united_kingdom.csv',index=False)  "
   ]
  },
  {
   "cell_type": "markdown",
   "id": "08bd60e4",
   "metadata": {},
   "source": [
    "## Importing RT webscrapping"
   ]
  },
  {
   "cell_type": "markdown",
   "id": "a6a53fd2",
   "metadata": {},
   "source": [
    "### Getting the data"
   ]
  },
  {
   "cell_type": "code",
   "execution_count": 51,
   "id": "16b4641f",
   "metadata": {},
   "outputs": [],
   "source": [
    "import src.RT_webscrapping as rt"
   ]
  },
  {
   "cell_type": "code",
   "execution_count": 21,
   "id": "8fb602b7",
   "metadata": {},
   "outputs": [],
   "source": [
    "df_united_states = rt.keyword('United States',100)"
   ]
  },
  {
   "cell_type": "code",
   "execution_count": 29,
   "id": "5eeff590",
   "metadata": {},
   "outputs": [],
   "source": [
    "df_usa = rt.keyword('USA',20)"
   ]
  },
  {
   "cell_type": "code",
   "execution_count": 30,
   "id": "91e48417",
   "metadata": {},
   "outputs": [],
   "source": [
    "df_us_all= pd.concat([df_united_states,df_usa])"
   ]
  },
  {
   "cell_type": "code",
   "execution_count": 33,
   "id": "f3799cd7",
   "metadata": {},
   "outputs": [],
   "source": [
    "df_united_kingdom = rt.keyword('United Kingdom',70)"
   ]
  },
  {
   "cell_type": "code",
   "execution_count": 45,
   "id": "a3de202d",
   "metadata": {},
   "outputs": [],
   "source": [
    "df_uk = rt.keyword('uk',40)"
   ]
  },
  {
   "cell_type": "code",
   "execution_count": 47,
   "id": "601e4d0c",
   "metadata": {},
   "outputs": [],
   "source": [
    "df_uk_all=pd.concat([df_united_kingdom,df_uk])"
   ]
  },
  {
   "cell_type": "markdown",
   "id": "0a180813",
   "metadata": {},
   "source": [
    "### Saving into CSV"
   ]
  },
  {
   "cell_type": "code",
   "execution_count": 32,
   "id": "9edb2b54",
   "metadata": {},
   "outputs": [],
   "source": [
    "df_us_all.to_csv('data/rt_united_states.csv',index=False)  "
   ]
  },
  {
   "cell_type": "code",
   "execution_count": 49,
   "id": "c97f8d62",
   "metadata": {},
   "outputs": [],
   "source": [
    "df_uk_all.to_csv('data/pdo_united_kingdom.csv',index=False)  "
   ]
  },
  {
   "cell_type": "markdown",
   "id": "a12cbb52",
   "metadata": {},
   "source": [
    "# NLTK analysis"
   ]
  },
  {
   "cell_type": "markdown",
   "id": "3f1e3c77",
   "metadata": {},
   "source": [
    "## Importing functions"
   ]
  },
  {
   "cell_type": "code",
   "execution_count": 2,
   "id": "b8e0f065",
   "metadata": {},
   "outputs": [],
   "source": [
    "import src.NLTK_analysis as nk"
   ]
  },
  {
   "cell_type": "markdown",
   "id": "016dec7b",
   "metadata": {},
   "source": [
    "## Applying to BBC"
   ]
  },
  {
   "cell_type": "markdown",
   "id": "4430afd8",
   "metadata": {},
   "source": [
    "- China"
   ]
  },
  {
   "cell_type": "code",
   "execution_count": 3,
   "id": "277fe699",
   "metadata": {},
   "outputs": [],
   "source": [
    "df_bbc_china=pd.read_csv('data/bbc_china.csv')"
   ]
  },
  {
   "cell_type": "code",
   "execution_count": 4,
   "id": "b23a5fe9",
   "metadata": {},
   "outputs": [],
   "source": [
    "df_bbc_china = nk.preprocess(df_bbc_china)"
   ]
  },
  {
   "cell_type": "code",
   "execution_count": 5,
   "id": "fc4fad46",
   "metadata": {},
   "outputs": [
    {
     "data": {
      "text/html": [
       "<div>\n",
       "<style scoped>\n",
       "    .dataframe tbody tr th:only-of-type {\n",
       "        vertical-align: middle;\n",
       "    }\n",
       "\n",
       "    .dataframe tbody tr th {\n",
       "        vertical-align: top;\n",
       "    }\n",
       "\n",
       "    .dataframe thead th {\n",
       "        text-align: right;\n",
       "    }\n",
       "</style>\n",
       "<table border=\"1\" class=\"dataframe\">\n",
       "  <thead>\n",
       "    <tr style=\"text-align: right;\">\n",
       "      <th></th>\n",
       "      <th>title</th>\n",
       "      <th>article</th>\n",
       "      <th>link</th>\n",
       "      <th>day_x</th>\n",
       "      <th>month</th>\n",
       "      <th>year</th>\n",
       "      <th>china</th>\n",
       "      <th>covid</th>\n",
       "      <th>chinese</th>\n",
       "      <th>balloon</th>\n",
       "      <th>...</th>\n",
       "      <th>artshealthworld</th>\n",
       "      <th>tvin</th>\n",
       "      <th>watch</th>\n",
       "      <th>picturesreality</th>\n",
       "      <th>assault</th>\n",
       "      <th>failed</th>\n",
       "      <th>checknewsbeatlong</th>\n",
       "      <th>surge</th>\n",
       "      <th>security</th>\n",
       "      <th>row</th>\n",
       "    </tr>\n",
       "  </thead>\n",
       "  <tbody>\n",
       "    <tr>\n",
       "      <th>81</th>\n",
       "      <td>China Covid: Coffins sell out as rural losses ...</td>\n",
       "      <td>China Covid: Coffins sell out as rural losses ...</td>\n",
       "      <td>https://www.bbc.co.uk/news/world-asia-china-64...</td>\n",
       "      <td>25</td>\n",
       "      <td>1</td>\n",
       "      <td>2023</td>\n",
       "      <td>6.0</td>\n",
       "      <td>14.0</td>\n",
       "      <td>NaN</td>\n",
       "      <td>NaN</td>\n",
       "      <td>...</td>\n",
       "      <td>NaN</td>\n",
       "      <td>NaN</td>\n",
       "      <td>NaN</td>\n",
       "      <td>NaN</td>\n",
       "      <td>NaN</td>\n",
       "      <td>NaN</td>\n",
       "      <td>NaN</td>\n",
       "      <td>NaN</td>\n",
       "      <td>NaN</td>\n",
       "      <td>NaN</td>\n",
       "    </tr>\n",
       "  </tbody>\n",
       "</table>\n",
       "<p>1 rows × 56 columns</p>\n",
       "</div>"
      ],
      "text/plain": [
       "                                                title  \\\n",
       "81  China Covid: Coffins sell out as rural losses ...   \n",
       "\n",
       "                                              article  \\\n",
       "81  China Covid: Coffins sell out as rural losses ...   \n",
       "\n",
       "                                                 link  day_x  month  year  \\\n",
       "81  https://www.bbc.co.uk/news/world-asia-china-64...     25      1  2023   \n",
       "\n",
       "    china  covid  chinese  balloon  ...  artshealthworld  tvin  watch  \\\n",
       "81    6.0   14.0      NaN      NaN  ...              NaN   NaN    NaN   \n",
       "\n",
       "    picturesreality  assault  failed  checknewsbeatlong  surge  security  row  \n",
       "81              NaN      NaN     NaN                NaN    NaN       NaN  NaN  \n",
       "\n",
       "[1 rows x 56 columns]"
      ]
     },
     "execution_count": 5,
     "metadata": {},
     "output_type": "execute_result"
    }
   ],
   "source": [
    "df_bbc_china.sample()"
   ]
  },
  {
   "cell_type": "markdown",
   "id": "f32e524f",
   "metadata": {},
   "source": [
    "- Russia"
   ]
  },
  {
   "cell_type": "code",
   "execution_count": 6,
   "id": "eb4021c8",
   "metadata": {},
   "outputs": [],
   "source": [
    "df_bbc_russia=pd.read_csv('data/bbc_russia.csv')"
   ]
  },
  {
   "cell_type": "code",
   "execution_count": 9,
   "id": "07558b25",
   "metadata": {},
   "outputs": [],
   "source": [
    "df_bbc_russia = nk.preprocess(df_bbc_russia)"
   ]
  },
  {
   "cell_type": "code",
   "execution_count": 10,
   "id": "2fefb42e",
   "metadata": {},
   "outputs": [
    {
     "data": {
      "text/html": [
       "<div>\n",
       "<style scoped>\n",
       "    .dataframe tbody tr th:only-of-type {\n",
       "        vertical-align: middle;\n",
       "    }\n",
       "\n",
       "    .dataframe tbody tr th {\n",
       "        vertical-align: top;\n",
       "    }\n",
       "\n",
       "    .dataframe thead th {\n",
       "        text-align: right;\n",
       "    }\n",
       "</style>\n",
       "<table border=\"1\" class=\"dataframe\">\n",
       "  <thead>\n",
       "    <tr style=\"text-align: right;\">\n",
       "      <th></th>\n",
       "      <th>title</th>\n",
       "      <th>article</th>\n",
       "      <th>link</th>\n",
       "      <th>day_x</th>\n",
       "      <th>month</th>\n",
       "      <th>year</th>\n",
       "      <th>ukraine</th>\n",
       "      <th>russia</th>\n",
       "      <th>russian</th>\n",
       "      <th>war</th>\n",
       "      <th>...</th>\n",
       "      <th>government</th>\n",
       "      <th>embassy</th>\n",
       "      <th>nuclear</th>\n",
       "      <th>ministry</th>\n",
       "      <th>attack</th>\n",
       "      <th>newsmenuhomewar</th>\n",
       "      <th>failed</th>\n",
       "      <th>prigozhin</th>\n",
       "      <th>artshealthworld</th>\n",
       "      <th>serbia</th>\n",
       "    </tr>\n",
       "  </thead>\n",
       "  <tbody>\n",
       "    <tr>\n",
       "      <th>21</th>\n",
       "      <td>Russia country profile - BBC News</td>\n",
       "      <td>Russia country profile - BBC NewsBBC HomepageS...</td>\n",
       "      <td>https://www.bbc.co.uk/news/world-europe-17839672</td>\n",
       "      <td>6</td>\n",
       "      <td>3</td>\n",
       "      <td>2023</td>\n",
       "      <td>5.0</td>\n",
       "      <td>19.0</td>\n",
       "      <td>6.0</td>\n",
       "      <td>9.0</td>\n",
       "      <td>...</td>\n",
       "      <td>NaN</td>\n",
       "      <td>NaN</td>\n",
       "      <td>NaN</td>\n",
       "      <td>NaN</td>\n",
       "      <td>NaN</td>\n",
       "      <td>NaN</td>\n",
       "      <td>NaN</td>\n",
       "      <td>NaN</td>\n",
       "      <td>NaN</td>\n",
       "      <td>NaN</td>\n",
       "    </tr>\n",
       "  </tbody>\n",
       "</table>\n",
       "<p>1 rows × 56 columns</p>\n",
       "</div>"
      ],
      "text/plain": [
       "                                title  \\\n",
       "21  Russia country profile - BBC News   \n",
       "\n",
       "                                              article  \\\n",
       "21  Russia country profile - BBC NewsBBC HomepageS...   \n",
       "\n",
       "                                                link  day_x  month  year  \\\n",
       "21  https://www.bbc.co.uk/news/world-europe-17839672      6      3  2023   \n",
       "\n",
       "    ukraine  russia  russian  war  ...  government  embassy  nuclear  \\\n",
       "21      5.0    19.0      6.0  9.0  ...         NaN      NaN      NaN   \n",
       "\n",
       "    ministry  attack  newsmenuhomewar  failed  prigozhin  artshealthworld  \\\n",
       "21       NaN     NaN              NaN     NaN        NaN              NaN   \n",
       "\n",
       "    serbia  \n",
       "21     NaN  \n",
       "\n",
       "[1 rows x 56 columns]"
      ]
     },
     "execution_count": 10,
     "metadata": {},
     "output_type": "execute_result"
    }
   ],
   "source": [
    "df_bbc_russia.sample()"
   ]
  },
  {
   "cell_type": "markdown",
   "id": "f84dd900",
   "metadata": {},
   "source": [
    "## Applying to CNN"
   ]
  },
  {
   "cell_type": "markdown",
   "id": "3d733c08",
   "metadata": {},
   "source": [
    "- China"
   ]
  },
  {
   "cell_type": "code",
   "execution_count": 11,
   "id": "6c3c975a",
   "metadata": {},
   "outputs": [],
   "source": [
    "df_cnn_china=pd.read_csv('data/cnn_china.csv')"
   ]
  },
  {
   "cell_type": "code",
   "execution_count": 12,
   "id": "6a576af6",
   "metadata": {},
   "outputs": [],
   "source": [
    "df_cnn_china = nk.preprocess(df_cnn_china)"
   ]
  },
  {
   "cell_type": "code",
   "execution_count": 13,
   "id": "14a6de56",
   "metadata": {},
   "outputs": [
    {
     "data": {
      "text/html": [
       "<div>\n",
       "<style scoped>\n",
       "    .dataframe tbody tr th:only-of-type {\n",
       "        vertical-align: middle;\n",
       "    }\n",
       "\n",
       "    .dataframe tbody tr th {\n",
       "        vertical-align: top;\n",
       "    }\n",
       "\n",
       "    .dataframe thead th {\n",
       "        text-align: right;\n",
       "    }\n",
       "</style>\n",
       "<table border=\"1\" class=\"dataframe\">\n",
       "  <thead>\n",
       "    <tr style=\"text-align: right;\">\n",
       "      <th></th>\n",
       "      <th>title</th>\n",
       "      <th>article</th>\n",
       "      <th>link</th>\n",
       "      <th>day</th>\n",
       "      <th>month</th>\n",
       "      <th>year</th>\n",
       "      <th>ad</th>\n",
       "      <th>china</th>\n",
       "      <th>tv</th>\n",
       "      <th>account</th>\n",
       "      <th>...</th>\n",
       "      <th>presidency</th>\n",
       "      <th>audio</th>\n",
       "      <th>americas</th>\n",
       "      <th>success</th>\n",
       "      <th>tech</th>\n",
       "      <th>perspectives</th>\n",
       "      <th>indices</th>\n",
       "      <th>llc</th>\n",
       "      <th>covid</th>\n",
       "      <th>shows</th>\n",
       "    </tr>\n",
       "  </thead>\n",
       "  <tbody>\n",
       "    <tr>\n",
       "      <th>133</th>\n",
       "      <td>Insomnia may be linked to higher risk of heart...</td>\n",
       "      <td>Insomnia may be linked to higher risk of hear...</td>\n",
       "      <td>https://www.cnn.com/2023/02/24/health/insomnia...</td>\n",
       "      <td>24</td>\n",
       "      <td>2</td>\n",
       "      <td>2023</td>\n",
       "      <td>6.0</td>\n",
       "      <td>3.0</td>\n",
       "      <td>9.0</td>\n",
       "      <td>6.0</td>\n",
       "      <td>...</td>\n",
       "      <td>NaN</td>\n",
       "      <td>3.0</td>\n",
       "      <td>NaN</td>\n",
       "      <td>NaN</td>\n",
       "      <td>NaN</td>\n",
       "      <td>NaN</td>\n",
       "      <td>NaN</td>\n",
       "      <td>NaN</td>\n",
       "      <td>NaN</td>\n",
       "      <td>3.0</td>\n",
       "    </tr>\n",
       "  </tbody>\n",
       "</table>\n",
       "<p>1 rows × 56 columns</p>\n",
       "</div>"
      ],
      "text/plain": [
       "                                                 title  \\\n",
       "133  Insomnia may be linked to higher risk of heart...   \n",
       "\n",
       "                                               article  \\\n",
       "133   Insomnia may be linked to higher risk of hear...   \n",
       "\n",
       "                                                  link  day  month  year   ad  \\\n",
       "133  https://www.cnn.com/2023/02/24/health/insomnia...   24      2  2023  6.0   \n",
       "\n",
       "     china   tv  account  ...  presidency  audio  americas  success  tech  \\\n",
       "133    3.0  9.0      6.0  ...         NaN    3.0       NaN      NaN   NaN   \n",
       "\n",
       "     perspectives  indices  llc  covid  shows  \n",
       "133           NaN      NaN  NaN    NaN    3.0  \n",
       "\n",
       "[1 rows x 56 columns]"
      ]
     },
     "execution_count": 13,
     "metadata": {},
     "output_type": "execute_result"
    }
   ],
   "source": [
    "df_cnn_china.sample()"
   ]
  },
  {
   "cell_type": "markdown",
   "id": "297cc45a",
   "metadata": {},
   "source": [
    "- Russia"
   ]
  },
  {
   "cell_type": "code",
   "execution_count": 15,
   "id": "dad27dc2",
   "metadata": {},
   "outputs": [],
   "source": [
    "df_cnn_russia=pd.read_csv('data/cnn_russia.csv')"
   ]
  },
  {
   "cell_type": "code",
   "execution_count": 16,
   "id": "153e809a",
   "metadata": {},
   "outputs": [],
   "source": [
    "df_cnn_russia = nk.preprocess(df_cnn_russia)"
   ]
  },
  {
   "cell_type": "code",
   "execution_count": 17,
   "id": "18f7eccb",
   "metadata": {},
   "outputs": [
    {
     "data": {
      "text/html": [
       "<div>\n",
       "<style scoped>\n",
       "    .dataframe tbody tr th:only-of-type {\n",
       "        vertical-align: middle;\n",
       "    }\n",
       "\n",
       "    .dataframe tbody tr th {\n",
       "        vertical-align: top;\n",
       "    }\n",
       "\n",
       "    .dataframe thead th {\n",
       "        text-align: right;\n",
       "    }\n",
       "</style>\n",
       "<table border=\"1\" class=\"dataframe\">\n",
       "  <thead>\n",
       "    <tr style=\"text-align: right;\">\n",
       "      <th></th>\n",
       "      <th>title</th>\n",
       "      <th>article</th>\n",
       "      <th>link</th>\n",
       "      <th>day</th>\n",
       "      <th>month</th>\n",
       "      <th>year</th>\n",
       "      <th>ad</th>\n",
       "      <th>ukraine</th>\n",
       "      <th>tv</th>\n",
       "      <th>russia</th>\n",
       "      <th>...</th>\n",
       "      <th>kyiv</th>\n",
       "      <th>getty</th>\n",
       "      <th>trump</th>\n",
       "      <th>zelensky</th>\n",
       "      <th>march</th>\n",
       "      <th>country</th>\n",
       "      <th>audio</th>\n",
       "      <th>nuclear</th>\n",
       "      <th>chinese</th>\n",
       "      <th>africa</th>\n",
       "    </tr>\n",
       "  </thead>\n",
       "  <tbody>\n",
       "    <tr>\n",
       "      <th>177</th>\n",
       "      <td>Kishida: Japan promises to 'lead the world' in...</td>\n",
       "      <td>Kishida: Japan promises to 'lead the world' i...</td>\n",
       "      <td>https://www.cnn.com/2023/02/20/asia/japan-ukra...</td>\n",
       "      <td>20</td>\n",
       "      <td>2</td>\n",
       "      <td>2023</td>\n",
       "      <td>5.0</td>\n",
       "      <td>7.0</td>\n",
       "      <td>9.0</td>\n",
       "      <td>6.0</td>\n",
       "      <td>...</td>\n",
       "      <td>NaN</td>\n",
       "      <td>NaN</td>\n",
       "      <td>NaN</td>\n",
       "      <td>NaN</td>\n",
       "      <td>NaN</td>\n",
       "      <td>NaN</td>\n",
       "      <td>2.0</td>\n",
       "      <td>4.0</td>\n",
       "      <td>NaN</td>\n",
       "      <td>3.0</td>\n",
       "    </tr>\n",
       "  </tbody>\n",
       "</table>\n",
       "<p>1 rows × 56 columns</p>\n",
       "</div>"
      ],
      "text/plain": [
       "                                                 title  \\\n",
       "177  Kishida: Japan promises to 'lead the world' in...   \n",
       "\n",
       "                                               article  \\\n",
       "177   Kishida: Japan promises to 'lead the world' i...   \n",
       "\n",
       "                                                  link  day  month  year   ad  \\\n",
       "177  https://www.cnn.com/2023/02/20/asia/japan-ukra...   20      2  2023  5.0   \n",
       "\n",
       "     ukraine   tv  russia  ...  kyiv  getty  trump  zelensky  march  country  \\\n",
       "177      7.0  9.0     6.0  ...   NaN    NaN    NaN       NaN    NaN      NaN   \n",
       "\n",
       "     audio  nuclear  chinese  africa  \n",
       "177    2.0      4.0      NaN     3.0  \n",
       "\n",
       "[1 rows x 56 columns]"
      ]
     },
     "execution_count": 17,
     "metadata": {},
     "output_type": "execute_result"
    }
   ],
   "source": [
    "df_cnn_russia.sample()"
   ]
  },
  {
   "cell_type": "markdown",
   "id": "4aaa3cd6",
   "metadata": {},
   "source": [
    "## Applying to People's Daily Online"
   ]
  },
  {
   "cell_type": "markdown",
   "id": "8e1010bb",
   "metadata": {},
   "source": [
    "- United States of America"
   ]
  },
  {
   "cell_type": "code",
   "execution_count": 37,
   "id": "a065b502",
   "metadata": {},
   "outputs": [],
   "source": [
    "df_pdo_us=pd.read_csv('data/pdo_united_states.csv')"
   ]
  },
  {
   "cell_type": "code",
   "execution_count": 38,
   "id": "c6ef7638",
   "metadata": {},
   "outputs": [],
   "source": [
    "df_pdo_us = nk.preprocess(df_pdo_us)"
   ]
  },
  {
   "cell_type": "code",
   "execution_count": 39,
   "id": "e4ca7a8d",
   "metadata": {},
   "outputs": [
    {
     "data": {
      "text/html": [
       "<div>\n",
       "<style scoped>\n",
       "    .dataframe tbody tr th:only-of-type {\n",
       "        vertical-align: middle;\n",
       "    }\n",
       "\n",
       "    .dataframe tbody tr th {\n",
       "        vertical-align: top;\n",
       "    }\n",
       "\n",
       "    .dataframe thead th {\n",
       "        text-align: right;\n",
       "    }\n",
       "</style>\n",
       "<table border=\"1\" class=\"dataframe\">\n",
       "  <thead>\n",
       "    <tr style=\"text-align: right;\">\n",
       "      <th></th>\n",
       "      <th>title</th>\n",
       "      <th>article</th>\n",
       "      <th>link</th>\n",
       "      <th>day</th>\n",
       "      <th>month</th>\n",
       "      <th>year</th>\n",
       "      <th>china</th>\n",
       "      <th>world</th>\n",
       "      <th>countries</th>\n",
       "      <th>chinese</th>\n",
       "      <th>...</th>\n",
       "      <th>hong</th>\n",
       "      <th>million</th>\n",
       "      <th>kong</th>\n",
       "      <th>affairs</th>\n",
       "      <th>iran</th>\n",
       "      <th>trade</th>\n",
       "      <th>cpc</th>\n",
       "      <th>zheng</th>\n",
       "      <th>photo</th>\n",
       "      <th>system</th>\n",
       "    </tr>\n",
       "  </thead>\n",
       "  <tbody>\n",
       "    <tr>\n",
       "      <th>65</th>\n",
       "      <td>Highlights of U.S. Sailing Grand Prix Chicago ...</td>\n",
       "      <td>Highlights of U.S. Sailing Grand Prix Chicago ...</td>\n",
       "      <td>http://english.people.com.cn/n3/2022/0620/c900...</td>\n",
       "      <td>20</td>\n",
       "      <td>6</td>\n",
       "      <td>2022</td>\n",
       "      <td>NaN</td>\n",
       "      <td>NaN</td>\n",
       "      <td>NaN</td>\n",
       "      <td>NaN</td>\n",
       "      <td>...</td>\n",
       "      <td>NaN</td>\n",
       "      <td>NaN</td>\n",
       "      <td>NaN</td>\n",
       "      <td>NaN</td>\n",
       "      <td>NaN</td>\n",
       "      <td>NaN</td>\n",
       "      <td>NaN</td>\n",
       "      <td>NaN</td>\n",
       "      <td>11.0</td>\n",
       "      <td>NaN</td>\n",
       "    </tr>\n",
       "  </tbody>\n",
       "</table>\n",
       "<p>1 rows × 56 columns</p>\n",
       "</div>"
      ],
      "text/plain": [
       "                                                title  \\\n",
       "65  Highlights of U.S. Sailing Grand Prix Chicago ...   \n",
       "\n",
       "                                              article  \\\n",
       "65  Highlights of U.S. Sailing Grand Prix Chicago ...   \n",
       "\n",
       "                                                 link  day  month  year  \\\n",
       "65  http://english.people.com.cn/n3/2022/0620/c900...   20      6  2022   \n",
       "\n",
       "    china  world  countries  chinese  ...  hong  million  kong  affairs  iran  \\\n",
       "65    NaN    NaN        NaN      NaN  ...   NaN      NaN   NaN      NaN   NaN   \n",
       "\n",
       "    trade  cpc  zheng  photo  system  \n",
       "65    NaN  NaN    NaN   11.0     NaN  \n",
       "\n",
       "[1 rows x 56 columns]"
      ]
     },
     "execution_count": 39,
     "metadata": {},
     "output_type": "execute_result"
    }
   ],
   "source": [
    "df_pdo_us.sample()"
   ]
  },
  {
   "cell_type": "markdown",
   "id": "5f133da2",
   "metadata": {},
   "source": [
    "- United Kingdom"
   ]
  },
  {
   "cell_type": "code",
   "execution_count": 34,
   "id": "37e65772",
   "metadata": {},
   "outputs": [],
   "source": [
    "df_pdo_uk=pd.read_csv('data/pdo_united_kingdom.csv')"
   ]
  },
  {
   "cell_type": "code",
   "execution_count": 35,
   "id": "b0cc55a3",
   "metadata": {},
   "outputs": [],
   "source": [
    "df_pdo_uk = nk.preprocess(pdo_uk)"
   ]
  },
  {
   "cell_type": "code",
   "execution_count": 36,
   "id": "081d7a0c",
   "metadata": {
    "scrolled": true
   },
   "outputs": [
    {
     "data": {
      "text/html": [
       "<div>\n",
       "<style scoped>\n",
       "    .dataframe tbody tr th:only-of-type {\n",
       "        vertical-align: middle;\n",
       "    }\n",
       "\n",
       "    .dataframe tbody tr th {\n",
       "        vertical-align: top;\n",
       "    }\n",
       "\n",
       "    .dataframe thead th {\n",
       "        text-align: right;\n",
       "    }\n",
       "</style>\n",
       "<table border=\"1\" class=\"dataframe\">\n",
       "  <thead>\n",
       "    <tr style=\"text-align: right;\">\n",
       "      <th></th>\n",
       "      <th>title</th>\n",
       "      <th>article</th>\n",
       "      <th>link</th>\n",
       "      <th>year</th>\n",
       "      <th>month</th>\n",
       "      <th>day</th>\n",
       "      <th>uk</th>\n",
       "      <th>saudi</th>\n",
       "      <th>china</th>\n",
       "      <th>russia</th>\n",
       "      <th>...</th>\n",
       "      <th>read</th>\n",
       "      <th>defense</th>\n",
       "      <th>middle</th>\n",
       "      <th>east</th>\n",
       "      <th>policy</th>\n",
       "      <th>state</th>\n",
       "      <th>international</th>\n",
       "      <th>kingdom</th>\n",
       "      <th>years</th>\n",
       "      <th>arab</th>\n",
       "    </tr>\n",
       "  </thead>\n",
       "  <tbody>\n",
       "    <tr>\n",
       "      <th>9</th>\n",
       "      <td>Saudi-US relations deteriorate over oil, but t...</td>\n",
       "      <td>Saudi-US relations deteriorate over oi...</td>\n",
       "      <td>https://www.rt.com/news/565260-saudi-us-biden-...</td>\n",
       "      <td>2022</td>\n",
       "      <td>Oct</td>\n",
       "      <td>25</td>\n",
       "      <td>NaN</td>\n",
       "      <td>28.0</td>\n",
       "      <td>NaN</td>\n",
       "      <td>5.0</td>\n",
       "      <td>...</td>\n",
       "      <td>NaN</td>\n",
       "      <td>NaN</td>\n",
       "      <td>3.0</td>\n",
       "      <td>3.0</td>\n",
       "      <td>NaN</td>\n",
       "      <td>NaN</td>\n",
       "      <td>NaN</td>\n",
       "      <td>4.0</td>\n",
       "      <td>NaN</td>\n",
       "      <td>3.0</td>\n",
       "    </tr>\n",
       "  </tbody>\n",
       "</table>\n",
       "<p>1 rows × 56 columns</p>\n",
       "</div>"
      ],
      "text/plain": [
       "                                               title  \\\n",
       "9  Saudi-US relations deteriorate over oil, but t...   \n",
       "\n",
       "                                             article  \\\n",
       "9          Saudi-US relations deteriorate over oi...   \n",
       "\n",
       "                                                link  year month  day  uk  \\\n",
       "9  https://www.rt.com/news/565260-saudi-us-biden-...  2022   Oct   25 NaN   \n",
       "\n",
       "   saudi  china  russia  ...  read  defense  middle  east  policy  state  \\\n",
       "9   28.0    NaN     5.0  ...   NaN      NaN     3.0   3.0     NaN    NaN   \n",
       "\n",
       "   international  kingdom  years  arab  \n",
       "9            NaN      4.0    NaN   3.0  \n",
       "\n",
       "[1 rows x 56 columns]"
      ]
     },
     "execution_count": 36,
     "metadata": {},
     "output_type": "execute_result"
    }
   ],
   "source": [
    "df_pdo_uk.sample()"
   ]
  },
  {
   "cell_type": "markdown",
   "id": "fb30d578",
   "metadata": {},
   "source": [
    "## Applying to RT"
   ]
  },
  {
   "cell_type": "markdown",
   "id": "8b375ca3",
   "metadata": {},
   "source": [
    "- United States of America"
   ]
  },
  {
   "cell_type": "code",
   "execution_count": 31,
   "id": "fc10952f",
   "metadata": {},
   "outputs": [],
   "source": [
    "df_rt_us=pd.read_csv('data/rt_united_states.csv')"
   ]
  },
  {
   "cell_type": "code",
   "execution_count": 32,
   "id": "28499587",
   "metadata": {},
   "outputs": [],
   "source": [
    "df_rt_us = nk.preprocess(rt_us)"
   ]
  },
  {
   "cell_type": "code",
   "execution_count": 33,
   "id": "5d228afd",
   "metadata": {},
   "outputs": [
    {
     "data": {
      "text/html": [
       "<div>\n",
       "<style scoped>\n",
       "    .dataframe tbody tr th:only-of-type {\n",
       "        vertical-align: middle;\n",
       "    }\n",
       "\n",
       "    .dataframe tbody tr th {\n",
       "        vertical-align: top;\n",
       "    }\n",
       "\n",
       "    .dataframe thead th {\n",
       "        text-align: right;\n",
       "    }\n",
       "</style>\n",
       "<table border=\"1\" class=\"dataframe\">\n",
       "  <thead>\n",
       "    <tr style=\"text-align: right;\">\n",
       "      <th></th>\n",
       "      <th>title</th>\n",
       "      <th>article</th>\n",
       "      <th>link</th>\n",
       "      <th>year</th>\n",
       "      <th>month</th>\n",
       "      <th>day</th>\n",
       "      <th>russia</th>\n",
       "      <th>military</th>\n",
       "      <th>ukraine</th>\n",
       "      <th>china</th>\n",
       "      <th>...</th>\n",
       "      <th>global</th>\n",
       "      <th>getty</th>\n",
       "      <th>intelligence</th>\n",
       "      <th>photo</th>\n",
       "      <th>korea</th>\n",
       "      <th>file</th>\n",
       "      <th>house</th>\n",
       "      <th>minister</th>\n",
       "      <th>report</th>\n",
       "      <th>north</th>\n",
       "    </tr>\n",
       "  </thead>\n",
       "  <tbody>\n",
       "    <tr>\n",
       "      <th>61</th>\n",
       "      <td>European Commission bans TikTok — RT World News</td>\n",
       "      <td>European Commission bans TikTok       ...</td>\n",
       "      <td>https://www.rt.com/news/571983-eu-commission-t...</td>\n",
       "      <td>2023</td>\n",
       "      <td>Feb</td>\n",
       "      <td>23</td>\n",
       "      <td>NaN</td>\n",
       "      <td>NaN</td>\n",
       "      <td>NaN</td>\n",
       "      <td>NaN</td>\n",
       "      <td>...</td>\n",
       "      <td>NaN</td>\n",
       "      <td>1.0</td>\n",
       "      <td>NaN</td>\n",
       "      <td>NaN</td>\n",
       "      <td>NaN</td>\n",
       "      <td>NaN</td>\n",
       "      <td>2.0</td>\n",
       "      <td>NaN</td>\n",
       "      <td>NaN</td>\n",
       "      <td>NaN</td>\n",
       "    </tr>\n",
       "  </tbody>\n",
       "</table>\n",
       "<p>1 rows × 56 columns</p>\n",
       "</div>"
      ],
      "text/plain": [
       "                                              title  \\\n",
       "61  European Commission bans TikTok — RT World News   \n",
       "\n",
       "                                              article  \\\n",
       "61          European Commission bans TikTok       ...   \n",
       "\n",
       "                                                 link  year month  day  \\\n",
       "61  https://www.rt.com/news/571983-eu-commission-t...  2023   Feb   23   \n",
       "\n",
       "    russia  military  ukraine  china  ...  global  getty  intelligence  photo  \\\n",
       "61     NaN       NaN      NaN    NaN  ...     NaN    1.0           NaN    NaN   \n",
       "\n",
       "    korea  file  house  minister  report  north  \n",
       "61    NaN   NaN    2.0       NaN     NaN    NaN  \n",
       "\n",
       "[1 rows x 56 columns]"
      ]
     },
     "execution_count": 33,
     "metadata": {},
     "output_type": "execute_result"
    }
   ],
   "source": [
    "df_rt_us.sample()"
   ]
  },
  {
   "cell_type": "markdown",
   "id": "95f88df9",
   "metadata": {},
   "source": [
    "- United Kingdom"
   ]
  },
  {
   "cell_type": "code",
   "execution_count": null,
   "id": "cb04b98c",
   "metadata": {},
   "outputs": [],
   "source": [
    "df_rt_uk=pd.read_csv('data/rt_united_kingdom.csv')"
   ]
  },
  {
   "cell_type": "code",
   "execution_count": null,
   "id": "b2d5bb8a",
   "metadata": {},
   "outputs": [],
   "source": [
    "df_rt_uk = nk.preprocess(df_rt_uk)"
   ]
  }
 ],
 "metadata": {
  "kernelspec": {
   "display_name": "ironhack",
   "language": "python",
   "name": "ironhack"
  },
  "language_info": {
   "codemirror_mode": {
    "name": "ipython",
    "version": 3
   },
   "file_extension": ".py",
   "mimetype": "text/x-python",
   "name": "python",
   "nbconvert_exporter": "python",
   "pygments_lexer": "ipython3",
   "version": "3.9.15"
  },
  "toc": {
   "base_numbering": 1,
   "nav_menu": {},
   "number_sections": true,
   "sideBar": true,
   "skip_h1_title": false,
   "title_cell": "Table of Contents",
   "title_sidebar": "Contents",
   "toc_cell": false,
   "toc_position": {},
   "toc_section_display": true,
   "toc_window_display": false
  }
 },
 "nbformat": 4,
 "nbformat_minor": 5
}
