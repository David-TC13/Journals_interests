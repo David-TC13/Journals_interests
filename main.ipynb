{
 "cells": [
  {
   "cell_type": "code",
   "execution_count": 1,
   "id": "7e8ef9d0",
   "metadata": {},
   "outputs": [],
   "source": [
    "from selenium import webdriver\n",
    "from selenium.webdriver.common.keys import Keys\n",
    "from selenium.webdriver.common.by import By\n",
    "from selenium.webdriver.support.ui import WebDriverWait\n",
    "from selenium.webdriver.support import expected_conditions as EC\n",
    "from selenium import webdriver\n",
    "from selenium.webdriver.support.ui import Select\n",
    "from datetime import datetime\n",
    "\n",
    "\n",
    "import requests\n",
    "from bs4 import BeautifulSoup\n",
    "import re as re\n",
    "import time\n",
    "import pandas as pd\n",
    "import numpy as np\n",
    "\n",
    "import nltk\n",
    "from nltk.tokenize import word_tokenize\n",
    "from nltk.corpus import stopwords\n",
    "from collections import Counter\n"
   ]
  },
  {
   "cell_type": "markdown",
   "id": "772960a7",
   "metadata": {},
   "source": [
    "# Webscrapping"
   ]
  },
  {
   "cell_type": "markdown",
   "id": "f4941d4a",
   "metadata": {},
   "source": [
    "## Importing BBC webscrapping"
   ]
  },
  {
   "cell_type": "markdown",
   "id": "f870e2bc",
   "metadata": {},
   "source": [
    "### Getting the data"
   ]
  },
  {
   "cell_type": "code",
   "execution_count": 2,
   "id": "684912c9",
   "metadata": {},
   "outputs": [],
   "source": [
    "import src.BBC_webscrapping as bbc"
   ]
  },
  {
   "cell_type": "code",
   "execution_count": 3,
   "id": "83e577ef",
   "metadata": {},
   "outputs": [],
   "source": [
    "df_bbc_russia = bbc.keyword('Russia',200)"
   ]
  },
  {
   "cell_type": "code",
   "execution_count": 4,
   "id": "2ba4f0bf",
   "metadata": {},
   "outputs": [],
   "source": [
    "df_bbc_china = bbc.keyword('China',200)"
   ]
  },
  {
   "cell_type": "markdown",
   "id": "d0b5af7a",
   "metadata": {},
   "source": [
    "### Saving data into CSV"
   ]
  },
  {
   "cell_type": "code",
   "execution_count": 5,
   "id": "f63b1682",
   "metadata": {},
   "outputs": [],
   "source": [
    "df_bbc_russia.to_csv('data/bbc_russia.csv',index=False)  "
   ]
  },
  {
   "cell_type": "code",
   "execution_count": 6,
   "id": "9f2e0ac7",
   "metadata": {},
   "outputs": [],
   "source": [
    "df_bbc_china.to_csv('data/bbc_china.csv',index=False)  "
   ]
  },
  {
   "cell_type": "markdown",
   "id": "a4aa9528",
   "metadata": {},
   "source": [
    "## Importing CNN webscrapping"
   ]
  },
  {
   "cell_type": "markdown",
   "id": "fe613a43",
   "metadata": {},
   "source": [
    "### Getting the data"
   ]
  },
  {
   "cell_type": "code",
   "execution_count": 2,
   "id": "cb85a04b",
   "metadata": {},
   "outputs": [],
   "source": [
    "import src.CNN_webscrapping as cnn"
   ]
  },
  {
   "cell_type": "code",
   "execution_count": 3,
   "id": "9015b2bc",
   "metadata": {},
   "outputs": [],
   "source": [
    "df_cnn_russia = cnn.keyword('Russia',200)"
   ]
  },
  {
   "cell_type": "code",
   "execution_count": 3,
   "id": "b3e69da4",
   "metadata": {},
   "outputs": [],
   "source": [
    "df_cnn_china = cnn.keyword('China',200)"
   ]
  },
  {
   "cell_type": "markdown",
   "id": "d0a5bc16",
   "metadata": {},
   "source": [
    "### Saving data into CSV"
   ]
  },
  {
   "cell_type": "code",
   "execution_count": 4,
   "id": "31b2dc91",
   "metadata": {},
   "outputs": [],
   "source": [
    "df_cnn_russia.to_csv('data/cnn_russia.csv',index=False)"
   ]
  },
  {
   "cell_type": "code",
   "execution_count": 4,
   "id": "35c96e46",
   "metadata": {},
   "outputs": [],
   "source": [
    "df_cnn_china.to_csv('data/cnn_china.csv',index=False)"
   ]
  },
  {
   "cell_type": "markdown",
   "id": "c178d12d",
   "metadata": {},
   "source": [
    "## Importing Peoples's  Daily Online"
   ]
  },
  {
   "cell_type": "markdown",
   "id": "19b70ed5",
   "metadata": {},
   "source": [
    "### Getting the data"
   ]
  },
  {
   "cell_type": "code",
   "execution_count": 5,
   "id": "8a6fccb8",
   "metadata": {},
   "outputs": [],
   "source": [
    "import src.peoples_webscrapping as pdo"
   ]
  },
  {
   "cell_type": "code",
   "execution_count": 6,
   "id": "5b698483",
   "metadata": {},
   "outputs": [],
   "source": [
    "df_united_states = pdo.keyword('United States',60)"
   ]
  },
  {
   "cell_type": "code",
   "execution_count": 8,
   "id": "43ae916b",
   "metadata": {},
   "outputs": [],
   "source": [
    "df_usa = pdo.keyword('USA',60)"
   ]
  },
  {
   "cell_type": "code",
   "execution_count": 9,
   "id": "5c8fd23d",
   "metadata": {},
   "outputs": [],
   "source": [
    "df_us_all=pd.concat([df_united_states,df_usa])"
   ]
  },
  {
   "cell_type": "code",
   "execution_count": 13,
   "id": "bb86ea7b",
   "metadata": {},
   "outputs": [],
   "source": [
    "df_uk = pdo.keyword('UK',60)"
   ]
  },
  {
   "cell_type": "code",
   "execution_count": 14,
   "id": "5951d920",
   "metadata": {},
   "outputs": [],
   "source": [
    "df_united_kingdom = pdo.keyword('United Kingdom',60)"
   ]
  },
  {
   "cell_type": "code",
   "execution_count": 17,
   "id": "fc36f0f6",
   "metadata": {},
   "outputs": [],
   "source": [
    "df_uk_all=pd.concat([df_uk,df_united_kingdom])"
   ]
  },
  {
   "cell_type": "markdown",
   "id": "a2714321",
   "metadata": {},
   "source": [
    "### Saving into CSV"
   ]
  },
  {
   "cell_type": "code",
   "execution_count": 10,
   "id": "b6a9573c",
   "metadata": {},
   "outputs": [],
   "source": [
    "df_us_all.to_csv('data/pdo_united_states.csv',index=False)  "
   ]
  },
  {
   "cell_type": "code",
   "execution_count": 19,
   "id": "2aa57c29",
   "metadata": {},
   "outputs": [],
   "source": [
    "df_uk_all.to_csv('data/pdo_united_kingdom.csv',index=False)  "
   ]
  },
  {
   "cell_type": "markdown",
   "id": "08bd60e4",
   "metadata": {},
   "source": [
    "## Importing RT webscrapping"
   ]
  },
  {
   "cell_type": "markdown",
   "id": "a6a53fd2",
   "metadata": {},
   "source": [
    "### Getting the data"
   ]
  },
  {
   "cell_type": "code",
   "execution_count": 51,
   "id": "16b4641f",
   "metadata": {},
   "outputs": [],
   "source": [
    "import src.RT_webscrapping as rt"
   ]
  },
  {
   "cell_type": "code",
   "execution_count": 21,
   "id": "8fb602b7",
   "metadata": {},
   "outputs": [],
   "source": [
    "df_united_states = rt.keyword('United States',100)"
   ]
  },
  {
   "cell_type": "code",
   "execution_count": 29,
   "id": "5eeff590",
   "metadata": {},
   "outputs": [],
   "source": [
    "df_usa = rt.keyword('USA',20)"
   ]
  },
  {
   "cell_type": "code",
   "execution_count": 30,
   "id": "91e48417",
   "metadata": {},
   "outputs": [],
   "source": [
    "df_us_all= pd.concat([df_united_states,df_usa])"
   ]
  },
  {
   "cell_type": "code",
   "execution_count": 33,
   "id": "f3799cd7",
   "metadata": {},
   "outputs": [],
   "source": [
    "df_united_kingdom = rt.keyword('United Kingdom',70)"
   ]
  },
  {
   "cell_type": "code",
   "execution_count": 45,
   "id": "a3de202d",
   "metadata": {},
   "outputs": [],
   "source": [
    "df_uk = rt.keyword('uk',40)"
   ]
  },
  {
   "cell_type": "code",
   "execution_count": 47,
   "id": "601e4d0c",
   "metadata": {},
   "outputs": [],
   "source": [
    "df_uk_all=pd.concat([df_united_kingdom,df_uk])"
   ]
  },
  {
   "cell_type": "markdown",
   "id": "0a180813",
   "metadata": {},
   "source": [
    "### Saving into CSV"
   ]
  },
  {
   "cell_type": "code",
   "execution_count": 32,
   "id": "9edb2b54",
   "metadata": {},
   "outputs": [],
   "source": [
    "df_us_all.to_csv('data/rt_united_states.csv',index=False)  "
   ]
  },
  {
   "cell_type": "code",
   "execution_count": 49,
   "id": "c97f8d62",
   "metadata": {},
   "outputs": [],
   "source": [
    "df_uk_all.to_csv('data/pdo_united_kingdom.csv',index=False)  "
   ]
  },
  {
   "cell_type": "markdown",
   "id": "a12cbb52",
   "metadata": {},
   "source": [
    "# NLTK analysis"
   ]
  },
  {
   "cell_type": "markdown",
   "id": "3f1e3c77",
   "metadata": {},
   "source": [
    "## Importing functions"
   ]
  },
  {
   "cell_type": "code",
   "execution_count": 2,
   "id": "b8e0f065",
   "metadata": {},
   "outputs": [],
   "source": [
    "import src.NLTK_analysis as nk"
   ]
  },
  {
   "cell_type": "markdown",
   "id": "016dec7b",
   "metadata": {},
   "source": [
    "## Applying to BBC"
   ]
  },
  {
   "cell_type": "code",
   "execution_count": 3,
   "id": "277fe699",
   "metadata": {},
   "outputs": [],
   "source": [
    "df_bbc_china=pd.read_csv('data/bbc_china.csv')"
   ]
  },
  {
   "cell_type": "code",
   "execution_count": 4,
   "id": "b23a5fe9",
   "metadata": {},
   "outputs": [],
   "source": [
    "text_cleaned = nk.preprocess(df_bbc_china['article'])"
   ]
  },
  {
   "cell_type": "code",
   "execution_count": 5,
   "id": "fb84e7b9",
   "metadata": {},
   "outputs": [],
   "source": [
    "df_together_bbc = nk.fwords(text_cleaned, df_bbc_china)"
   ]
  },
  {
   "cell_type": "code",
   "execution_count": null,
   "id": "3eccfbb5",
   "metadata": {},
   "outputs": [],
   "source": []
  }
 ],
 "metadata": {
  "kernelspec": {
   "display_name": "ironhack",
   "language": "python",
   "name": "ironhack"
  },
  "language_info": {
   "codemirror_mode": {
    "name": "ipython",
    "version": 3
   },
   "file_extension": ".py",
   "mimetype": "text/x-python",
   "name": "python",
   "nbconvert_exporter": "python",
   "pygments_lexer": "ipython3",
   "version": "3.9.15"
  },
  "toc": {
   "base_numbering": 1,
   "nav_menu": {},
   "number_sections": true,
   "sideBar": true,
   "skip_h1_title": false,
   "title_cell": "Table of Contents",
   "title_sidebar": "Contents",
   "toc_cell": false,
   "toc_position": {},
   "toc_section_display": true,
   "toc_window_display": false
  }
 },
 "nbformat": 4,
 "nbformat_minor": 5
}
