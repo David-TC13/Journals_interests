{
 "cells": [
  {
   "cell_type": "code",
   "execution_count": 1,
   "id": "7e8ef9d0",
   "metadata": {},
   "outputs": [],
   "source": [
    "from selenium import webdriver\n",
    "from selenium.webdriver.common.keys import Keys\n",
    "from selenium.webdriver.common.by import By\n",
    "from selenium.webdriver.support.ui import WebDriverWait\n",
    "from selenium.webdriver.support import expected_conditions as EC\n",
    "from selenium import webdriver\n",
    "from selenium.webdriver.support.ui import Select\n",
    "from datetime import datetime\n",
    "\n",
    "import googletrans\n",
    "\n",
    "import requests\n",
    "from bs4 import BeautifulSoup\n",
    "import re as re\n",
    "import time\n",
    "import pandas as pd\n",
    "import numpy as np\n",
    "\n",
    "import nltk\n",
    "from nltk.sentiment.vader import SentimentIntensityAnalyzer\n",
    "from nltk.corpus import stopwords\n",
    "\n",
    "from wordcloud import WordCloud\n",
    "from langdetect import detect\n",
    "from textblob import TextBlob"
   ]
  },
  {
   "cell_type": "markdown",
   "id": "aea20701",
   "metadata": {},
   "source": [
    "# Webscrapping"
   ]
  },
  {
   "cell_type": "markdown",
   "id": "f4941d4a",
   "metadata": {},
   "source": [
    "## Importing BBC webscrapping"
   ]
  },
  {
   "cell_type": "markdown",
   "id": "57974faf",
   "metadata": {},
   "source": [
    "### Importing BBC source file"
   ]
  },
  {
   "cell_type": "code",
   "execution_count": 2,
   "id": "486cc9f0",
   "metadata": {},
   "outputs": [],
   "source": [
    "import src.py.BBC_webscrapping as bbc"
   ]
  },
  {
   "cell_type": "markdown",
   "id": "45155f98",
   "metadata": {},
   "source": [
    "### Getting the data"
   ]
  },
  {
   "cell_type": "code",
   "execution_count": 3,
   "id": "83e577ef",
   "metadata": {},
   "outputs": [],
   "source": [
    "df_bbc_russia = bbc.keyword('Russia',200)"
   ]
  },
  {
   "cell_type": "code",
   "execution_count": 4,
   "id": "8ce39cb9",
   "metadata": {},
   "outputs": [],
   "source": [
    "df_bbc_china = bbc.keyword('China',200)"
   ]
  },
  {
   "cell_type": "markdown",
   "id": "864e483a",
   "metadata": {},
   "source": [
    "### Saving data into CSV"
   ]
  },
  {
   "cell_type": "code",
   "execution_count": 5,
   "id": "9dd3d128",
   "metadata": {},
   "outputs": [],
   "source": [
    "df_bbc_russia.to_csv('data/bbc_russia.csv',index=False)  "
   ]
  },
  {
   "cell_type": "code",
   "execution_count": 6,
   "id": "0373ec4a",
   "metadata": {},
   "outputs": [],
   "source": [
    "df_bbc_china.to_csv('data/bbc_china.csv',index=False)  "
   ]
  },
  {
   "cell_type": "markdown",
   "id": "c1c15b39",
   "metadata": {},
   "source": [
    "## Importing CNN webscrapping"
   ]
  },
  {
   "cell_type": "markdown",
   "id": "0e8a3e34",
   "metadata": {},
   "source": [
    "### Importing the source"
   ]
  },
  {
   "cell_type": "code",
   "execution_count": 2,
   "id": "361b5b97",
   "metadata": {},
   "outputs": [],
   "source": [
    "import src.py.CNN_webscrapping as cnn"
   ]
  },
  {
   "cell_type": "markdown",
   "id": "49c1097f",
   "metadata": {},
   "source": [
    "### Getting the data"
   ]
  },
  {
   "cell_type": "code",
   "execution_count": 3,
   "id": "591dcda2",
   "metadata": {},
   "outputs": [],
   "source": [
    "df_cnn_russia = cnn.keyword('Russia',200)"
   ]
  },
  {
   "cell_type": "code",
   "execution_count": null,
   "id": "ad7c5ce3",
   "metadata": {},
   "outputs": [],
   "source": [
    "df_cnn_china = cnn.keyword('China',200)"
   ]
  },
  {
   "cell_type": "markdown",
   "id": "c89ecbe6",
   "metadata": {},
   "source": [
    "### Saving data into CSV"
   ]
  },
  {
   "cell_type": "code",
   "execution_count": 4,
   "id": "784cf022",
   "metadata": {},
   "outputs": [],
   "source": [
    "df_cnn_russia.to_csv('data/cnn_russia.csv',index=False)"
   ]
  },
  {
   "cell_type": "code",
   "execution_count": null,
   "id": "66b3633d",
   "metadata": {},
   "outputs": [],
   "source": [
    "df_cnn_china.to_csv('data/cnn_china.csv',index=False)"
   ]
  },
  {
   "cell_type": "markdown",
   "id": "c75db9fe",
   "metadata": {},
   "source": [
    "## Importing People's Daily Online webscrapping"
   ]
  },
  {
   "cell_type": "markdown",
   "id": "fcccea1d",
   "metadata": {},
   "source": [
    "### Importing the source"
   ]
  },
  {
   "cell_type": "code",
   "execution_count": null,
   "id": "24fac154",
   "metadata": {},
   "outputs": [],
   "source": [
    "import src.py.peoples_webscrapping as pdo"
   ]
  },
  {
   "cell_type": "markdown",
   "id": "1b12b072",
   "metadata": {},
   "source": [
    "### Getting the data"
   ]
  },
  {
   "cell_type": "code",
   "execution_count": null,
   "id": "8db08855",
   "metadata": {},
   "outputs": [],
   "source": [
    "df_united_states = pdo.keyword('United States',255)"
   ]
  },
  {
   "cell_type": "code",
   "execution_count": null,
   "id": "2e840ddd",
   "metadata": {},
   "outputs": [],
   "source": [
    "df_usa = pdo.keyword('USA',255)"
   ]
  },
  {
   "cell_type": "code",
   "execution_count": null,
   "id": "b7ea33d4",
   "metadata": {},
   "outputs": [],
   "source": [
    "df_us_all=pd.concat([df_united_states,df_usa])"
   ]
  },
  {
   "cell_type": "code",
   "execution_count": null,
   "id": "1b06ed0c",
   "metadata": {},
   "outputs": [],
   "source": [
    "df_uk = pdo.keyword('UK',255)"
   ]
  },
  {
   "cell_type": "code",
   "execution_count": null,
   "id": "f025a016",
   "metadata": {},
   "outputs": [],
   "source": [
    "df_united_kingdom = pdo.keyword('United Kingdom',255)"
   ]
  },
  {
   "cell_type": "code",
   "execution_count": null,
   "id": "0b7a5c1b",
   "metadata": {},
   "outputs": [],
   "source": [
    "df_uk_all=pd.concat([df_uk,df_united_kingdom])"
   ]
  },
  {
   "cell_type": "markdown",
   "id": "6d7cede3",
   "metadata": {},
   "source": [
    "### Saving into CSV"
   ]
  },
  {
   "cell_type": "code",
   "execution_count": null,
   "id": "c0ee6ad1",
   "metadata": {},
   "outputs": [],
   "source": [
    "df_us_all.to_csv('data/pdo_united_states.csv',index=False)  "
   ]
  },
  {
   "cell_type": "code",
   "execution_count": null,
   "id": "e2f5fd0c",
   "metadata": {},
   "outputs": [],
   "source": [
    "df_uk_all.to_csv('data/pdo_united_kingdom.csv',index=False)  "
   ]
  },
  {
   "cell_type": "markdown",
   "id": "ee196fc7",
   "metadata": {},
   "source": [
    "## Importing RT webscrapping"
   ]
  },
  {
   "cell_type": "markdown",
   "id": "17c4b026",
   "metadata": {},
   "source": [
    "### Importing the source"
   ]
  },
  {
   "cell_type": "code",
   "execution_count": 11,
   "id": "faea8f14",
   "metadata": {},
   "outputs": [],
   "source": [
    "import src.py.RT_webscrapping as rt"
   ]
  },
  {
   "cell_type": "markdown",
   "id": "397fd3ca",
   "metadata": {},
   "source": [
    "### Getting the data"
   ]
  },
  {
   "cell_type": "code",
   "execution_count": 12,
   "id": "e2f97163",
   "metadata": {},
   "outputs": [],
   "source": [
    "df_united_states = rt.keyword('United States',20)"
   ]
  },
  {
   "cell_type": "code",
   "execution_count": 13,
   "id": "7d9f1e13",
   "metadata": {},
   "outputs": [],
   "source": [
    "df_usa = rt.keyword('USA',20)"
   ]
  },
  {
   "cell_type": "code",
   "execution_count": 14,
   "id": "d539bafc",
   "metadata": {},
   "outputs": [],
   "source": [
    "df_us_all= pd.concat([df_united_states,df_usa])"
   ]
  },
  {
   "cell_type": "code",
   "execution_count": 16,
   "id": "8e041959",
   "metadata": {},
   "outputs": [],
   "source": [
    "df_united_kingdom = rt.keyword('United Kingdom',20)"
   ]
  },
  {
   "cell_type": "code",
   "execution_count": 17,
   "id": "8602eb38",
   "metadata": {},
   "outputs": [],
   "source": [
    "df_uk = rt.keyword('UK',20)"
   ]
  },
  {
   "cell_type": "code",
   "execution_count": 18,
   "id": "dac3d11d",
   "metadata": {},
   "outputs": [],
   "source": [
    "df_uk_all=pd.concat([df_united_kingdom,df_uk])"
   ]
  },
  {
   "cell_type": "markdown",
   "id": "823432f7",
   "metadata": {},
   "source": [
    "### Saving into CSV"
   ]
  },
  {
   "cell_type": "code",
   "execution_count": 15,
   "id": "23ad7ccd",
   "metadata": {},
   "outputs": [],
   "source": [
    "df_us_all.to_csv('data/rt_united_states.csv',index=False)  "
   ]
  },
  {
   "cell_type": "code",
   "execution_count": 19,
   "id": "7f2daab4",
   "metadata": {},
   "outputs": [],
   "source": [
    "df_uk_all.to_csv('data/pdo_united_kingdom.csv',index=False)  "
   ]
  }
 ],
 "metadata": {
  "kernelspec": {
   "display_name": "ironhack",
   "language": "python",
   "name": "ironhack"
  },
  "language_info": {
   "codemirror_mode": {
    "name": "ipython",
    "version": 3
   },
   "file_extension": ".py",
   "mimetype": "text/x-python",
   "name": "python",
   "nbconvert_exporter": "python",
   "pygments_lexer": "ipython3",
   "version": "3.9.15"
  },
  "toc": {
   "base_numbering": 1,
   "nav_menu": {},
   "number_sections": true,
   "sideBar": true,
   "skip_h1_title": false,
   "title_cell": "Table of Contents",
   "title_sidebar": "Contents",
   "toc_cell": false,
   "toc_position": {},
   "toc_section_display": true,
   "toc_window_display": false
  }
 },
 "nbformat": 4,
 "nbformat_minor": 5
}
