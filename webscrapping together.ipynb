{
 "cells": [
  {
   "cell_type": "code",
   "execution_count": 1,
   "id": "7e8ef9d0",
   "metadata": {},
   "outputs": [],
   "source": [
    "from selenium import webdriver\n",
    "from selenium.webdriver.common.keys import Keys\n",
    "from selenium.webdriver.common.by import By\n",
    "from selenium.webdriver.support.ui import WebDriverWait\n",
    "from selenium.webdriver.support import expected_conditions as EC\n",
    "from selenium import webdriver\n",
    "from selenium.webdriver.support.ui import Select\n",
    "from datetime import datetime\n",
    "\n",
    "import googletrans\n",
    "\n",
    "import requests\n",
    "from bs4 import BeautifulSoup\n",
    "import re as re\n",
    "import time\n",
    "import pandas as pd\n",
    "import numpy as np\n",
    "\n",
    "import nltk\n",
    "from nltk.sentiment.vader import SentimentIntensityAnalyzer\n",
    "from nltk.corpus import stopwords\n",
    "\n",
    "from wordcloud import WordCloud\n",
    "from langdetect import detect\n",
    "from textblob import TextBlob"
   ]
  },
  {
   "cell_type": "markdown",
   "id": "fdba4ade",
   "metadata": {},
   "source": [
    "# Webscrapping"
   ]
  },
  {
   "cell_type": "markdown",
   "id": "f4941d4a",
   "metadata": {},
   "source": [
    "## Importing BBC webscrapping"
   ]
  },
  {
   "cell_type": "markdown",
   "id": "e5edf4d6",
   "metadata": {},
   "source": [
    "### Importing BBC source file"
   ]
  },
  {
   "cell_type": "code",
   "execution_count": 2,
   "id": "9d68230d",
   "metadata": {},
   "outputs": [],
   "source": [
    "import src.py.BBC_webscrapping as bbc"
   ]
  },
  {
   "cell_type": "markdown",
   "id": "5589093c",
   "metadata": {},
   "source": [
    "### Getting the data"
   ]
  },
  {
   "cell_type": "code",
   "execution_count": 5,
   "id": "83e577ef",
   "metadata": {},
   "outputs": [],
   "source": [
    "df_bbc_russia = bbc.keyword('Russia',200)"
   ]
  },
  {
   "cell_type": "code",
   "execution_count": 7,
   "id": "357f94f4",
   "metadata": {},
   "outputs": [],
   "source": [
    "df_bbc_china = bbc.keyword('China',200)"
   ]
  },
  {
   "cell_type": "markdown",
   "id": "ac035685",
   "metadata": {},
   "source": [
    "### Saving data into CSV"
   ]
  },
  {
   "cell_type": "code",
   "execution_count": 6,
   "id": "25b91545",
   "metadata": {},
   "outputs": [],
   "source": [
    "df_bbc_russia.to_csv('data/bbc_russia.csv',index=False)  "
   ]
  },
  {
   "cell_type": "code",
   "execution_count": 8,
   "id": "4604eca5",
   "metadata": {},
   "outputs": [],
   "source": [
    "df_bbc_china.to_csv('data/bbc_china.csv',index=False)  "
   ]
  },
  {
   "cell_type": "markdown",
   "id": "c5bfc061",
   "metadata": {},
   "source": [
    "## Importing CNN webscrapping"
   ]
  },
  {
   "cell_type": "markdown",
   "id": "5dcb60d2",
   "metadata": {},
   "source": [
    "### Importing the source"
   ]
  },
  {
   "cell_type": "code",
   "execution_count": 9,
   "id": "0ec1b863",
   "metadata": {},
   "outputs": [],
   "source": [
    "import src.py.CNN_webscrapping as cnn"
   ]
  },
  {
   "cell_type": "markdown",
   "id": "28efa9ff",
   "metadata": {},
   "source": [
    "### Getting the data"
   ]
  },
  {
   "cell_type": "code",
   "execution_count": 10,
   "id": "008faf26",
   "metadata": {},
   "outputs": [],
   "source": [
    "df_cnn_russia = cnn.keyword('Russia',200)"
   ]
  },
  {
   "cell_type": "code",
   "execution_count": 11,
   "id": "4cd3e2dc",
   "metadata": {},
   "outputs": [],
   "source": [
    "df_cnn_china = cnn.keyword('China',200)"
   ]
  },
  {
   "cell_type": "markdown",
   "id": "8bab9e07",
   "metadata": {},
   "source": [
    "### Saving data into CSV"
   ]
  },
  {
   "cell_type": "code",
   "execution_count": 12,
   "id": "614a8218",
   "metadata": {},
   "outputs": [],
   "source": [
    "df_cnn_russia.to_csv('data/cnn_russia.csv',index=False)"
   ]
  },
  {
   "cell_type": "code",
   "execution_count": 14,
   "id": "2917f3cb",
   "metadata": {},
   "outputs": [],
   "source": [
    "df_cnn_china.to_csv('data/cnn_china.csv',index=False)"
   ]
  },
  {
   "cell_type": "markdown",
   "id": "065f5584",
   "metadata": {},
   "source": [
    "## Importing People's Daily Online"
   ]
  },
  {
   "cell_type": "markdown",
   "id": "fc4dac15",
   "metadata": {},
   "source": [
    "### Importing the source"
   ]
  },
  {
   "cell_type": "code",
   "execution_count": 20,
   "id": "816c6cbb",
   "metadata": {},
   "outputs": [],
   "source": [
    "import src.py.peoples_webscrapping as pdo"
   ]
  },
  {
   "cell_type": "markdown",
   "id": "5163a6e5",
   "metadata": {},
   "source": [
    "### Getting the data"
   ]
  },
  {
   "cell_type": "code",
   "execution_count": null,
   "id": "41b067bc",
   "metadata": {},
   "outputs": [],
   "source": [
    "df_united_states = pdo.keyword('United States',30)"
   ]
  },
  {
   "cell_type": "code",
   "execution_count": null,
   "id": "72a19567",
   "metadata": {},
   "outputs": [],
   "source": [
    "df_usa = pdo.keyword('USA',30)"
   ]
  },
  {
   "cell_type": "markdown",
   "id": "1be6d500",
   "metadata": {},
   "source": [
    "### Saving into CSV"
   ]
  },
  {
   "cell_type": "code",
   "execution_count": 18,
   "id": "a1548eeb",
   "metadata": {},
   "outputs": [],
   "source": [
    "df_united_states.to_csv('data/pdo_united_states.csv',index=False)  "
   ]
  },
  {
   "cell_type": "code",
   "execution_count": 19,
   "id": "37c1aadf",
   "metadata": {},
   "outputs": [],
   "source": [
    "df_usa.to_csv('data/pdo_usa.csv',index=False)  "
   ]
  },
  {
   "cell_type": "code",
   "execution_count": null,
   "id": "38f78538",
   "metadata": {},
   "outputs": [],
   "source": []
  }
 ],
 "metadata": {
  "kernelspec": {
   "display_name": "ironhack",
   "language": "python",
   "name": "ironhack"
  },
  "language_info": {
   "codemirror_mode": {
    "name": "ipython",
    "version": 3
   },
   "file_extension": ".py",
   "mimetype": "text/x-python",
   "name": "python",
   "nbconvert_exporter": "python",
   "pygments_lexer": "ipython3",
   "version": "3.9.15"
  },
  "toc": {
   "base_numbering": 1,
   "nav_menu": {},
   "number_sections": true,
   "sideBar": true,
   "skip_h1_title": false,
   "title_cell": "Table of Contents",
   "title_sidebar": "Contents",
   "toc_cell": false,
   "toc_position": {},
   "toc_section_display": true,
   "toc_window_display": false
  }
 },
 "nbformat": 4,
 "nbformat_minor": 5
}
