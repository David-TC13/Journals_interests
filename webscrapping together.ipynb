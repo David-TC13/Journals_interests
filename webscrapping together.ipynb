{
 "cells": [
  {
   "cell_type": "code",
   "execution_count": 1,
   "id": "7e8ef9d0",
   "metadata": {},
   "outputs": [],
   "source": [
    "from selenium import webdriver\n",
    "from selenium.webdriver.common.keys import Keys\n",
    "from selenium.webdriver.common.by import By\n",
    "from selenium.webdriver.support.ui import WebDriverWait\n",
    "from selenium.webdriver.support import expected_conditions as EC\n",
    "from selenium import webdriver\n",
    "from selenium.webdriver.support.ui import Select\n",
    "from datetime import datetime\n",
    "\n",
    "\n",
    "import requests\n",
    "from bs4 import BeautifulSoup\n",
    "import re as re\n",
    "import time\n",
    "import pandas as pd\n",
    "import numpy as np\n",
    "\n",
    "import nltk\n",
    "from nltk.tokenize import word_tokenize\n",
    "from nltk.corpus import stopwords\n",
    "from collections import Counter\n"
   ]
  },
  {
   "cell_type": "markdown",
   "id": "772960a7",
   "metadata": {},
   "source": [
    "# Webscrapping"
   ]
  },
  {
   "cell_type": "markdown",
   "id": "f4941d4a",
   "metadata": {},
   "source": [
    "## Importing BBC webscrapping"
   ]
  },
  {
   "cell_type": "markdown",
   "id": "45cc6d26",
   "metadata": {},
   "source": [
    "### Importing BBC source file"
   ]
  },
  {
   "cell_type": "code",
   "execution_count": 2,
   "id": "684912c9",
   "metadata": {},
   "outputs": [],
   "source": [
    "import src.py.BBC_webscrapping as bbc"
   ]
  },
  {
   "cell_type": "markdown",
   "id": "fb963ac1",
   "metadata": {},
   "source": [
    "### Getting the data"
   ]
  },
  {
   "cell_type": "code",
   "execution_count": 3,
   "id": "83e577ef",
   "metadata": {},
   "outputs": [],
   "source": [
    "df_bbc_russia = bbc.keyword('Russia',200)"
   ]
  },
  {
   "cell_type": "code",
   "execution_count": 4,
   "id": "2ba4f0bf",
   "metadata": {},
   "outputs": [],
   "source": [
    "df_bbc_china = bbc.keyword('China',200)"
   ]
  },
  {
   "cell_type": "markdown",
   "id": "d0b5af7a",
   "metadata": {},
   "source": [
    "### Saving data into CSV"
   ]
  },
  {
   "cell_type": "code",
   "execution_count": 5,
   "id": "f63b1682",
   "metadata": {},
   "outputs": [],
   "source": [
    "df_bbc_russia.to_csv('data/bbc_russia.csv',index=False)  "
   ]
  },
  {
   "cell_type": "code",
   "execution_count": 6,
   "id": "9f2e0ac7",
   "metadata": {},
   "outputs": [],
   "source": [
    "df_bbc_china.to_csv('data/bbc_china.csv',index=False)  "
   ]
  },
  {
   "cell_type": "markdown",
   "id": "a4aa9528",
   "metadata": {},
   "source": [
    "## Importing CNN webscrapping"
   ]
  },
  {
   "cell_type": "markdown",
   "id": "d2db3b85",
   "metadata": {},
   "source": [
    "### Importing the source"
   ]
  },
  {
   "cell_type": "code",
   "execution_count": 2,
   "id": "cb85a04b",
   "metadata": {},
   "outputs": [],
   "source": [
    "import src.py.CNN_webscrapping as cnn"
   ]
  },
  {
   "cell_type": "markdown",
   "id": "fe613a43",
   "metadata": {},
   "source": [
    "### Getting the data"
   ]
  },
  {
   "cell_type": "code",
   "execution_count": 3,
   "id": "9015b2bc",
   "metadata": {},
   "outputs": [],
   "source": [
    "df_cnn_russia = cnn.keyword('Russia',200)"
   ]
  },
  {
   "cell_type": "code",
   "execution_count": 3,
   "id": "b3e69da4",
   "metadata": {},
   "outputs": [],
   "source": [
    "df_cnn_china = cnn.keyword('China',200)"
   ]
  },
  {
   "cell_type": "markdown",
   "id": "d0a5bc16",
   "metadata": {},
   "source": [
    "### Saving data into CSV"
   ]
  },
  {
   "cell_type": "code",
   "execution_count": 4,
   "id": "31b2dc91",
   "metadata": {},
   "outputs": [],
   "source": [
    "df_cnn_russia.to_csv('data/cnn_russia.csv',index=False)"
   ]
  },
  {
   "cell_type": "code",
   "execution_count": 4,
   "id": "35c96e46",
   "metadata": {},
   "outputs": [],
   "source": [
    "df_cnn_china.to_csv('data/cnn_china.csv',index=False)"
   ]
  },
  {
   "cell_type": "markdown",
   "id": "c178d12d",
   "metadata": {},
   "source": [
    "### Importing the source"
   ]
  },
  {
   "cell_type": "code",
   "execution_count": 5,
   "id": "8a6fccb8",
   "metadata": {},
   "outputs": [],
   "source": [
    "import src.py.peoples_webscrapping as pdo"
   ]
  },
  {
   "cell_type": "markdown",
   "id": "19b70ed5",
   "metadata": {},
   "source": [
    "### Getting the data"
   ]
  },
  {
   "cell_type": "code",
   "execution_count": 6,
   "id": "5b698483",
   "metadata": {},
   "outputs": [],
   "source": [
    "df_united_states = pdo.keyword('United States',60)"
   ]
  },
  {
   "cell_type": "code",
   "execution_count": 8,
   "id": "43ae916b",
   "metadata": {},
   "outputs": [],
   "source": [
    "df_usa = pdo.keyword('USA',60)"
   ]
  },
  {
   "cell_type": "code",
   "execution_count": 9,
   "id": "5c8fd23d",
   "metadata": {},
   "outputs": [],
   "source": [
    "df_us_all=pd.concat([df_united_states,df_usa])"
   ]
  },
  {
   "cell_type": "code",
   "execution_count": 18,
   "id": "b0b6798a",
   "metadata": {},
   "outputs": [
    {
     "data": {
      "text/plain": [
       "120"
      ]
     },
     "execution_count": 18,
     "metadata": {},
     "output_type": "execute_result"
    }
   ],
   "source": [
    "len(df_uk_all)"
   ]
  },
  {
   "cell_type": "code",
   "execution_count": 13,
   "id": "bb86ea7b",
   "metadata": {},
   "outputs": [],
   "source": [
    "df_uk = pdo.keyword('UK',60)"
   ]
  },
  {
   "cell_type": "code",
   "execution_count": 14,
   "id": "5951d920",
   "metadata": {},
   "outputs": [],
   "source": [
    "df_united_kingdom = pdo.keyword('United Kingdom',60)"
   ]
  },
  {
   "cell_type": "code",
   "execution_count": 17,
   "id": "fc36f0f6",
   "metadata": {},
   "outputs": [],
   "source": [
    "df_uk_all=pd.concat([df_uk,df_united_kingdom])"
   ]
  },
  {
   "cell_type": "markdown",
   "id": "a2714321",
   "metadata": {},
   "source": [
    "### Saving into CSV"
   ]
  },
  {
   "cell_type": "code",
   "execution_count": 10,
   "id": "b6a9573c",
   "metadata": {},
   "outputs": [],
   "source": [
    "df_us_all.to_csv('data/pdo_united_states.csv',index=False)  "
   ]
  },
  {
   "cell_type": "code",
   "execution_count": 19,
   "id": "2aa57c29",
   "metadata": {},
   "outputs": [],
   "source": [
    "df_uk_all.to_csv('data/pdo_united_kingdom.csv',index=False)  "
   ]
  },
  {
   "cell_type": "markdown",
   "id": "08bd60e4",
   "metadata": {},
   "source": [
    "## Importing RT webscrapping"
   ]
  },
  {
   "cell_type": "markdown",
   "id": "4f2b854c",
   "metadata": {},
   "source": [
    "### Importing the source"
   ]
  },
  {
   "cell_type": "code",
   "execution_count": 20,
   "id": "16b4641f",
   "metadata": {},
   "outputs": [],
   "source": [
    "import src.py.RT_webscrapping as rt"
   ]
  },
  {
   "cell_type": "markdown",
   "id": "a6a53fd2",
   "metadata": {},
   "source": [
    "### Getting the data"
   ]
  },
  {
   "cell_type": "code",
   "execution_count": 21,
   "id": "8fb602b7",
   "metadata": {},
   "outputs": [],
   "source": [
    "df_united_states = rt.keyword('United States',100)"
   ]
  },
  {
   "cell_type": "code",
   "execution_count": 29,
   "id": "5eeff590",
   "metadata": {},
   "outputs": [],
   "source": [
    "df_usa = rt.keyword('USA',20)"
   ]
  },
  {
   "cell_type": "code",
   "execution_count": 30,
   "id": "91e48417",
   "metadata": {},
   "outputs": [],
   "source": [
    "df_us_all= pd.concat([df_united_states,df_usa])"
   ]
  },
  {
   "cell_type": "code",
   "execution_count": 33,
   "id": "f3799cd7",
   "metadata": {},
   "outputs": [],
   "source": [
    "df_united_kingdom = rt.keyword('United Kingdom',70)"
   ]
  },
  {
   "cell_type": "code",
   "execution_count": 45,
   "id": "a3de202d",
   "metadata": {},
   "outputs": [],
   "source": [
    "df_uk = rt.keyword('uk',40)"
   ]
  },
  {
   "cell_type": "code",
   "execution_count": 46,
   "id": "a635d467",
   "metadata": {},
   "outputs": [
    {
     "data": {
      "text/html": [
       "<div>\n",
       "<style scoped>\n",
       "    .dataframe tbody tr th:only-of-type {\n",
       "        vertical-align: middle;\n",
       "    }\n",
       "\n",
       "    .dataframe tbody tr th {\n",
       "        vertical-align: top;\n",
       "    }\n",
       "\n",
       "    .dataframe thead th {\n",
       "        text-align: right;\n",
       "    }\n",
       "</style>\n",
       "<table border=\"1\" class=\"dataframe\">\n",
       "  <thead>\n",
       "    <tr style=\"text-align: right;\">\n",
       "      <th></th>\n",
       "      <th>title</th>\n",
       "      <th>article</th>\n",
       "      <th>link</th>\n",
       "      <th>year</th>\n",
       "      <th>month</th>\n",
       "      <th>day</th>\n",
       "    </tr>\n",
       "  </thead>\n",
       "  <tbody>\n",
       "    <tr>\n",
       "      <th>0</th>\n",
       "      <td>Ex-US soldier sentenced to 45 years for terror...</td>\n",
       "      <td>Ex-US soldier sentenced to 45 years fo...</td>\n",
       "      <td>https://www.rt.com/news/572463-ex-us-soldier-s...</td>\n",
       "      <td>2023</td>\n",
       "      <td>Mar</td>\n",
       "      <td>04</td>\n",
       "    </tr>\n",
       "    <tr>\n",
       "      <th>1</th>\n",
       "      <td>UK-led Ukraine arms fund plagued by delays – G...</td>\n",
       "      <td>UK-led Ukraine arms fund plagued by de...</td>\n",
       "      <td>https://www.rt.com/news/572542-uk-ukraine-aid-...</td>\n",
       "      <td>2023</td>\n",
       "      <td>Mar</td>\n",
       "      <td>06</td>\n",
       "    </tr>\n",
       "    <tr>\n",
       "      <th>2</th>\n",
       "      <td>Seymour Hersh explains why he believes US blew...</td>\n",
       "      <td>Seymour Hersh explains why he believes...</td>\n",
       "      <td>https://www.rt.com/news/571996-seymour-hersh-g...</td>\n",
       "      <td>2023</td>\n",
       "      <td>Feb</td>\n",
       "      <td>23</td>\n",
       "    </tr>\n",
       "    <tr>\n",
       "      <th>3</th>\n",
       "      <td>Biden hasn't approved controversial Alaska oil...</td>\n",
       "      <td>Biden hasn't approved controversial Al...</td>\n",
       "      <td>https://www.rt.com/news/572825-biden-denies-al...</td>\n",
       "      <td>2023</td>\n",
       "      <td>Mar</td>\n",
       "      <td>11</td>\n",
       "    </tr>\n",
       "    <tr>\n",
       "      <th>4</th>\n",
       "      <td>British pet cats faced Covid-linked exterminat...</td>\n",
       "      <td>British pet cats faced Covid-linked ex...</td>\n",
       "      <td>https://www.rt.com/news/572296-uk-cat-cull-covid/</td>\n",
       "      <td>2023</td>\n",
       "      <td>Mar</td>\n",
       "      <td>02</td>\n",
       "    </tr>\n",
       "    <tr>\n",
       "      <th>5</th>\n",
       "      <td>Hate crimes against Russians rising in UK – Sk...</td>\n",
       "      <td>Hate crimes against Russians rising in...</td>\n",
       "      <td>https://www.rt.com/news/572373-hate-crime-russ...</td>\n",
       "      <td>2023</td>\n",
       "      <td>Mar</td>\n",
       "      <td>03</td>\n",
       "    </tr>\n",
       "    <tr>\n",
       "      <th>6</th>\n",
       "      <td>US ‘doomsday plane’ flies to Europe — RT World...</td>\n",
       "      <td>US ‘doomsday plane’ flies to Europe   ...</td>\n",
       "      <td>https://www.rt.com/news/572269-us-doomsday-pla...</td>\n",
       "      <td>2023</td>\n",
       "      <td>Mar</td>\n",
       "      <td>01</td>\n",
       "    </tr>\n",
       "    <tr>\n",
       "      <th>7</th>\n",
       "      <td>Pentagon orders fix for all F-35s globally — R...</td>\n",
       "      <td>Pentagon orders fix for all F-35s glob...</td>\n",
       "      <td>https://www.rt.com/news/572421-pentagon-orders...</td>\n",
       "      <td>2023</td>\n",
       "      <td>Mar</td>\n",
       "      <td>03</td>\n",
       "    </tr>\n",
       "    <tr>\n",
       "      <th>8</th>\n",
       "      <td>EU nation backs Chinese peace plan — RT World ...</td>\n",
       "      <td>EU nation backs Chinese peace plan    ...</td>\n",
       "      <td>https://www.rt.com/news/572160-eu-nation-china...</td>\n",
       "      <td>2023</td>\n",
       "      <td>Feb</td>\n",
       "      <td>27</td>\n",
       "    </tr>\n",
       "    <tr>\n",
       "      <th>9</th>\n",
       "      <td>The US military plans to use deep fakes and ta...</td>\n",
       "      <td>The US military plans to use deep fake...</td>\n",
       "      <td>https://www.rt.com/news/572674-us-pentagon-dee...</td>\n",
       "      <td>2023</td>\n",
       "      <td>Mar</td>\n",
       "      <td>09</td>\n",
       "    </tr>\n",
       "    <tr>\n",
       "      <th>10</th>\n",
       "      <td>Biden clarifies position on warplanes for Kiev...</td>\n",
       "      <td>Biden clarifies position on warplanes ...</td>\n",
       "      <td>https://www.rt.com/news/572047-biden-ukraine-z...</td>\n",
       "      <td>2023</td>\n",
       "      <td>Feb</td>\n",
       "      <td>25</td>\n",
       "    </tr>\n",
       "    <tr>\n",
       "      <th>11</th>\n",
       "      <td>UK tennis faces ‘existential threat’ over Russ...</td>\n",
       "      <td>UK tennis faces ‘existential threat’ o...</td>\n",
       "      <td>https://www.rt.com/news/572161-uk-tennis-exist...</td>\n",
       "      <td>2023</td>\n",
       "      <td>Feb</td>\n",
       "      <td>27</td>\n",
       "    </tr>\n",
       "    <tr>\n",
       "      <th>12</th>\n",
       "      <td>MI5 apologizes for not preventing terror attac...</td>\n",
       "      <td>MI5 apologizes for not preventing terr...</td>\n",
       "      <td>https://www.rt.com/news/572358-mi5-apologizes-...</td>\n",
       "      <td>2023</td>\n",
       "      <td>Mar</td>\n",
       "      <td>02</td>\n",
       "    </tr>\n",
       "    <tr>\n",
       "      <th>13</th>\n",
       "      <td>'Classic' children’s books to be published aft...</td>\n",
       "      <td>'Classic' children’s books to be publi...</td>\n",
       "      <td>https://www.rt.com/news/572043-roald-dahl-book...</td>\n",
       "      <td>2023</td>\n",
       "      <td>Feb</td>\n",
       "      <td>25</td>\n",
       "    </tr>\n",
       "    <tr>\n",
       "      <th>14</th>\n",
       "      <td>NATO members float Ukraine negotiations plan –...</td>\n",
       "      <td>NATO members float Ukraine negotiation...</td>\n",
       "      <td>https://www.rt.com/news/572032-macron-scholz-z...</td>\n",
       "      <td>2023</td>\n",
       "      <td>Feb</td>\n",
       "      <td>24</td>\n",
       "    </tr>\n",
       "    <tr>\n",
       "      <th>15</th>\n",
       "      <td>Russia hit with fresh sanctions — RT World News</td>\n",
       "      <td>Russia hit with fresh sanctions       ...</td>\n",
       "      <td>https://www.rt.com/news/572026-australia-new-z...</td>\n",
       "      <td>2023</td>\n",
       "      <td>Feb</td>\n",
       "      <td>24</td>\n",
       "    </tr>\n",
       "    <tr>\n",
       "      <th>16</th>\n",
       "      <td>Support for Ukraine aid in decline across West...</td>\n",
       "      <td>Support for Ukraine aid in decline acr...</td>\n",
       "      <td>https://www.rt.com/news/572602-support-aid-ukr...</td>\n",
       "      <td>2023</td>\n",
       "      <td>Mar</td>\n",
       "      <td>07</td>\n",
       "    </tr>\n",
       "    <tr>\n",
       "      <th>17</th>\n",
       "      <td>Millions of NYC rats could have Covid-19 – stu...</td>\n",
       "      <td>Millions of NYC rats could have Covid-...</td>\n",
       "      <td>https://www.rt.com/news/572724-rats-human-viru...</td>\n",
       "      <td>2023</td>\n",
       "      <td>Mar</td>\n",
       "      <td>09</td>\n",
       "    </tr>\n",
       "    <tr>\n",
       "      <th>18</th>\n",
       "      <td>West races to procure Soviet arms – media — RT...</td>\n",
       "      <td>West races to procure Soviet arms – me...</td>\n",
       "      <td>https://www.rt.com/news/571995-nato-members-se...</td>\n",
       "      <td>2023</td>\n",
       "      <td>Feb</td>\n",
       "      <td>23</td>\n",
       "    </tr>\n",
       "    <tr>\n",
       "      <th>19</th>\n",
       "      <td>Ex-BBC boss believes it's game over for top pr...</td>\n",
       "      <td>Ex-BBC boss believes it's game over fo...</td>\n",
       "      <td>https://www.rt.com/news/572727-bbc-presenter-i...</td>\n",
       "      <td>2023</td>\n",
       "      <td>Mar</td>\n",
       "      <td>10</td>\n",
       "    </tr>\n",
       "    <tr>\n",
       "      <th>20</th>\n",
       "      <td>Almost half of UK viewers think minorities ove...</td>\n",
       "      <td>Almost half of UK viewers think minori...</td>\n",
       "      <td>https://www.rt.com/news/572327-minorities-over...</td>\n",
       "      <td>2023</td>\n",
       "      <td>Mar</td>\n",
       "      <td>02</td>\n",
       "    </tr>\n",
       "    <tr>\n",
       "      <th>21</th>\n",
       "      <td>West considers peace talks deadline for Ukrain...</td>\n",
       "      <td>HomeRussia &amp; Former Soviet Union        West c...</td>\n",
       "      <td>https://www.rt.com/news/572144-west-ultimatum-...</td>\n",
       "      <td>2023</td>\n",
       "      <td>Feb</td>\n",
       "      <td>27</td>\n",
       "    </tr>\n",
       "    <tr>\n",
       "      <th>22</th>\n",
       "      <td>UK asks Olympic sponsors to ‘pressure’ IOC – m...</td>\n",
       "      <td>UK asks Olympic sponsors to ‘pressure’...</td>\n",
       "      <td>https://www.rt.com/news/572806-uk-pressure-oly...</td>\n",
       "      <td>2023</td>\n",
       "      <td>Mar</td>\n",
       "      <td>11</td>\n",
       "    </tr>\n",
       "    <tr>\n",
       "      <th>23</th>\n",
       "      <td>Asian ally announces more arms purchases from ...</td>\n",
       "      <td>Asian ally announces more arms purchas...</td>\n",
       "      <td>https://www.rt.com/news/572208-japan-us-tomaha...</td>\n",
       "      <td>2023</td>\n",
       "      <td>Feb</td>\n",
       "      <td>28</td>\n",
       "    </tr>\n",
       "    <tr>\n",
       "      <th>24</th>\n",
       "      <td>EU approves new anti-Russia sanctions — RT Wor...</td>\n",
       "      <td>EU approves new anti-Russia sanctions ...</td>\n",
       "      <td>https://www.rt.com/news/572041-eu-approves-ant...</td>\n",
       "      <td>2023</td>\n",
       "      <td>Feb</td>\n",
       "      <td>24</td>\n",
       "    </tr>\n",
       "    <tr>\n",
       "      <th>25</th>\n",
       "      <td>Former UK FM dreams of mutiny against Putin in...</td>\n",
       "      <td>Former UK FM dreams of mutiny against ...</td>\n",
       "      <td>https://www.rt.com/news/572268-former-uk-fm-pu...</td>\n",
       "      <td>2023</td>\n",
       "      <td>Mar</td>\n",
       "      <td>01</td>\n",
       "    </tr>\n",
       "    <tr>\n",
       "      <th>26</th>\n",
       "      <td>School suspends sex education after drag queen...</td>\n",
       "      <td>School suspends sex education after dr...</td>\n",
       "      <td>https://www.rt.com/news/572203-drag-queen-scho...</td>\n",
       "      <td>2023</td>\n",
       "      <td>Feb</td>\n",
       "      <td>28</td>\n",
       "    </tr>\n",
       "    <tr>\n",
       "      <th>27</th>\n",
       "      <td>Key UK-EU gas pipeline out of commission — RT ...</td>\n",
       "      <td>Key UK-EU gas pipeline out of commissi...</td>\n",
       "      <td>https://www.rt.com/news/572504-uk-europe-pipel...</td>\n",
       "      <td>2023</td>\n",
       "      <td>Mar</td>\n",
       "      <td>05</td>\n",
       "    </tr>\n",
       "    <tr>\n",
       "      <th>28</th>\n",
       "      <td>Australia vows to protect US nuclear ‘crown je...</td>\n",
       "      <td>Australia vows to protect US nuclear ‘...</td>\n",
       "      <td>https://www.rt.com/news/572366-australia-us-cr...</td>\n",
       "      <td>2023</td>\n",
       "      <td>Mar</td>\n",
       "      <td>03</td>\n",
       "    </tr>\n",
       "    <tr>\n",
       "      <th>29</th>\n",
       "      <td>Ex-minister wanted to ‘frighten’ Brits into Co...</td>\n",
       "      <td>Ex-minister wanted to ‘frighten’ Brits...</td>\n",
       "      <td>https://www.rt.com/news/572494-uk-hancock-text...</td>\n",
       "      <td>2023</td>\n",
       "      <td>Mar</td>\n",
       "      <td>05</td>\n",
       "    </tr>\n",
       "    <tr>\n",
       "      <th>30</th>\n",
       "      <td>Weapons needed to strengthen Kiev’s negotiatin...</td>\n",
       "      <td>Weapons needed to strengthen Kiev’s ne...</td>\n",
       "      <td>https://www.rt.com/news/572779-weapons-kiev-ne...</td>\n",
       "      <td>2023</td>\n",
       "      <td>Mar</td>\n",
       "      <td>10</td>\n",
       "    </tr>\n",
       "    <tr>\n",
       "      <th>31</th>\n",
       "      <td>UK mulls spy-balloon fleet of its own — RT Wor...</td>\n",
       "      <td>UK mulls spy-balloon fleet of its own ...</td>\n",
       "      <td>https://www.rt.com/news/572610-uk-spy-balloon-...</td>\n",
       "      <td>2023</td>\n",
       "      <td>Mar</td>\n",
       "      <td>07</td>\n",
       "    </tr>\n",
       "    <tr>\n",
       "      <th>32</th>\n",
       "      <td>UK PM to launch anti-asylum bill — RT World News</td>\n",
       "      <td>UK PM to launch anti-asylum bill      ...</td>\n",
       "      <td>https://www.rt.com/news/572505-uk-anti-migrati...</td>\n",
       "      <td>2023</td>\n",
       "      <td>Mar</td>\n",
       "      <td>05</td>\n",
       "    </tr>\n",
       "    <tr>\n",
       "      <th>33</th>\n",
       "      <td>Convicted transgender rapist receives sentence...</td>\n",
       "      <td>Convicted transgender rapist receives ...</td>\n",
       "      <td>https://www.rt.com/news/572204-transgender-rap...</td>\n",
       "      <td>2023</td>\n",
       "      <td>Feb</td>\n",
       "      <td>28</td>\n",
       "    </tr>\n",
       "    <tr>\n",
       "      <th>34</th>\n",
       "      <td>US and UK stall on jets for Ukraine — RT World...</td>\n",
       "      <td>US and UK stall on jets for Ukraine   ...</td>\n",
       "      <td>https://www.rt.com/news/572020-no-fighter-jets...</td>\n",
       "      <td>2023</td>\n",
       "      <td>Feb</td>\n",
       "      <td>24</td>\n",
       "    </tr>\n",
       "    <tr>\n",
       "      <th>35</th>\n",
       "      <td>American leaders are ‘fundamentally stupid’ – ...</td>\n",
       "      <td>American leaders are ‘fundamentally st...</td>\n",
       "      <td>https://www.rt.com/news/572464-washington-stup...</td>\n",
       "      <td>2023</td>\n",
       "      <td>Mar</td>\n",
       "      <td>04</td>\n",
       "    </tr>\n",
       "    <tr>\n",
       "      <th>36</th>\n",
       "      <td>Argentina ends deal with UK on disputed island...</td>\n",
       "      <td>Argentina ends deal with UK on dispute...</td>\n",
       "      <td>https://www.rt.com/news/572363-argentina-uk-fa...</td>\n",
       "      <td>2023</td>\n",
       "      <td>Mar</td>\n",
       "      <td>02</td>\n",
       "    </tr>\n",
       "    <tr>\n",
       "      <th>37</th>\n",
       "      <td>Boris Johnson proposes knighthood for his fath...</td>\n",
       "      <td>Boris Johnson proposes knighthood for ...</td>\n",
       "      <td>https://www.rt.com/news/572552-uk-boris-johnso...</td>\n",
       "      <td>2023</td>\n",
       "      <td>Mar</td>\n",
       "      <td>06</td>\n",
       "    </tr>\n",
       "    <tr>\n",
       "      <th>38</th>\n",
       "      <td>Russia accuses UK of stalling poisoning probe ...</td>\n",
       "      <td>Russia accuses UK of stalling poisonin...</td>\n",
       "      <td>https://www.rt.com/news/572446-russia-uk-skrip...</td>\n",
       "      <td>2023</td>\n",
       "      <td>Mar</td>\n",
       "      <td>04</td>\n",
       "    </tr>\n",
       "    <tr>\n",
       "      <th>39</th>\n",
       "      <td>Young people turning to TikTok for health info...</td>\n",
       "      <td>Young people turning to TikTok for hea...</td>\n",
       "      <td>https://www.rt.com/news/572135-tiktok-health-a...</td>\n",
       "      <td>2023</td>\n",
       "      <td>Feb</td>\n",
       "      <td>27</td>\n",
       "    </tr>\n",
       "    <tr>\n",
       "      <th>40</th>\n",
       "      <td>Australian nuclear fleet ambitions emerge – Re...</td>\n",
       "      <td>Australian nuclear fleet ambitions eme...</td>\n",
       "      <td>https://www.rt.com/news/572698-australia-nucle...</td>\n",
       "      <td>2023</td>\n",
       "      <td>Mar</td>\n",
       "      <td>09</td>\n",
       "    </tr>\n",
       "    <tr>\n",
       "      <th>41</th>\n",
       "      <td>EU state bans TikTok from government devices —...</td>\n",
       "      <td>EU state bans TikTok from government d...</td>\n",
       "      <td>https://www.rt.com/news/572817-belgium-governm...</td>\n",
       "      <td>2023</td>\n",
       "      <td>Mar</td>\n",
       "      <td>11</td>\n",
       "    </tr>\n",
       "    <tr>\n",
       "      <th>42</th>\n",
       "      <td>UK MPs issue warning on ammunition stockpiles ...</td>\n",
       "      <td>UK MPs issue warning on ammunition sto...</td>\n",
       "      <td>https://www.rt.com/news/572569-uk-warning-low-...</td>\n",
       "      <td>2023</td>\n",
       "      <td>Mar</td>\n",
       "      <td>07</td>\n",
       "    </tr>\n",
       "    <tr>\n",
       "      <th>43</th>\n",
       "      <td>UK ‘baby drag act’ cancels shows, blaming ‘tro...</td>\n",
       "      <td>UK ‘baby drag act’ cancels shows, blam...</td>\n",
       "      <td>https://www.rt.com/news/572462-baby-drag-rave-...</td>\n",
       "      <td>2023</td>\n",
       "      <td>Mar</td>\n",
       "      <td>04</td>\n",
       "    </tr>\n",
       "    <tr>\n",
       "      <th>44</th>\n",
       "      <td>Beijing calls US world’s ‘primary nuclear thre...</td>\n",
       "      <td>Beijing calls US world’s ‘primary nucl...</td>\n",
       "      <td>https://www.rt.com/news/572433-china-us-nuclea...</td>\n",
       "      <td>2023</td>\n",
       "      <td>Mar</td>\n",
       "      <td>04</td>\n",
       "    </tr>\n",
       "    <tr>\n",
       "      <th>45</th>\n",
       "      <td>Two EU members offer jets to Ukraine — RT Worl...</td>\n",
       "      <td>Two EU members offer jets to Ukraine  ...</td>\n",
       "      <td>https://www.rt.com/news/572711-poland-slovakia...</td>\n",
       "      <td>2023</td>\n",
       "      <td>Mar</td>\n",
       "      <td>09</td>\n",
       "    </tr>\n",
       "    <tr>\n",
       "      <th>46</th>\n",
       "      <td>Dmitry Trenin: One year on, here's how the Ukr...</td>\n",
       "      <td>Dmitry Trenin: One year on, here's how...</td>\n",
       "      <td>https://www.rt.com/news/571927-war-reshaping-w...</td>\n",
       "      <td>2023</td>\n",
       "      <td>Feb</td>\n",
       "      <td>24</td>\n",
       "    </tr>\n",
       "  </tbody>\n",
       "</table>\n",
       "</div>"
      ],
      "text/plain": [
       "                                                title  \\\n",
       "0   Ex-US soldier sentenced to 45 years for terror...   \n",
       "1   UK-led Ukraine arms fund plagued by delays – G...   \n",
       "2   Seymour Hersh explains why he believes US blew...   \n",
       "3   Biden hasn't approved controversial Alaska oil...   \n",
       "4   British pet cats faced Covid-linked exterminat...   \n",
       "5   Hate crimes against Russians rising in UK – Sk...   \n",
       "6   US ‘doomsday plane’ flies to Europe — RT World...   \n",
       "7   Pentagon orders fix for all F-35s globally — R...   \n",
       "8   EU nation backs Chinese peace plan — RT World ...   \n",
       "9   The US military plans to use deep fakes and ta...   \n",
       "10  Biden clarifies position on warplanes for Kiev...   \n",
       "11  UK tennis faces ‘existential threat’ over Russ...   \n",
       "12  MI5 apologizes for not preventing terror attac...   \n",
       "13  'Classic' children’s books to be published aft...   \n",
       "14  NATO members float Ukraine negotiations plan –...   \n",
       "15    Russia hit with fresh sanctions — RT World News   \n",
       "16  Support for Ukraine aid in decline across West...   \n",
       "17  Millions of NYC rats could have Covid-19 – stu...   \n",
       "18  West races to procure Soviet arms – media — RT...   \n",
       "19  Ex-BBC boss believes it's game over for top pr...   \n",
       "20  Almost half of UK viewers think minorities ove...   \n",
       "21  West considers peace talks deadline for Ukrain...   \n",
       "22  UK asks Olympic sponsors to ‘pressure’ IOC – m...   \n",
       "23  Asian ally announces more arms purchases from ...   \n",
       "24  EU approves new anti-Russia sanctions — RT Wor...   \n",
       "25  Former UK FM dreams of mutiny against Putin in...   \n",
       "26  School suspends sex education after drag queen...   \n",
       "27  Key UK-EU gas pipeline out of commission — RT ...   \n",
       "28  Australia vows to protect US nuclear ‘crown je...   \n",
       "29  Ex-minister wanted to ‘frighten’ Brits into Co...   \n",
       "30  Weapons needed to strengthen Kiev’s negotiatin...   \n",
       "31  UK mulls spy-balloon fleet of its own — RT Wor...   \n",
       "32   UK PM to launch anti-asylum bill — RT World News   \n",
       "33  Convicted transgender rapist receives sentence...   \n",
       "34  US and UK stall on jets for Ukraine — RT World...   \n",
       "35  American leaders are ‘fundamentally stupid’ – ...   \n",
       "36  Argentina ends deal with UK on disputed island...   \n",
       "37  Boris Johnson proposes knighthood for his fath...   \n",
       "38  Russia accuses UK of stalling poisoning probe ...   \n",
       "39  Young people turning to TikTok for health info...   \n",
       "40  Australian nuclear fleet ambitions emerge – Re...   \n",
       "41  EU state bans TikTok from government devices —...   \n",
       "42  UK MPs issue warning on ammunition stockpiles ...   \n",
       "43  UK ‘baby drag act’ cancels shows, blaming ‘tro...   \n",
       "44  Beijing calls US world’s ‘primary nuclear thre...   \n",
       "45  Two EU members offer jets to Ukraine — RT Worl...   \n",
       "46  Dmitry Trenin: One year on, here's how the Ukr...   \n",
       "\n",
       "                                              article  \\\n",
       "0           Ex-US soldier sentenced to 45 years fo...   \n",
       "1           UK-led Ukraine arms fund plagued by de...   \n",
       "2           Seymour Hersh explains why he believes...   \n",
       "3           Biden hasn't approved controversial Al...   \n",
       "4           British pet cats faced Covid-linked ex...   \n",
       "5           Hate crimes against Russians rising in...   \n",
       "6           US ‘doomsday plane’ flies to Europe   ...   \n",
       "7           Pentagon orders fix for all F-35s glob...   \n",
       "8           EU nation backs Chinese peace plan    ...   \n",
       "9           The US military plans to use deep fake...   \n",
       "10          Biden clarifies position on warplanes ...   \n",
       "11          UK tennis faces ‘existential threat’ o...   \n",
       "12          MI5 apologizes for not preventing terr...   \n",
       "13          'Classic' children’s books to be publi...   \n",
       "14          NATO members float Ukraine negotiation...   \n",
       "15          Russia hit with fresh sanctions       ...   \n",
       "16          Support for Ukraine aid in decline acr...   \n",
       "17          Millions of NYC rats could have Covid-...   \n",
       "18          West races to procure Soviet arms – me...   \n",
       "19          Ex-BBC boss believes it's game over fo...   \n",
       "20          Almost half of UK viewers think minori...   \n",
       "21  HomeRussia & Former Soviet Union        West c...   \n",
       "22          UK asks Olympic sponsors to ‘pressure’...   \n",
       "23          Asian ally announces more arms purchas...   \n",
       "24          EU approves new anti-Russia sanctions ...   \n",
       "25          Former UK FM dreams of mutiny against ...   \n",
       "26          School suspends sex education after dr...   \n",
       "27          Key UK-EU gas pipeline out of commissi...   \n",
       "28          Australia vows to protect US nuclear ‘...   \n",
       "29          Ex-minister wanted to ‘frighten’ Brits...   \n",
       "30          Weapons needed to strengthen Kiev’s ne...   \n",
       "31          UK mulls spy-balloon fleet of its own ...   \n",
       "32          UK PM to launch anti-asylum bill      ...   \n",
       "33          Convicted transgender rapist receives ...   \n",
       "34          US and UK stall on jets for Ukraine   ...   \n",
       "35          American leaders are ‘fundamentally st...   \n",
       "36          Argentina ends deal with UK on dispute...   \n",
       "37          Boris Johnson proposes knighthood for ...   \n",
       "38          Russia accuses UK of stalling poisonin...   \n",
       "39          Young people turning to TikTok for hea...   \n",
       "40          Australian nuclear fleet ambitions eme...   \n",
       "41          EU state bans TikTok from government d...   \n",
       "42          UK MPs issue warning on ammunition sto...   \n",
       "43          UK ‘baby drag act’ cancels shows, blam...   \n",
       "44          Beijing calls US world’s ‘primary nucl...   \n",
       "45          Two EU members offer jets to Ukraine  ...   \n",
       "46          Dmitry Trenin: One year on, here's how...   \n",
       "\n",
       "                                                 link  year month day  \n",
       "0   https://www.rt.com/news/572463-ex-us-soldier-s...  2023   Mar  04  \n",
       "1   https://www.rt.com/news/572542-uk-ukraine-aid-...  2023   Mar  06  \n",
       "2   https://www.rt.com/news/571996-seymour-hersh-g...  2023   Feb  23  \n",
       "3   https://www.rt.com/news/572825-biden-denies-al...  2023   Mar  11  \n",
       "4   https://www.rt.com/news/572296-uk-cat-cull-covid/  2023   Mar  02  \n",
       "5   https://www.rt.com/news/572373-hate-crime-russ...  2023   Mar  03  \n",
       "6   https://www.rt.com/news/572269-us-doomsday-pla...  2023   Mar  01  \n",
       "7   https://www.rt.com/news/572421-pentagon-orders...  2023   Mar  03  \n",
       "8   https://www.rt.com/news/572160-eu-nation-china...  2023   Feb  27  \n",
       "9   https://www.rt.com/news/572674-us-pentagon-dee...  2023   Mar  09  \n",
       "10  https://www.rt.com/news/572047-biden-ukraine-z...  2023   Feb  25  \n",
       "11  https://www.rt.com/news/572161-uk-tennis-exist...  2023   Feb  27  \n",
       "12  https://www.rt.com/news/572358-mi5-apologizes-...  2023   Mar  02  \n",
       "13  https://www.rt.com/news/572043-roald-dahl-book...  2023   Feb  25  \n",
       "14  https://www.rt.com/news/572032-macron-scholz-z...  2023   Feb  24  \n",
       "15  https://www.rt.com/news/572026-australia-new-z...  2023   Feb  24  \n",
       "16  https://www.rt.com/news/572602-support-aid-ukr...  2023   Mar  07  \n",
       "17  https://www.rt.com/news/572724-rats-human-viru...  2023   Mar  09  \n",
       "18  https://www.rt.com/news/571995-nato-members-se...  2023   Feb  23  \n",
       "19  https://www.rt.com/news/572727-bbc-presenter-i...  2023   Mar  10  \n",
       "20  https://www.rt.com/news/572327-minorities-over...  2023   Mar  02  \n",
       "21  https://www.rt.com/news/572144-west-ultimatum-...  2023   Feb  27  \n",
       "22  https://www.rt.com/news/572806-uk-pressure-oly...  2023   Mar  11  \n",
       "23  https://www.rt.com/news/572208-japan-us-tomaha...  2023   Feb  28  \n",
       "24  https://www.rt.com/news/572041-eu-approves-ant...  2023   Feb  24  \n",
       "25  https://www.rt.com/news/572268-former-uk-fm-pu...  2023   Mar  01  \n",
       "26  https://www.rt.com/news/572203-drag-queen-scho...  2023   Feb  28  \n",
       "27  https://www.rt.com/news/572504-uk-europe-pipel...  2023   Mar  05  \n",
       "28  https://www.rt.com/news/572366-australia-us-cr...  2023   Mar  03  \n",
       "29  https://www.rt.com/news/572494-uk-hancock-text...  2023   Mar  05  \n",
       "30  https://www.rt.com/news/572779-weapons-kiev-ne...  2023   Mar  10  \n",
       "31  https://www.rt.com/news/572610-uk-spy-balloon-...  2023   Mar  07  \n",
       "32  https://www.rt.com/news/572505-uk-anti-migrati...  2023   Mar  05  \n",
       "33  https://www.rt.com/news/572204-transgender-rap...  2023   Feb  28  \n",
       "34  https://www.rt.com/news/572020-no-fighter-jets...  2023   Feb  24  \n",
       "35  https://www.rt.com/news/572464-washington-stup...  2023   Mar  04  \n",
       "36  https://www.rt.com/news/572363-argentina-uk-fa...  2023   Mar  02  \n",
       "37  https://www.rt.com/news/572552-uk-boris-johnso...  2023   Mar  06  \n",
       "38  https://www.rt.com/news/572446-russia-uk-skrip...  2023   Mar  04  \n",
       "39  https://www.rt.com/news/572135-tiktok-health-a...  2023   Feb  27  \n",
       "40  https://www.rt.com/news/572698-australia-nucle...  2023   Mar  09  \n",
       "41  https://www.rt.com/news/572817-belgium-governm...  2023   Mar  11  \n",
       "42  https://www.rt.com/news/572569-uk-warning-low-...  2023   Mar  07  \n",
       "43  https://www.rt.com/news/572462-baby-drag-rave-...  2023   Mar  04  \n",
       "44  https://www.rt.com/news/572433-china-us-nuclea...  2023   Mar  04  \n",
       "45  https://www.rt.com/news/572711-poland-slovakia...  2023   Mar  09  \n",
       "46  https://www.rt.com/news/571927-war-reshaping-w...  2023   Feb  24  "
      ]
     },
     "execution_count": 46,
     "metadata": {},
     "output_type": "execute_result"
    }
   ],
   "source": [
    "df_uk"
   ]
  },
  {
   "cell_type": "code",
   "execution_count": 47,
   "id": "601e4d0c",
   "metadata": {},
   "outputs": [],
   "source": [
    "df_uk_all=pd.concat([df_united_kingdom,df_uk])"
   ]
  },
  {
   "cell_type": "code",
   "execution_count": 48,
   "id": "b3005475",
   "metadata": {},
   "outputs": [
    {
     "data": {
      "text/plain": [
       "122"
      ]
     },
     "execution_count": 48,
     "metadata": {},
     "output_type": "execute_result"
    }
   ],
   "source": [
    "len(df_uk_all)"
   ]
  },
  {
   "cell_type": "markdown",
   "id": "0a180813",
   "metadata": {},
   "source": [
    "### Saving into CSV"
   ]
  },
  {
   "cell_type": "code",
   "execution_count": 32,
   "id": "9edb2b54",
   "metadata": {},
   "outputs": [],
   "source": [
    "df_us_all.to_csv('data/rt_united_states.csv',index=False)  "
   ]
  },
  {
   "cell_type": "code",
   "execution_count": 49,
   "id": "c97f8d62",
   "metadata": {},
   "outputs": [],
   "source": [
    "df_uk_all.to_csv('data/pdo_united_kingdom.csv',index=False)  "
   ]
  },
  {
   "cell_type": "code",
   "execution_count": null,
   "id": "06c63437",
   "metadata": {},
   "outputs": [],
   "source": []
  }
 ],
 "metadata": {
  "kernelspec": {
   "display_name": "ironhack",
   "language": "python",
   "name": "ironhack"
  },
  "language_info": {
   "codemirror_mode": {
    "name": "ipython",
    "version": 3
   },
   "file_extension": ".py",
   "mimetype": "text/x-python",
   "name": "python",
   "nbconvert_exporter": "python",
   "pygments_lexer": "ipython3",
   "version": "3.9.15"
  },
  "toc": {
   "base_numbering": 1,
   "nav_menu": {},
   "number_sections": true,
   "sideBar": true,
   "skip_h1_title": false,
   "title_cell": "Table of Contents",
   "title_sidebar": "Contents",
   "toc_cell": false,
   "toc_position": {},
   "toc_section_display": true,
   "toc_window_display": false
  }
 },
 "nbformat": 4,
 "nbformat_minor": 5
}
