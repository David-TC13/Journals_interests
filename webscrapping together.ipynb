{
 "cells": [
  {
   "cell_type": "code",
   "execution_count": 1,
   "id": "7e8ef9d0",
   "metadata": {},
   "outputs": [],
   "source": [
    "from selenium import webdriver\n",
    "from selenium.webdriver.common.keys import Keys\n",
    "from selenium.webdriver.common.by import By\n",
    "from selenium.webdriver.support.ui import WebDriverWait\n",
    "from selenium.webdriver.support import expected_conditions as EC\n",
    "from selenium import webdriver\n",
    "from selenium.webdriver.support.ui import Select\n",
    "from datetime import datetime\n",
    "\n",
    "import googletrans\n",
    "\n",
    "import requests\n",
    "from bs4 import BeautifulSoup\n",
    "import re as re\n",
    "import time\n",
    "import pandas as pd\n",
    "import numpy as np\n",
    "\n",
    "import nltk\n",
    "from nltk.sentiment.vader import SentimentIntensityAnalyzer\n",
    "from nltk.corpus import stopwords\n",
    "\n",
    "from wordcloud import WordCloud\n",
    "from langdetect import detect\n",
    "from textblob import TextBlob"
   ]
  },
  {
   "cell_type": "markdown",
   "id": "4a63c8d3",
   "metadata": {},
   "source": [
    "# Webscrapping"
   ]
  },
  {
   "cell_type": "markdown",
   "id": "f4941d4a",
   "metadata": {},
   "source": [
    "## Importing BBC webscrapping"
   ]
  },
  {
   "cell_type": "markdown",
   "id": "e7a6e016",
   "metadata": {},
   "source": [
    "### Importing BBC source file"
   ]
  },
  {
   "cell_type": "code",
   "execution_count": 2,
   "id": "b74cea2d",
   "metadata": {},
   "outputs": [],
   "source": [
    "import src.py.BBC_webscrapping as bbc"
   ]
  },
  {
   "cell_type": "markdown",
   "id": "831dc7cd",
   "metadata": {},
   "source": [
    "### Getting the data"
   ]
  },
  {
   "cell_type": "code",
   "execution_count": 3,
   "id": "83e577ef",
   "metadata": {},
   "outputs": [],
   "source": [
    "df_bbc_russia = bbc.keyword('Russia',100)"
   ]
  },
  {
   "cell_type": "code",
   "execution_count": 4,
   "id": "a9a36d9d",
   "metadata": {},
   "outputs": [],
   "source": [
    "df_bbc_china = bbc.keyword('China',100)"
   ]
  },
  {
   "cell_type": "markdown",
   "id": "2f5dc4de",
   "metadata": {},
   "source": [
    "### Saving data into CSV"
   ]
  },
  {
   "cell_type": "code",
   "execution_count": 5,
   "id": "f04f8a87",
   "metadata": {},
   "outputs": [],
   "source": [
    "df_bbc_russia.to_csv('data/bbc_russia.csv',index=False)  "
   ]
  },
  {
   "cell_type": "code",
   "execution_count": 6,
   "id": "17747cbb",
   "metadata": {},
   "outputs": [],
   "source": [
    "df_bbc_china.to_csv('data/bbc_china.csv',index=False)  "
   ]
  },
  {
   "cell_type": "markdown",
   "id": "d2d987ff",
   "metadata": {},
   "source": [
    "## Importing CNN webscrapping"
   ]
  },
  {
   "cell_type": "markdown",
   "id": "67810c62",
   "metadata": {},
   "source": [
    "### Importing the source"
   ]
  },
  {
   "cell_type": "code",
   "execution_count": 9,
   "id": "1776fcfa",
   "metadata": {},
   "outputs": [],
   "source": [
    "import src.py.CNN_webscrapping as cnn"
   ]
  },
  {
   "cell_type": "markdown",
   "id": "11815613",
   "metadata": {},
   "source": [
    "### Getting the data"
   ]
  },
  {
   "cell_type": "code",
   "execution_count": 11,
   "id": "66626b3f",
   "metadata": {},
   "outputs": [],
   "source": [
    "df_cnn_russia = cnn.keyword('Russia',100)"
   ]
  },
  {
   "cell_type": "code",
   "execution_count": 14,
   "id": "87267540",
   "metadata": {},
   "outputs": [],
   "source": [
    "df_cnn_china = cnn.keyword('China',100)"
   ]
  },
  {
   "cell_type": "markdown",
   "id": "2369c1ca",
   "metadata": {},
   "source": [
    "### Saving data into CSV"
   ]
  },
  {
   "cell_type": "code",
   "execution_count": 12,
   "id": "bfdb19e3",
   "metadata": {},
   "outputs": [],
   "source": [
    "df_cnn_russia.to_csv('data/cnn_russia.csv',index=False)"
   ]
  },
  {
   "cell_type": "code",
   "execution_count": 15,
   "id": "347b26b3",
   "metadata": {},
   "outputs": [],
   "source": [
    "df_cnn_china.to_csv('data/cnn_china.csv',index=False)"
   ]
  },
  {
   "cell_type": "markdown",
   "id": "fa8e3791",
   "metadata": {},
   "source": [
    "## Importing People's Daily Online"
   ]
  },
  {
   "cell_type": "markdown",
   "id": "ce57423a",
   "metadata": {},
   "source": [
    "### Importing the source"
   ]
  },
  {
   "cell_type": "code",
   "execution_count": 16,
   "id": "a35b8e2b",
   "metadata": {},
   "outputs": [],
   "source": [
    "import src.py.peoples_webscrapping as pdo"
   ]
  },
  {
   "cell_type": "markdown",
   "id": "76dccadc",
   "metadata": {},
   "source": [
    "### Getting the data"
   ]
  },
  {
   "cell_type": "code",
   "execution_count": 17,
   "id": "469c1768",
   "metadata": {},
   "outputs": [],
   "source": [
    "df_united_states = pdo.keyword('United States',50)"
   ]
  },
  {
   "cell_type": "code",
   "execution_count": null,
   "id": "d6808902",
   "metadata": {},
   "outputs": [],
   "source": [
    "df_usa = pdo.keyword('USA',50)"
   ]
  },
  {
   "cell_type": "code",
   "execution_count": null,
   "id": "3787404a",
   "metadata": {},
   "outputs": [],
   "source": [
    "df_uk = pdo.keyword('UK',50)"
   ]
  },
  {
   "cell_type": "code",
   "execution_count": null,
   "id": "a268b5b4",
   "metadata": {},
   "outputs": [],
   "source": [
    "df_united_kingdom = pdo.keyword('United Kingdom',50)"
   ]
  },
  {
   "cell_type": "markdown",
   "id": "67371e93",
   "metadata": {},
   "source": [
    "### Saving into CSV"
   ]
  },
  {
   "cell_type": "code",
   "execution_count": 18,
   "id": "d78c4fc8",
   "metadata": {},
   "outputs": [],
   "source": [
    "df_united_states.to_csv('data/pdo_united_states.csv',index=False)  "
   ]
  },
  {
   "cell_type": "code",
   "execution_count": null,
   "id": "b96b1188",
   "metadata": {},
   "outputs": [],
   "source": [
    "df_usa.to_csv('data/pdo_usa.csv',index=False)  "
   ]
  },
  {
   "cell_type": "code",
   "execution_count": null,
   "id": "ba3822a8",
   "metadata": {},
   "outputs": [],
   "source": [
    "df_united_kingdom.to_csv('data/pdo_united_kingdom.csv',index=False)  "
   ]
  },
  {
   "cell_type": "code",
   "execution_count": null,
   "id": "6ca44491",
   "metadata": {},
   "outputs": [],
   "source": [
    "df_uk.to_csv('data/pdo_uk.csv',index=False)  "
   ]
  }
 ],
 "metadata": {
  "kernelspec": {
   "display_name": "ironhack",
   "language": "python",
   "name": "ironhack"
  },
  "language_info": {
   "codemirror_mode": {
    "name": "ipython",
    "version": 3
   },
   "file_extension": ".py",
   "mimetype": "text/x-python",
   "name": "python",
   "nbconvert_exporter": "python",
   "pygments_lexer": "ipython3",
   "version": "3.9.15"
  },
  "toc": {
   "base_numbering": 1,
   "nav_menu": {},
   "number_sections": true,
   "sideBar": true,
   "skip_h1_title": false,
   "title_cell": "Table of Contents",
   "title_sidebar": "Contents",
   "toc_cell": false,
   "toc_position": {},
   "toc_section_display": true,
   "toc_window_display": false
  }
 },
 "nbformat": 4,
 "nbformat_minor": 5
}
